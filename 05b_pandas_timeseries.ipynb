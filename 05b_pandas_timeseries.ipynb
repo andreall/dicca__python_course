{
 "cells": [
  {
   "cell_type": "markdown",
   "metadata": {
    "id": "1A5jvl8BivV7"
   },
   "source": [
    "# Pandas: Time Series"
   ]
  },
  {
   "cell_type": "markdown",
   "metadata": {
    "id": "diPfOduyivV7"
   },
   "source": [
    "### Native Python dates and times: ``datetime`` and ``dateutil``\n",
    "\n",
    "Python's basic objects for working with dates and times reside in the built-in ``datetime`` module.\n",
    "Along with the third-party ``dateutil`` module, you can use it to quickly perform a host of useful functionalities on dates and times.\n",
    "For example, you can manually build a date using the ``datetime`` type:"
   ]
  },
  {
   "cell_type": "code",
   "execution_count": 1,
   "metadata": {
    "id": "ai8mid8bivV8",
    "outputId": "13b4c356-8786-44ac-f838-439e899caf2a"
   },
   "outputs": [
    {
     "data": {
      "text/plain": [
       "datetime.datetime(2015, 7, 4, 0, 0)"
      ]
     },
     "execution_count": 1,
     "metadata": {},
     "output_type": "execute_result"
    }
   ],
   "source": [
    "from datetime import datetime\n",
    "datetime(year=2015, month=7, day=4)"
   ]
  },
  {
   "cell_type": "markdown",
   "metadata": {
    "id": "zSIt1YxhivV8"
   },
   "source": [
    "Or, using the ``dateutil`` module, you can parse dates from a variety of string formats:"
   ]
  },
  {
   "cell_type": "code",
   "execution_count": 3,
   "metadata": {
    "id": "Ms6gcVFOivV9",
    "outputId": "de94588b-c4e9-4d08-c596-f138be0c9a8b"
   },
   "outputs": [
    {
     "data": {
      "text/plain": [
       "datetime.datetime(2015, 7, 4, 0, 0)"
      ]
     },
     "execution_count": 3,
     "metadata": {},
     "output_type": "execute_result"
    }
   ],
   "source": [
    "from dateutil import parser\n",
    "date = parser.parse(\"4th of July, 2015\")\n",
    "date"
   ]
  },
  {
   "cell_type": "markdown",
   "metadata": {
    "id": "pseoYzIWivV9"
   },
   "source": [
    "Once you have a ``datetime`` object, you can do things like printing the day of the week:"
   ]
  },
  {
   "cell_type": "code",
   "execution_count": 4,
   "metadata": {
    "id": "vcNCc9FnivV9",
    "outputId": "405ffe56-c4f2-4d60-cbc1-1e3d280dfb95"
   },
   "outputs": [
    {
     "data": {
      "text/plain": [
       "'Saturday'"
      ]
     },
     "execution_count": 4,
     "metadata": {},
     "output_type": "execute_result"
    }
   ],
   "source": [
    "date.strftime('%A')"
   ]
  },
  {
   "cell_type": "markdown",
   "metadata": {
    "id": "uoYM-yICivV9"
   },
   "source": [
    "In the final line, we've used one of the standard string format codes for printing dates (``\"%A\"``), which you can read about in the [strftime section](https://docs.python.org/3/library/datetime.html#strftime-and-strptime-behavior) of Python's [datetime documentation](https://docs.python.org/3/library/datetime.html).\n",
    "Documentation of other useful date utilities can be found in [dateutil's online documentation](http://labix.org/python-dateutil).\n",
    "A related package to be aware of is [``pytz``](http://pytz.sourceforge.net/), which contains tools for working with the most migrane-inducing piece of time series data: time zones.\n",
    "\n",
    "The power of ``datetime`` and ``dateutil`` lie in their flexibility and easy syntax: you can use these objects and their built-in methods to easily perform nearly any operation you might be interested in.\n",
    "Where they break down is when you wish to work with large arrays of dates and times:\n",
    "just as lists of Python numerical variables are suboptimal compared to NumPy-style typed numerical arrays, lists of Python datetime objects are suboptimal compared to typed arrays of encoded dates."
   ]
  },
  {
   "cell_type": "markdown",
   "metadata": {
    "id": "_dPZAth0ivV9"
   },
   "source": [
    "### Typed arrays of times: NumPy's ``datetime64``\n",
    "\n",
    "The weaknesses of Python's datetime format inspired the NumPy team to add a set of native time series data type to NumPy.\n",
    "The ``datetime64`` dtype encodes dates as 64-bit integers, and thus allows arrays of dates to be represented very compactly.\n",
    "The ``datetime64`` requires a very specific input format:"
   ]
  },
  {
   "cell_type": "code",
   "execution_count": 14,
   "metadata": {
    "id": "hg7RQiTWivV-",
    "outputId": "8c39a18f-9712-491e-b816-fb478ed1161e"
   },
   "outputs": [
    {
     "data": {
      "text/plain": [
       "array('2015-07-04T05:50', dtype='datetime64[m]')"
      ]
     },
     "execution_count": 14,
     "metadata": {},
     "output_type": "execute_result"
    }
   ],
   "source": [
    "import numpy as np\n",
    "date = np.array('2015-07-04 05:50', dtype=np.datetime64)\n",
    "date"
   ]
  },
  {
   "cell_type": "markdown",
   "metadata": {
    "id": "D2fP4GjHivV-"
   },
   "source": [
    "Once we have this date formatted, however, we can quickly do vectorized operations on it:"
   ]
  },
  {
   "cell_type": "code",
   "execution_count": 15,
   "metadata": {
    "id": "MWQyoRwGivV-",
    "outputId": "ec31a8c3-1be4-4afa-d7d4-328b1654a0df"
   },
   "outputs": [
    {
     "data": {
      "text/plain": [
       "array(['2015-07-04T05:50', '2015-07-04T05:51', '2015-07-04T05:52',\n",
       "       '2015-07-04T05:53', '2015-07-04T05:54', '2015-07-04T05:55',\n",
       "       '2015-07-04T05:56', '2015-07-04T05:57', '2015-07-04T05:58',\n",
       "       '2015-07-04T05:59', '2015-07-04T06:00', '2015-07-04T06:01'],\n",
       "      dtype='datetime64[m]')"
      ]
     },
     "execution_count": 15,
     "metadata": {},
     "output_type": "execute_result"
    }
   ],
   "source": [
    "date + np.arange(12)"
   ]
  },
  {
   "cell_type": "code",
   "execution_count": 7,
   "metadata": {
    "id": "oVqx4lQgivV_",
    "outputId": "fd8a2ab8-b7b0-4159-a58e-a9172da820b0"
   },
   "outputs": [
    {
     "data": {
      "text/plain": [
       "numpy.datetime64('2015-07-04T12:00')"
      ]
     },
     "execution_count": 7,
     "metadata": {},
     "output_type": "execute_result"
    }
   ],
   "source": [
    "np.datetime64('2015-07-04 12:00')"
   ]
  },
  {
   "cell_type": "markdown",
   "metadata": {
    "id": "ZoOa9DkeivV_"
   },
   "source": [
    "Notice that the time zone is automatically set to the local time on the computer executing the code.\n",
    "You can force any desired fundamental unit using one of many format codes; for example, here we'll force a nanosecond-based time:"
   ]
  },
  {
   "cell_type": "code",
   "execution_count": 7,
   "metadata": {
    "id": "0Vae8GVxivWA",
    "outputId": "22299253-86c0-4837-cb05-e7d91372dfa6"
   },
   "outputs": [
    {
     "data": {
      "text/plain": [
       "numpy.datetime64('2015-07-04T12:59:59.500000000')"
      ]
     },
     "execution_count": 7,
     "metadata": {},
     "output_type": "execute_result"
    }
   ],
   "source": [
    "np.datetime64('2015-07-04 12:59:59.50', 'ns')"
   ]
  },
  {
   "cell_type": "markdown",
   "metadata": {
    "id": "Nw8b4_gWivWA"
   },
   "source": [
    "The following table, drawn from the [NumPy datetime64 documentation](http://docs.scipy.org/doc/numpy/reference/arrays.datetime.html), lists the available format codes along with the relative and absolute timespans that they can encode:"
   ]
  },
  {
   "cell_type": "markdown",
   "metadata": {
    "id": "g4tU0NbOivWA"
   },
   "source": [
    "|Code    | Meaning     | Time span (relative) | Time span (absolute)   |\n",
    "|--------|-------------|----------------------|------------------------|\n",
    "| ``Y``  | Year\t       | ± 9.2e18 years       | [9.2e18 BC, 9.2e18 AD] |\n",
    "| ``M``  | Month       | ± 7.6e17 years       | [7.6e17 BC, 7.6e17 AD] |\n",
    "| ``W``  | Week\t       | ± 1.7e17 years       | [1.7e17 BC, 1.7e17 AD] |\n",
    "| ``D``  | Day         | ± 2.5e16 years       | [2.5e16 BC, 2.5e16 AD] |\n",
    "| ``h``  | Hour        | ± 1.0e15 years       | [1.0e15 BC, 1.0e15 AD] |\n",
    "| ``m``  | Minute      | ± 1.7e13 years       | [1.7e13 BC, 1.7e13 AD] |\n",
    "| ``s``  | Second      | ± 2.9e12 years       | [ 2.9e9 BC, 2.9e9 AD]  |\n",
    "| ``ms`` | Millisecond | ± 2.9e9 years        | [ 2.9e6 BC, 2.9e6 AD]  |\n",
    "| ``us`` | Microsecond | ± 2.9e6 years        | [290301 BC, 294241 AD] |\n",
    "| ``ns`` | Nanosecond  | ± 292 years          | [ 1678 AD, 2262 AD]    |\n",
    "| ``ps`` | Picosecond  | ± 106 days           | [ 1969 AD, 1970 AD]    |\n",
    "| ``fs`` | Femtosecond | ± 2.6 hours          | [ 1969 AD, 1970 AD]    |\n",
    "| ``as`` | Attosecond  | ± 9.2 seconds        | [ 1969 AD, 1970 AD]    |"
   ]
  },
  {
   "cell_type": "markdown",
   "metadata": {
    "id": "CD2eqxeFivWA"
   },
   "source": [
    "For the types of data we see in the real world, a useful default is ``datetime64[ns]``, as it can encode a useful range of modern dates with a suitably fine precision."
   ]
  },
  {
   "cell_type": "markdown",
   "metadata": {
    "id": "Ee5_ApZ1ivWA"
   },
   "source": [
    "### Dates and times in pandas: best of both worlds\n",
    "\n",
    "Pandas builds upon all the tools just discussed to provide a ``Timestamp`` object, which combines the ease-of-use of ``datetime`` and ``dateutil`` with the efficient storage and vectorized interface of ``numpy.datetime64``.\n",
    "From a group of these ``Timestamp`` objects, Pandas can construct a ``DatetimeIndex`` that can be used to index data in a ``Series`` or ``DataFrame``; we'll see many examples of this below."
   ]
  },
  {
   "cell_type": "code",
   "execution_count": 3,
   "metadata": {
    "id": "eHx3OEEbivWA",
    "outputId": "39d7a630-4f49-4173-9297-76d9bf71027a"
   },
   "outputs": [
    {
     "data": {
      "text/plain": [
       "Timestamp('2015-07-04 04:30:00')"
      ]
     },
     "execution_count": 3,
     "metadata": {},
     "output_type": "execute_result"
    }
   ],
   "source": [
    "import pandas as pd\n",
    "# date = pd.to_datetime(\"4th of July, 2015\")\n",
    "date = pd.to_datetime(\"04-07-2015 04:30\", dayfirst=True)\n",
    "date"
   ]
  },
  {
   "cell_type": "code",
   "execution_count": 21,
   "metadata": {
    "id": "CK36pUy4ivWB",
    "outputId": "e9170b0a-e306-4475-9d26-9e01bf658d19"
   },
   "outputs": [
    {
     "data": {
      "text/plain": [
       "'Saturday'"
      ]
     },
     "execution_count": 21,
     "metadata": {},
     "output_type": "execute_result"
    }
   ],
   "source": [
    "date.strftime('%A')"
   ]
  },
  {
   "cell_type": "code",
   "execution_count": 30,
   "metadata": {},
   "outputs": [
    {
     "data": {
      "text/plain": [
       "TimedeltaIndex([ '0 days',  '1 days',  '2 days',  '3 days',  '4 days',\n",
       "                 '5 days',  '6 days',  '7 days',  '8 days',  '9 days',\n",
       "                '10 days', '11 days'],\n",
       "               dtype='timedelta64[ns]', freq=None)"
      ]
     },
     "execution_count": 30,
     "metadata": {},
     "output_type": "execute_result"
    }
   ],
   "source": [
    "pd.to_timedelta(np.arange(12), 'D')"
   ]
  },
  {
   "cell_type": "code",
   "execution_count": 32,
   "metadata": {
    "id": "O7mC2h0UivWB",
    "outputId": "437f0cd5-4be5-4a81-fa7d-632863ed7613",
    "scrolled": true
   },
   "outputs": [
    {
     "data": {
      "text/plain": [
       "DatetimeIndex(['2015-07-04 04:30:00', '2015-07-05 04:30:00',\n",
       "               '2015-07-06 04:30:00', '2015-07-07 04:30:00',\n",
       "               '2015-07-08 04:30:00', '2015-07-09 04:30:00',\n",
       "               '2015-07-10 04:30:00', '2015-07-11 04:30:00',\n",
       "               '2015-07-12 04:30:00', '2015-07-13 04:30:00',\n",
       "               '2015-07-14 04:30:00', '2015-07-15 04:30:00'],\n",
       "              dtype='datetime64[ns]', freq=None)"
      ]
     },
     "execution_count": 32,
     "metadata": {},
     "output_type": "execute_result"
    }
   ],
   "source": [
    "date + pd.to_timedelta(np.arange(12), 'D')"
   ]
  },
  {
   "cell_type": "code",
   "execution_count": 10,
   "metadata": {},
   "outputs": [
    {
     "data": {
      "text/plain": [
       "TimedeltaIndex([ '0 days',  '1 days',  '2 days',  '3 days',  '4 days',\n",
       "                 '5 days',  '6 days',  '7 days',  '8 days',  '9 days',\n",
       "                '10 days', '11 days'],\n",
       "               dtype='timedelta64[ns]', freq=None)"
      ]
     },
     "execution_count": 10,
     "metadata": {},
     "output_type": "execute_result"
    }
   ],
   "source": [
    "pd.to_timedelta(np.arange(12), 'D')"
   ]
  },
  {
   "cell_type": "markdown",
   "metadata": {
    "id": "SfwXjOKYivWB"
   },
   "source": [
    "## Pandas Time Series: Indexing by Time\n",
    "\n",
    "Where the Pandas time series tools really become useful is when you begin to *index data by timestamps*.\n",
    "For example, we can construct a ``Series`` object that has time indexed data:"
   ]
  },
  {
   "cell_type": "code",
   "execution_count": 61,
   "metadata": {
    "id": "Y_u3NSLkivWB",
    "outputId": "16d23571-ef7f-454a-885d-69b3771e7a8f"
   },
   "outputs": [
    {
     "data": {
      "text/plain": [
       "2014-07-04    0\n",
       "2014-08-04    1\n",
       "2015-07-07    2\n",
       "2015-08-04    3\n",
       "dtype: int64"
      ]
     },
     "execution_count": 61,
     "metadata": {},
     "output_type": "execute_result"
    }
   ],
   "source": [
    "index = pd.DatetimeIndex(['2014-07-04', '2014-08-04',\n",
    "                          '2015-07-07', '2015-08-04'])\n",
    "data = pd.Series([0, 1, 2, 3], index=index)\n",
    "data"
   ]
  },
  {
   "cell_type": "code",
   "execution_count": 44,
   "metadata": {},
   "outputs": [
    {
     "data": {
      "text/plain": [
       "<AxesSubplot:>"
      ]
     },
     "execution_count": 44,
     "metadata": {},
     "output_type": "execute_result"
    },
    {
     "data": {
      "image/png": "[encoded data removed]",
      "text/plain": [
       "<Figure size 432x288 with 1 Axes>"
      ]
     },
     "metadata": {
      "needs_background": "light"
     },
     "output_type": "display_data"
    }
   ],
   "source": [
    "data.plot(marker='.')"
   ]
  },
  {
   "cell_type": "markdown",
   "metadata": {
    "id": "s0cTrRK5ivWC"
   },
   "source": [
    "Now that we have this data in a ``Series``, we can make use of any of the ``Series`` indexing patterns we discussed in previous sections, passing values that can be coerced into dates:"
   ]
  },
  {
   "cell_type": "code",
   "execution_count": 46,
   "metadata": {
    "id": "LooMknK9ivWC",
    "outputId": "04272245-e211-4823-f3f7-c23aaa928e78"
   },
   "outputs": [
    {
     "data": {
      "text/plain": [
       "2014-07-04    0\n",
       "2014-08-04    1\n",
       "2015-07-04    2\n",
       "dtype: int64"
      ]
     },
     "execution_count": 46,
     "metadata": {},
     "output_type": "execute_result"
    }
   ],
   "source": [
    "data['2014-07-04':'2015-07-04']"
   ]
  },
  {
   "cell_type": "markdown",
   "metadata": {
    "id": "equISoh0ivWC"
   },
   "source": [
    "There are additional special date-only indexing operations, such as passing a year to obtain a slice of all data from that year:"
   ]
  },
  {
   "cell_type": "code",
   "execution_count": 48,
   "metadata": {
    "id": "V3t4urkmivWC",
    "outputId": "791d1272-314c-4d9e-910b-89d1d1eb5450",
    "scrolled": false
   },
   "outputs": [
    {
     "data": {
      "text/plain": [
       "2015-07-04    2\n",
       "2015-08-04    3\n",
       "dtype: int64"
      ]
     },
     "execution_count": 48,
     "metadata": {},
     "output_type": "execute_result"
    }
   ],
   "source": [
    "data['2015']"
   ]
  },
  {
   "cell_type": "code",
   "execution_count": 58,
   "metadata": {},
   "outputs": [
    {
     "data": {
      "text/plain": [
       "Int64Index([0, 0, 0, 0], dtype='int64')"
      ]
     },
     "execution_count": 58,
     "metadata": {},
     "output_type": "execute_result"
    }
   ],
   "source": [
    "data.index.second"
   ]
  },
  {
   "cell_type": "code",
   "execution_count": 62,
   "metadata": {},
   "outputs": [
    {
     "data": {
      "text/plain": [
       "2015-07-07    2\n",
       "dtype: int64"
      ]
     },
     "execution_count": 62,
     "metadata": {},
     "output_type": "execute_result"
    }
   ],
   "source": [
    "data[data.index.day==7]"
   ]
  },
  {
   "cell_type": "markdown",
   "metadata": {
    "id": "YaKdGxvTivWC"
   },
   "source": [
    "Later, we will see additional examples of the convenience of dates-as-indices.\n",
    "But first, a closer look at the available time series data structures."
   ]
  },
  {
   "cell_type": "markdown",
   "metadata": {
    "id": "IH8-uonqivWC"
   },
   "source": [
    "## Pandas Time Series Data Structures\n",
    "\n",
    "This section will introduce the fundamental Pandas data structures for working with time series data:\n",
    "\n",
    "- For *time stamps*, Pandas provides the ``Timestamp`` type. As mentioned before, it is essentially a replacement for Python's native ``datetime``, but is based on the more efficient ``numpy.datetime64`` data type. The associated Index structure is ``DatetimeIndex``.\n",
    "- For *time Periods*, Pandas provides the ``Period`` type. This encodes a fixed-frequency interval based on ``numpy.datetime64``. The associated index structure is ``PeriodIndex``.\n",
    "- For *time deltas* or *durations*, Pandas provides the ``Timedelta`` type. ``Timedelta`` is a more efficient replacement for Python's native ``datetime.timedelta`` type, and is based on ``numpy.timedelta64``. The associated index structure is ``TimedeltaIndex``."
   ]
  },
  {
   "cell_type": "markdown",
   "metadata": {
    "id": "GvDgP-0aivWC"
   },
   "source": [
    "The most fundamental of these date/time objects are the ``Timestamp`` and ``DatetimeIndex`` objects.\n",
    "While these class objects can be invoked directly, it is more common to use the ``pd.to_datetime()`` function, which can parse a wide variety of formats.\n",
    "Passing a single date to ``pd.to_datetime()`` yields a ``Timestamp``; passing a series of dates by default yields a ``DatetimeIndex``:"
   ]
  },
  {
   "cell_type": "code",
   "execution_count": 63,
   "metadata": {
    "id": "2F5biPpbivWD",
    "outputId": "52a7d85a-8c77-4d2f-da1f-fc63279ccde7"
   },
   "outputs": [
    {
     "data": {
      "text/plain": [
       "DatetimeIndex(['2015-07-03', '2015-07-04', '2015-07-06', '2015-07-07',\n",
       "               '2015-07-08'],\n",
       "              dtype='datetime64[ns]', freq=None)"
      ]
     },
     "execution_count": 63,
     "metadata": {},
     "output_type": "execute_result"
    }
   ],
   "source": [
    "dates = pd.to_datetime([datetime(2015, 7, 3), '4th of July, 2015',\n",
    "                       '2015-Jul-6', '07-07-2015', '20150708'])\n",
    "dates"
   ]
  },
  {
   "cell_type": "markdown",
   "metadata": {
    "id": "-URMCOP_ivWD"
   },
   "source": [
    "A ``TimedeltaIndex`` is created, for example, when a date is subtracted from another:"
   ]
  },
  {
   "cell_type": "code",
   "execution_count": 64,
   "metadata": {
    "id": "9cWyjF8fivWD",
    "outputId": "c940b732-414e-47c0-b22b-818b77d2006e"
   },
   "outputs": [
    {
     "data": {
      "text/plain": [
       "TimedeltaIndex(['0 days', '1 days', '3 days', '4 days', '5 days'], dtype='timedelta64[ns]', freq=None)"
      ]
     },
     "execution_count": 64,
     "metadata": {},
     "output_type": "execute_result"
    }
   ],
   "source": [
    "dates - dates[0]"
   ]
  },
  {
   "cell_type": "markdown",
   "metadata": {
    "id": "OOaGhmktivWD"
   },
   "source": [
    "### Regular sequences: ``pd.date_range()``\n",
    "\n",
    "To make the creation of regular date sequences more convenient, Pandas offers a few functions for this purpose: ``pd.date_range()`` for timestamps, ``pd.period_range()`` for periods, and ``pd.timedelta_range()`` for time deltas.\n",
    "We've seen that Python's ``range()`` and NumPy's ``np.arange()`` turn a startpoint, endpoint, and optional stepsize into a sequence.\n",
    "Similarly, ``pd.date_range()`` accepts a start date, an end date, and an optional frequency code to create a regular sequence of dates.\n",
    "By default, the frequency is one day:"
   ]
  },
  {
   "cell_type": "code",
   "execution_count": 67,
   "metadata": {},
   "outputs": [
    {
     "data": {
      "text/plain": [
       "array([0, 1, 2, 3, 4, 5, 6, 7, 8, 9])"
      ]
     },
     "execution_count": 67,
     "metadata": {},
     "output_type": "execute_result"
    }
   ],
   "source": [
    "np.arange(0, 10)"
   ]
  },
  {
   "cell_type": "code",
   "execution_count": 68,
   "metadata": {
    "id": "e6nyt6qjivWD",
    "outputId": "572894fa-3cc7-4de7-96ff-62e887375ae0"
   },
   "outputs": [
    {
     "data": {
      "text/plain": [
       "DatetimeIndex(['2015-07-03', '2015-07-04', '2015-07-05', '2015-07-06',\n",
       "               '2015-07-07', '2015-07-08', '2015-07-09', '2015-07-10',\n",
       "               '2015-07-11', '2015-07-12',\n",
       "               ...\n",
       "               '2020-06-24', '2020-06-25', '2020-06-26', '2020-06-27',\n",
       "               '2020-06-28', '2020-06-29', '2020-06-30', '2020-07-01',\n",
       "               '2020-07-02', '2020-07-03'],\n",
       "              dtype='datetime64[ns]', length=1828, freq='D')"
      ]
     },
     "execution_count": 68,
     "metadata": {},
     "output_type": "execute_result"
    }
   ],
   "source": [
    "pd.date_range('2015-07-03', '2020-07-03')"
   ]
  },
  {
   "cell_type": "markdown",
   "metadata": {
    "id": "yNSrLNCrivWD"
   },
   "source": [
    "Alternatively, the date range can be specified not with a start and endpoint, but with a startpoint and a number of periods:"
   ]
  },
  {
   "cell_type": "code",
   "execution_count": 26,
   "metadata": {
    "id": "gtBxOG7tivWE",
    "outputId": "8c26ebc6-76f4-4a87-ce2d-d148452d0925"
   },
   "outputs": [
    {
     "data": {
      "text/plain": [
       "DatetimeIndex(['2015-07-03', '2015-07-04', '2015-07-05', '2015-07-06',\n",
       "               '2015-07-07', '2015-07-08', '2015-07-09', '2015-07-10'],\n",
       "              dtype='datetime64[ns]', freq='D')"
      ]
     },
     "execution_count": 26,
     "metadata": {},
     "output_type": "execute_result"
    }
   ],
   "source": [
    "pd.date_range('2015-07-03', periods=8)"
   ]
  },
  {
   "cell_type": "markdown",
   "metadata": {
    "id": "_Z0vVXM8ivWE"
   },
   "source": [
    "The spacing can be modified by altering the ``freq`` argument, which defaults to ``D``.\n",
    "For example, here we will construct a range of hourly timestamps:"
   ]
  },
  {
   "cell_type": "code",
   "execution_count": 31,
   "metadata": {
    "id": "dtC65k54ivWE",
    "outputId": "43d25a6c-447b-42e4-9e99-2f73da73725a"
   },
   "outputs": [
    {
     "data": {
      "text/plain": [
       "DatetimeIndex(['2015-08-01', '2015-09-01', '2015-10-01', '2015-11-01',\n",
       "               '2015-12-01', '2016-01-01', '2016-02-01', '2016-03-01'],\n",
       "              dtype='datetime64[ns]', freq='MS')"
      ]
     },
     "execution_count": 31,
     "metadata": {},
     "output_type": "execute_result"
    }
   ],
   "source": [
    "pd.date_range('2015-07-03', periods=8, freq='MS')"
   ]
  },
  {
   "cell_type": "markdown",
   "metadata": {
    "id": "A1Z0AMgDivWE"
   },
   "source": [
    "To create regular sequences of ``Period`` or ``Timedelta`` values, the very similar ``pd.period_range()`` and ``pd.timedelta_range()`` functions are useful.\n",
    "Here are some monthly periods:"
   ]
  },
  {
   "cell_type": "code",
   "execution_count": 32,
   "metadata": {
    "id": "abxqWMVsivWE",
    "outputId": "8c780d15-c4af-4219-ef1c-9a50ca13d6cc"
   },
   "outputs": [
    {
     "data": {
      "text/plain": [
       "PeriodIndex(['2015-07', '2015-08', '2015-09', '2015-10', '2015-11', '2015-12',\n",
       "             '2016-01', '2016-02'],\n",
       "            dtype='period[M]', freq='M')"
      ]
     },
     "execution_count": 32,
     "metadata": {},
     "output_type": "execute_result"
    }
   ],
   "source": [
    "pd.period_range('2015-07', periods=8, freq='M')"
   ]
  },
  {
   "cell_type": "markdown",
   "metadata": {
    "id": "SMWxSETkivWE"
   },
   "source": [
    "And a sequence of durations increasing by an hour:"
   ]
  },
  {
   "cell_type": "code",
   "execution_count": 33,
   "metadata": {
    "id": "Mx_KwcIhivWE",
    "outputId": "aaf9a9a5-278e-481a-87bd-8bab3c7ddffe"
   },
   "outputs": [
    {
     "data": {
      "text/plain": [
       "TimedeltaIndex(['0 days 00:00:00', '0 days 01:00:00', '0 days 02:00:00',\n",
       "                '0 days 03:00:00', '0 days 04:00:00', '0 days 05:00:00',\n",
       "                '0 days 06:00:00', '0 days 07:00:00', '0 days 08:00:00',\n",
       "                '0 days 09:00:00'],\n",
       "               dtype='timedelta64[ns]', freq='H')"
      ]
     },
     "execution_count": 33,
     "metadata": {},
     "output_type": "execute_result"
    }
   ],
   "source": [
    "pd.timedelta_range(0, periods=10, freq='H')"
   ]
  },
  {
   "cell_type": "markdown",
   "metadata": {
    "id": "9S1uAIDAivWE"
   },
   "source": [
    "## Frequencies and Offsets\n",
    "\n",
    "Fundamental to these Pandas time series tools is the concept of a frequency or date offset.\n",
    "Just as we saw the ``D`` (day) and ``H`` (hour) codes above, we can use such codes to specify any desired frequency spacing.\n",
    "The following table summarizes the main codes available:"
   ]
  },
  {
   "cell_type": "markdown",
   "metadata": {
    "id": "crS30Vd2ivWF"
   },
   "source": [
    "| Code   | Description         | Code   | Description          |\n",
    "|--------|---------------------|--------|----------------------|\n",
    "| ``D``  | Calendar day        | ``B``  | Business day         |\n",
    "| ``W``  | Weekly              |        |                      |\n",
    "| ``M``  | Month end           | ``BM`` | Business month end   |\n",
    "| ``Q``  | Quarter end         | ``BQ`` | Business quarter end |\n",
    "| ``A``  | Year end            | ``BA`` | Business year end    |\n",
    "| ``H``  | Hours               | ``BH`` | Business hours       |\n",
    "| ``T``  | Minutes             |        |                      |\n",
    "| ``S``  | Seconds             |        |                      |\n",
    "| ``L``  | Milliseonds         |        |                      |\n",
    "| ``U``  | Microseconds        |        |                      |\n",
    "| ``N``  | nanoseconds         |        |                      |"
   ]
  },
  {
   "cell_type": "markdown",
   "metadata": {
    "id": "lKWP_BelivWF"
   },
   "source": [
    "The monthly, quarterly, and annual frequencies are all marked at the end of the specified period.\n",
    "By adding an ``S`` suffix to any of these, they instead will be marked at the beginning:"
   ]
  },
  {
   "cell_type": "markdown",
   "metadata": {
    "id": "tGRoZ1sQivWF"
   },
   "source": [
    "| Code    | Description            || Code    | Description            |\n",
    "|---------|------------------------||---------|------------------------|\n",
    "| ``MS``  | Month start            ||``BMS``  | Business month start   |\n",
    "| ``QS``  | Quarter start          ||``BQS``  | Business quarter start |\n",
    "| ``AS``  | Year start             ||``BAS``  | Business year start    |"
   ]
  },
  {
   "cell_type": "markdown",
   "metadata": {
    "id": "FLLVs9p4ivWF"
   },
   "source": [
    "Additionally, you can change the month used to mark any quarterly or annual code by adding a three-letter month code as a suffix:\n",
    "\n",
    "- ``Q-JAN``, ``BQ-FEB``, ``QS-MAR``, ``BQS-APR``, etc.\n",
    "- ``A-JAN``, ``BA-FEB``, ``AS-MAR``, ``BAS-APR``, etc.\n",
    "\n",
    "In the same way, the split-point of the weekly frequency can be modified by adding a three-letter weekday code:\n",
    "\n",
    "- ``W-SUN``, ``W-MON``, ``W-TUE``, ``W-WED``, etc.\n",
    "\n",
    "On top of this, codes can be combined with numbers to specify other frequencies.\n",
    "For example, for a frequency of 2 hours 30 minutes, we can combine the hour (``H``) and minute (``T``) codes as follows:"
   ]
  },
  {
   "cell_type": "code",
   "execution_count": 69,
   "metadata": {
    "id": "ddL90xHZivWF",
    "outputId": "7180227b-5ff7-4f4a-d8f4-f1751bc425fa"
   },
   "outputs": [
    {
     "data": {
      "text/plain": [
       "TimedeltaIndex(['0 days 00:00:00', '0 days 02:30:00', '0 days 05:00:00',\n",
       "                '0 days 07:30:00', '0 days 10:00:00', '0 days 12:30:00',\n",
       "                '0 days 15:00:00', '0 days 17:30:00', '0 days 20:00:00'],\n",
       "               dtype='timedelta64[ns]', freq='150T')"
      ]
     },
     "execution_count": 69,
     "metadata": {},
     "output_type": "execute_result"
    }
   ],
   "source": [
    "pd.timedelta_range(0, periods=9, freq=\"2H30T\")"
   ]
  },
  {
   "cell_type": "markdown",
   "metadata": {
    "id": "q0IwYRwqivWF"
   },
   "source": [
    "All of these short codes refer to specific instances of Pandas time series offsets, which can be found in the ``pd.tseries.offsets`` module.\n",
    "For example, we can create a business day offset directly as follows:"
   ]
  },
  {
   "cell_type": "code",
   "execution_count": null,
   "metadata": {
    "id": "jVUrU1g3ivWF",
    "outputId": "47d3fb2b-7e43-4d9a-fa28-b03af85e6476"
   },
   "outputs": [
    {
     "data": {
      "text/plain": [
       "DatetimeIndex(['2015-07-01', '2015-07-02', '2015-07-03', '2015-07-06',\n",
       "               '2015-07-07'],\n",
       "              dtype='datetime64[ns]', freq='B')"
      ]
     },
     "execution_count": 24,
     "metadata": {
      "tags": []
     },
     "output_type": "execute_result"
    }
   ],
   "source": [
    "from pandas.tseries.offsets import BDay\n",
    "pd.date_range('2015-07-01', periods=5, freq=BDay())"
   ]
  },
  {
   "cell_type": "markdown",
   "metadata": {
    "id": "0JqiSPTYivWG"
   },
   "source": [
    "## Reading data"
   ]
  },
  {
   "cell_type": "code",
   "execution_count": 6,
   "metadata": {},
   "outputs": [
    {
     "data": {
      "text/html": [
       "<div>\n",
       "<style scoped>\n",
       "    .dataframe tbody tr th:only-of-type {\n",
       "        vertical-align: middle;\n",
       "    }\n",
       "\n",
       "    .dataframe tbody tr th {\n",
       "        vertical-align: top;\n",
       "    }\n",
       "\n",
       "    .dataframe thead th {\n",
       "        text-align: right;\n",
       "    }\n",
       "</style>\n",
       "<table border=\"1\" class=\"dataframe\">\n",
       "  <thead>\n",
       "    <tr style=\"text-align: right;\">\n",
       "      <th></th>\n",
       "      <th>1979 01 01 05:00:00  2.817  6.8  7.7  226.8  223.4  27.2   80.02  76.40  93.04  10.30  3.32</th>\n",
       "    </tr>\n",
       "  </thead>\n",
       "  <tbody>\n",
       "    <tr>\n",
       "      <th>0</th>\n",
       "      <td>1979 01 01 06:00:00  3.407  7.4  8.5  229.8  2...</td>\n",
       "    </tr>\n",
       "    <tr>\n",
       "      <th>1</th>\n",
       "      <td>1979 01 01 07:00:00  4.644  8.1  9.3  231.5  2...</td>\n",
       "    </tr>\n",
       "    <tr>\n",
       "      <th>2</th>\n",
       "      <td>1979 01 01 08:00:00  5.131  8.6  9.9  230.7  2...</td>\n",
       "    </tr>\n",
       "    <tr>\n",
       "      <th>3</th>\n",
       "      <td>1979 01 01 09:00:00  4.297  8.6  9.9  228.4  2...</td>\n",
       "    </tr>\n",
       "    <tr>\n",
       "      <th>4</th>\n",
       "      <td>1979 01 01 10:00:00  3.510  8.4  9.5  225.5  2...</td>\n",
       "    </tr>\n",
       "    <tr>\n",
       "      <th>...</th>\n",
       "      <td>...</td>\n",
       "    </tr>\n",
       "    <tr>\n",
       "      <th>341869</th>\n",
       "      <td>2017 12 31 19:00:00  0.709  5.2  7.3  201.3  2...</td>\n",
       "    </tr>\n",
       "    <tr>\n",
       "      <th>341870</th>\n",
       "      <td>2017 12 31 20:00:00  0.711  5.4  7.3  203.1  2...</td>\n",
       "    </tr>\n",
       "    <tr>\n",
       "      <th>341871</th>\n",
       "      <td>2017 12 31 21:00:00  0.708  5.6  7.2  205.6  2...</td>\n",
       "    </tr>\n",
       "    <tr>\n",
       "      <th>341872</th>\n",
       "      <td>2017 12 31 22:00:00  0.709  5.8  7.2  207.6  2...</td>\n",
       "    </tr>\n",
       "    <tr>\n",
       "      <th>341873</th>\n",
       "      <td>2017 12 31 23:00:00  0.715  5.9  7.2  209.2  2...</td>\n",
       "    </tr>\n",
       "  </tbody>\n",
       "</table>\n",
       "<p>341874 rows × 1 columns</p>\n",
       "</div>"
      ],
      "text/plain": [
       "       1979 01 01 05:00:00  2.817  6.8  7.7  226.8  223.4  27.2   80.02  76.40  93.04  10.30  3.32\n",
       "0       1979 01 01 06:00:00  3.407  7.4  8.5  229.8  2...                                         \n",
       "1       1979 01 01 07:00:00  4.644  8.1  9.3  231.5  2...                                         \n",
       "2       1979 01 01 08:00:00  5.131  8.6  9.9  230.7  2...                                         \n",
       "3       1979 01 01 09:00:00  4.297  8.6  9.9  228.4  2...                                         \n",
       "4       1979 01 01 10:00:00  3.510  8.4  9.5  225.5  2...                                         \n",
       "...                                                   ...                                         \n",
       "341869  2017 12 31 19:00:00  0.709  5.2  7.3  201.3  2...                                         \n",
       "341870  2017 12 31 20:00:00  0.711  5.4  7.3  203.1  2...                                         \n",
       "341871  2017 12 31 21:00:00  0.708  5.6  7.2  205.6  2...                                         \n",
       "341872  2017 12 31 22:00:00  0.709  5.8  7.2  207.6  2...                                         \n",
       "341873  2017 12 31 23:00:00  0.715  5.9  7.2  209.2  2...                                         \n",
       "\n",
       "[341874 rows x 1 columns]"
      ]
     },
     "execution_count": 6,
     "metadata": {},
     "output_type": "execute_result"
    }
   ],
   "source": [
    "df = pd.read_table('data/data_waves.dat')\n",
    "df"
   ]
  },
  {
   "cell_type": "markdown",
   "metadata": {},
   "source": [
    "names=['YY', 'mm', 'DD', 'time', 'hs', 'tm', 'tp', 'dirm', 'dp', 'spr', 'h', 'lm', 'lp', \n",
    "                          'uw', 'vw']"
   ]
  },
  {
   "cell_type": "code",
   "execution_count": 47,
   "metadata": {},
   "outputs": [
    {
     "ename": "NameError",
     "evalue": "name 'np' is not defined",
     "output_type": "error",
     "traceback": [
      "\u001b[0;31m---------------------------------------------------------------------------\u001b[0m",
      "\u001b[0;31mNameError\u001b[0m                                 Traceback (most recent call last)",
      "\u001b[0;32m<ipython-input-47-db4ea2c91288>\u001b[0m in \u001b[0;36m<module>\u001b[0;34m\u001b[0m\n\u001b[1;32m      3\u001b[0m                    names=['YY', 'mm', 'DD', 'time', 'hs', 'tm', 'tp', 'dirm', 'dp', 'spr', 'h', 'lm', 'lp', \n\u001b[1;32m      4\u001b[0m                           'uw', 'vw'])\n\u001b[0;32m----> 5\u001b[0;31m \u001b[0mdf\u001b[0m\u001b[0;34m.\u001b[0m\u001b[0mloc\u001b[0m\u001b[0;34m[\u001b[0m\u001b[0mdf\u001b[0m\u001b[0;34m[\u001b[0m\u001b[0;34m'tp'\u001b[0m\u001b[0;34m]\u001b[0m \u001b[0;34m<\u001b[0m \u001b[0;36m0\u001b[0m\u001b[0;34m,\u001b[0m \u001b[0;34m'tp'\u001b[0m\u001b[0;34m]\u001b[0m \u001b[0;34m=\u001b[0m \u001b[0mnp\u001b[0m\u001b[0;34m.\u001b[0m\u001b[0mNaN\u001b[0m\u001b[0;34m\u001b[0m\u001b[0;34m\u001b[0m\u001b[0m\n\u001b[0m\u001b[1;32m      6\u001b[0m \u001b[0mdf\u001b[0m\u001b[0;34m.\u001b[0m\u001b[0mloc\u001b[0m\u001b[0;34m[\u001b[0m\u001b[0mdf\u001b[0m\u001b[0;34m.\u001b[0m\u001b[0mtp\u001b[0m \u001b[0;34m>\u001b[0m \u001b[0;36m20\u001b[0m\u001b[0;34m,\u001b[0m \u001b[0;34m'tp'\u001b[0m\u001b[0;34m]\u001b[0m \u001b[0;34m=\u001b[0m \u001b[0mnp\u001b[0m\u001b[0;34m.\u001b[0m\u001b[0mNaN\u001b[0m\u001b[0;34m\u001b[0m\u001b[0;34m\u001b[0m\u001b[0m\n\u001b[1;32m      7\u001b[0m \u001b[0mdf\u001b[0m\u001b[0;34m.\u001b[0m\u001b[0mdropna\u001b[0m\u001b[0;34m(\u001b[0m\u001b[0minplace\u001b[0m\u001b[0;34m=\u001b[0m\u001b[0;32mTrue\u001b[0m\u001b[0;34m)\u001b[0m \u001b[0;31m# df = df.dropna()\u001b[0m\u001b[0;34m\u001b[0m\u001b[0;34m\u001b[0m\u001b[0m\n",
      "\u001b[0;31mNameError\u001b[0m: name 'np' is not defined"
     ]
    }
   ],
   "source": [
    "df = pd.read_table('data/data_waves.dat', header=None, delim_whitespace=True, parse_dates=[[0, 1, 2, 3]], \n",
    "                   index_col=0,\n",
    "                   names=['YY', 'mm', 'DD', 'time', 'hs', 'tm', 'tp', 'dirm', 'dp', 'spr', 'h', 'lm', 'lp', \n",
    "                          'uw', 'vw'])\n",
    "df.loc[df['tp'] < 0, 'tp'] = np.NaN\n",
    "df.loc[df.tp > 20, 'tp'] = np.NaN\n",
    "df.dropna(inplace=True) # df = df.dropna()\n",
    "df"
   ]
  },
  {
   "cell_type": "code",
   "execution_count": 48,
   "metadata": {},
   "outputs": [
    {
     "data": {
      "text/html": [
       "<div>\n",
       "<style scoped>\n",
       "    .dataframe tbody tr th:only-of-type {\n",
       "        vertical-align: middle;\n",
       "    }\n",
       "\n",
       "    .dataframe tbody tr th {\n",
       "        vertical-align: top;\n",
       "    }\n",
       "\n",
       "    .dataframe thead th {\n",
       "        text-align: right;\n",
       "    }\n",
       "</style>\n",
       "<table border=\"1\" class=\"dataframe\">\n",
       "  <thead>\n",
       "    <tr style=\"text-align: right;\">\n",
       "      <th></th>\n",
       "      <th>hs</th>\n",
       "      <th>tm</th>\n",
       "      <th>tp</th>\n",
       "      <th>dirm</th>\n",
       "      <th>dp</th>\n",
       "      <th>spr</th>\n",
       "      <th>h</th>\n",
       "      <th>lm</th>\n",
       "      <th>lp</th>\n",
       "      <th>uw</th>\n",
       "      <th>vw</th>\n",
       "    </tr>\n",
       "  </thead>\n",
       "  <tbody>\n",
       "    <tr>\n",
       "      <th>count</th>\n",
       "      <td>341875.000000</td>\n",
       "      <td>341875.000000</td>\n",
       "      <td>3.418750e+05</td>\n",
       "      <td>341875.000000</td>\n",
       "      <td>341875.000000</td>\n",
       "      <td>341875.000000</td>\n",
       "      <td>3.418750e+05</td>\n",
       "      <td>341875.000000</td>\n",
       "      <td>3.418750e+05</td>\n",
       "      <td>341875.000000</td>\n",
       "      <td>341875.000000</td>\n",
       "    </tr>\n",
       "    <tr>\n",
       "      <th>mean</th>\n",
       "      <td>0.638406</td>\n",
       "      <td>4.640374</td>\n",
       "      <td>-4.035466e+03</td>\n",
       "      <td>191.229674</td>\n",
       "      <td>194.731494</td>\n",
       "      <td>33.888006</td>\n",
       "      <td>8.002000e+01</td>\n",
       "      <td>41.224029</td>\n",
       "      <td>1.132765e+05</td>\n",
       "      <td>-1.967190</td>\n",
       "      <td>-0.476931</td>\n",
       "    </tr>\n",
       "    <tr>\n",
       "      <th>std</th>\n",
       "      <td>0.571112</td>\n",
       "      <td>1.476723</td>\n",
       "      <td>2.362774e+06</td>\n",
       "      <td>53.624268</td>\n",
       "      <td>52.445103</td>\n",
       "      <td>13.366212</td>\n",
       "      <td>3.758492e-10</td>\n",
       "      <td>26.450191</td>\n",
       "      <td>6.620115e+07</td>\n",
       "      <td>3.621347</td>\n",
       "      <td>3.768617</td>\n",
       "    </tr>\n",
       "    <tr>\n",
       "      <th>min</th>\n",
       "      <td>0.005000</td>\n",
       "      <td>1.400000</td>\n",
       "      <td>-1.381516e+09</td>\n",
       "      <td>0.000000</td>\n",
       "      <td>0.000000</td>\n",
       "      <td>4.300000</td>\n",
       "      <td>8.002000e+01</td>\n",
       "      <td>3.070000</td>\n",
       "      <td>0.000000e+00</td>\n",
       "      <td>-20.650000</td>\n",
       "      <td>-23.010000</td>\n",
       "    </tr>\n",
       "    <tr>\n",
       "      <th>25%</th>\n",
       "      <td>0.236000</td>\n",
       "      <td>3.500000</td>\n",
       "      <td>4.000000e+00</td>\n",
       "      <td>171.000000</td>\n",
       "      <td>171.300000</td>\n",
       "      <td>23.800000</td>\n",
       "      <td>8.002000e+01</td>\n",
       "      <td>21.820000</td>\n",
       "      <td>2.496000e+01</td>\n",
       "      <td>-4.080000</td>\n",
       "      <td>-2.540000</td>\n",
       "    </tr>\n",
       "    <tr>\n",
       "      <th>50%</th>\n",
       "      <td>0.456000</td>\n",
       "      <td>4.400000</td>\n",
       "      <td>5.200000e+00</td>\n",
       "      <td>204.300000</td>\n",
       "      <td>211.100000</td>\n",
       "      <td>31.000000</td>\n",
       "      <td>8.002000e+01</td>\n",
       "      <td>33.500000</td>\n",
       "      <td>4.169000e+01</td>\n",
       "      <td>-1.880000</td>\n",
       "      <td>-0.050000</td>\n",
       "    </tr>\n",
       "    <tr>\n",
       "      <th>75%</th>\n",
       "      <td>0.866000</td>\n",
       "      <td>5.500000</td>\n",
       "      <td>6.900000e+00</td>\n",
       "      <td>218.700000</td>\n",
       "      <td>222.900000</td>\n",
       "      <td>41.200000</td>\n",
       "      <td>8.002000e+01</td>\n",
       "      <td>53.820000</td>\n",
       "      <td>7.401500e+01</td>\n",
       "      <td>0.310000</td>\n",
       "      <td>1.960000</td>\n",
       "    </tr>\n",
       "    <tr>\n",
       "      <th>max</th>\n",
       "      <td>6.399000</td>\n",
       "      <td>12.000000</td>\n",
       "      <td>1.506000e+02</td>\n",
       "      <td>360.000000</td>\n",
       "      <td>360.000000</td>\n",
       "      <td>80.900000</td>\n",
       "      <td>8.002000e+01</td>\n",
       "      <td>231.500000</td>\n",
       "      <td>3.870787e+10</td>\n",
       "      <td>20.370000</td>\n",
       "      <td>18.820000</td>\n",
       "    </tr>\n",
       "  </tbody>\n",
       "</table>\n",
       "</div>"
      ],
      "text/plain": [
       "                  hs             tm            tp           dirm  \\\n",
       "count  341875.000000  341875.000000  3.418750e+05  341875.000000   \n",
       "mean        0.638406       4.640374 -4.035466e+03     191.229674   \n",
       "std         0.571112       1.476723  2.362774e+06      53.624268   \n",
       "min         0.005000       1.400000 -1.381516e+09       0.000000   \n",
       "25%         0.236000       3.500000  4.000000e+00     171.000000   \n",
       "50%         0.456000       4.400000  5.200000e+00     204.300000   \n",
       "75%         0.866000       5.500000  6.900000e+00     218.700000   \n",
       "max         6.399000      12.000000  1.506000e+02     360.000000   \n",
       "\n",
       "                  dp            spr             h             lm  \\\n",
       "count  341875.000000  341875.000000  3.418750e+05  341875.000000   \n",
       "mean      194.731494      33.888006  8.002000e+01      41.224029   \n",
       "std        52.445103      13.366212  3.758492e-10      26.450191   \n",
       "min         0.000000       4.300000  8.002000e+01       3.070000   \n",
       "25%       171.300000      23.800000  8.002000e+01      21.820000   \n",
       "50%       211.100000      31.000000  8.002000e+01      33.500000   \n",
       "75%       222.900000      41.200000  8.002000e+01      53.820000   \n",
       "max       360.000000      80.900000  8.002000e+01     231.500000   \n",
       "\n",
       "                 lp             uw             vw  \n",
       "count  3.418750e+05  341875.000000  341875.000000  \n",
       "mean   1.132765e+05      -1.967190      -0.476931  \n",
       "std    6.620115e+07       3.621347       3.768617  \n",
       "min    0.000000e+00     -20.650000     -23.010000  \n",
       "25%    2.496000e+01      -4.080000      -2.540000  \n",
       "50%    4.169000e+01      -1.880000      -0.050000  \n",
       "75%    7.401500e+01       0.310000       1.960000  \n",
       "max    3.870787e+10      20.370000      18.820000  "
      ]
     },
     "execution_count": 48,
     "metadata": {},
     "output_type": "execute_result"
    }
   ],
   "source": [
    "df.describe()"
   ]
  },
  {
   "cell_type": "code",
   "execution_count": 9,
   "metadata": {},
   "outputs": [
    {
     "data": {
      "text/plain": [
       "<AxesSubplot:xlabel='YY_mm_DD_time'>"
      ]
     },
     "execution_count": 9,
     "metadata": {},
     "output_type": "execute_result"
    },
    {
     "data": {
      "image/png": "[encoded data removed]",
      "text/plain": [
       "<Figure size 432x288 with 1 Axes>"
      ]
     },
     "metadata": {
      "needs_background": "light"
     },
     "output_type": "display_data"
    }
   ],
   "source": [
    "df.hs[:100].plot()"
   ]
  },
  {
   "cell_type": "code",
   "execution_count": 53,
   "metadata": {},
   "outputs": [
    {
     "data": {
      "text/plain": [
       "hs           0.638406\n",
       "tm           4.640374\n",
       "tp       -4035.465785\n",
       "dirm       191.229674\n",
       "dp         194.731494\n",
       "spr         33.888006\n",
       "h           80.020000\n",
       "lm          41.224029\n",
       "lp      113276.475027\n",
       "uw          -1.967190\n",
       "vw          -0.476931\n",
       "dtype: float64"
      ]
     },
     "execution_count": 53,
     "metadata": {},
     "output_type": "execute_result"
    }
   ],
   "source": [
    "df.mean()"
   ]
  },
  {
   "cell_type": "code",
   "execution_count": 58,
   "metadata": {},
   "outputs": [
    {
     "data": {
      "text/html": [
       "<div>\n",
       "<style scoped>\n",
       "    .dataframe tbody tr th:only-of-type {\n",
       "        vertical-align: middle;\n",
       "    }\n",
       "\n",
       "    .dataframe tbody tr th {\n",
       "        vertical-align: top;\n",
       "    }\n",
       "\n",
       "    .dataframe thead th {\n",
       "        text-align: right;\n",
       "    }\n",
       "</style>\n",
       "<table border=\"1\" class=\"dataframe\">\n",
       "  <thead>\n",
       "    <tr style=\"text-align: right;\">\n",
       "      <th></th>\n",
       "      <th>hs</th>\n",
       "      <th>tm</th>\n",
       "      <th>tp</th>\n",
       "      <th>dirm</th>\n",
       "      <th>dp</th>\n",
       "      <th>spr</th>\n",
       "      <th>h</th>\n",
       "      <th>lm</th>\n",
       "      <th>lp</th>\n",
       "      <th>uw</th>\n",
       "      <th>vw</th>\n",
       "    </tr>\n",
       "    <tr>\n",
       "      <th>YY_mm_DD_time</th>\n",
       "      <th></th>\n",
       "      <th></th>\n",
       "      <th></th>\n",
       "      <th></th>\n",
       "      <th></th>\n",
       "      <th></th>\n",
       "      <th></th>\n",
       "      <th></th>\n",
       "      <th></th>\n",
       "      <th></th>\n",
       "      <th></th>\n",
       "    </tr>\n",
       "  </thead>\n",
       "  <tbody>\n",
       "    <tr>\n",
       "      <th>2008-03-21 19:00:00</th>\n",
       "      <td>6.399</td>\n",
       "      <td>10.0</td>\n",
       "      <td>11.6</td>\n",
       "      <td>221.6</td>\n",
       "      <td>221.4</td>\n",
       "      <td>23.0</td>\n",
       "      <td>80.02</td>\n",
       "      <td>166.28</td>\n",
       "      <td>206.41</td>\n",
       "      <td>15.04</td>\n",
       "      <td>8.77</td>\n",
       "    </tr>\n",
       "    <tr>\n",
       "      <th>2008-03-21 20:00:00</th>\n",
       "      <td>6.256</td>\n",
       "      <td>9.9</td>\n",
       "      <td>11.4</td>\n",
       "      <td>222.7</td>\n",
       "      <td>221.9</td>\n",
       "      <td>23.7</td>\n",
       "      <td>80.02</td>\n",
       "      <td>162.84</td>\n",
       "      <td>200.73</td>\n",
       "      <td>15.00</td>\n",
       "      <td>7.67</td>\n",
       "    </tr>\n",
       "    <tr>\n",
       "      <th>2008-10-30 07:00:00</th>\n",
       "      <td>6.211</td>\n",
       "      <td>9.6</td>\n",
       "      <td>11.0</td>\n",
       "      <td>214.5</td>\n",
       "      <td>210.7</td>\n",
       "      <td>24.4</td>\n",
       "      <td>80.02</td>\n",
       "      <td>152.81</td>\n",
       "      <td>188.76</td>\n",
       "      <td>14.28</td>\n",
       "      <td>12.89</td>\n",
       "    </tr>\n",
       "    <tr>\n",
       "      <th>2008-03-21 18:00:00</th>\n",
       "      <td>6.054</td>\n",
       "      <td>10.1</td>\n",
       "      <td>11.8</td>\n",
       "      <td>221.1</td>\n",
       "      <td>214.6</td>\n",
       "      <td>21.9</td>\n",
       "      <td>80.02</td>\n",
       "      <td>169.06</td>\n",
       "      <td>214.29</td>\n",
       "      <td>15.71</td>\n",
       "      <td>6.83</td>\n",
       "    </tr>\n",
       "    <tr>\n",
       "      <th>1999-12-28 04:00:00</th>\n",
       "      <td>5.934</td>\n",
       "      <td>8.9</td>\n",
       "      <td>10.2</td>\n",
       "      <td>224.5</td>\n",
       "      <td>217.5</td>\n",
       "      <td>27.9</td>\n",
       "      <td>80.02</td>\n",
       "      <td>132.81</td>\n",
       "      <td>162.10</td>\n",
       "      <td>18.50</td>\n",
       "      <td>8.27</td>\n",
       "    </tr>\n",
       "    <tr>\n",
       "      <th>...</th>\n",
       "      <td>...</td>\n",
       "      <td>...</td>\n",
       "      <td>...</td>\n",
       "      <td>...</td>\n",
       "      <td>...</td>\n",
       "      <td>...</td>\n",
       "      <td>...</td>\n",
       "      <td>...</td>\n",
       "      <td>...</td>\n",
       "      <td>...</td>\n",
       "      <td>...</td>\n",
       "    </tr>\n",
       "    <tr>\n",
       "      <th>1981-11-05 04:00:00</th>\n",
       "      <td>0.006</td>\n",
       "      <td>3.0</td>\n",
       "      <td>3.4</td>\n",
       "      <td>195.1</td>\n",
       "      <td>196.2</td>\n",
       "      <td>22.4</td>\n",
       "      <td>80.02</td>\n",
       "      <td>14.57</td>\n",
       "      <td>17.86</td>\n",
       "      <td>0.94</td>\n",
       "      <td>1.99</td>\n",
       "    </tr>\n",
       "    <tr>\n",
       "      <th>1981-11-06 14:00:00</th>\n",
       "      <td>0.005</td>\n",
       "      <td>2.4</td>\n",
       "      <td>3.2</td>\n",
       "      <td>221.0</td>\n",
       "      <td>211.2</td>\n",
       "      <td>27.0</td>\n",
       "      <td>80.02</td>\n",
       "      <td>10.43</td>\n",
       "      <td>16.33</td>\n",
       "      <td>-0.29</td>\n",
       "      <td>1.97</td>\n",
       "    </tr>\n",
       "    <tr>\n",
       "      <th>1981-11-06 15:00:00</th>\n",
       "      <td>0.005</td>\n",
       "      <td>2.6</td>\n",
       "      <td>3.2</td>\n",
       "      <td>217.2</td>\n",
       "      <td>209.6</td>\n",
       "      <td>27.1</td>\n",
       "      <td>80.02</td>\n",
       "      <td>12.25</td>\n",
       "      <td>16.47</td>\n",
       "      <td>-0.39</td>\n",
       "      <td>1.18</td>\n",
       "    </tr>\n",
       "    <tr>\n",
       "      <th>1981-11-06 16:00:00</th>\n",
       "      <td>0.005</td>\n",
       "      <td>2.8</td>\n",
       "      <td>3.3</td>\n",
       "      <td>213.2</td>\n",
       "      <td>208.0</td>\n",
       "      <td>26.8</td>\n",
       "      <td>80.02</td>\n",
       "      <td>14.92</td>\n",
       "      <td>16.54</td>\n",
       "      <td>0.37</td>\n",
       "      <td>-0.29</td>\n",
       "    </tr>\n",
       "    <tr>\n",
       "      <th>1981-11-06 17:00:00</th>\n",
       "      <td>0.005</td>\n",
       "      <td>3.1</td>\n",
       "      <td>3.3</td>\n",
       "      <td>208.8</td>\n",
       "      <td>206.1</td>\n",
       "      <td>25.5</td>\n",
       "      <td>80.02</td>\n",
       "      <td>18.63</td>\n",
       "      <td>16.58</td>\n",
       "      <td>0.76</td>\n",
       "      <td>-1.07</td>\n",
       "    </tr>\n",
       "  </tbody>\n",
       "</table>\n",
       "<p>341875 rows × 11 columns</p>\n",
       "</div>"
      ],
      "text/plain": [
       "                        hs    tm    tp   dirm     dp   spr      h      lm  \\\n",
       "YY_mm_DD_time                                                               \n",
       "2008-03-21 19:00:00  6.399  10.0  11.6  221.6  221.4  23.0  80.02  166.28   \n",
       "2008-03-21 20:00:00  6.256   9.9  11.4  222.7  221.9  23.7  80.02  162.84   \n",
       "2008-10-30 07:00:00  6.211   9.6  11.0  214.5  210.7  24.4  80.02  152.81   \n",
       "2008-03-21 18:00:00  6.054  10.1  11.8  221.1  214.6  21.9  80.02  169.06   \n",
       "1999-12-28 04:00:00  5.934   8.9  10.2  224.5  217.5  27.9  80.02  132.81   \n",
       "...                    ...   ...   ...    ...    ...   ...    ...     ...   \n",
       "1981-11-05 04:00:00  0.006   3.0   3.4  195.1  196.2  22.4  80.02   14.57   \n",
       "1981-11-06 14:00:00  0.005   2.4   3.2  221.0  211.2  27.0  80.02   10.43   \n",
       "1981-11-06 15:00:00  0.005   2.6   3.2  217.2  209.6  27.1  80.02   12.25   \n",
       "1981-11-06 16:00:00  0.005   2.8   3.3  213.2  208.0  26.8  80.02   14.92   \n",
       "1981-11-06 17:00:00  0.005   3.1   3.3  208.8  206.1  25.5  80.02   18.63   \n",
       "\n",
       "                         lp     uw     vw  \n",
       "YY_mm_DD_time                              \n",
       "2008-03-21 19:00:00  206.41  15.04   8.77  \n",
       "2008-03-21 20:00:00  200.73  15.00   7.67  \n",
       "2008-10-30 07:00:00  188.76  14.28  12.89  \n",
       "2008-03-21 18:00:00  214.29  15.71   6.83  \n",
       "1999-12-28 04:00:00  162.10  18.50   8.27  \n",
       "...                     ...    ...    ...  \n",
       "1981-11-05 04:00:00   17.86   0.94   1.99  \n",
       "1981-11-06 14:00:00   16.33  -0.29   1.97  \n",
       "1981-11-06 15:00:00   16.47  -0.39   1.18  \n",
       "1981-11-06 16:00:00   16.54   0.37  -0.29  \n",
       "1981-11-06 17:00:00   16.58   0.76  -1.07  \n",
       "\n",
       "[341875 rows x 11 columns]"
      ]
     },
     "execution_count": 58,
     "metadata": {},
     "output_type": "execute_result"
    }
   ],
   "source": [
    "df.sort_values('hs', ascending=False)"
   ]
  },
  {
   "cell_type": "markdown",
   "metadata": {
    "id": "0JqiSPTYivWG"
   },
   "source": [
    "## Resampling, Shifting, and Windowing"
   ]
  },
  {
   "cell_type": "code",
   "execution_count": 11,
   "metadata": {
    "scrolled": true
   },
   "outputs": [
    {
     "data": {
      "text/plain": [
       "YY_mm_DD_time\n",
       "1979-01-01 05:00:00    2.817\n",
       "1979-01-01 06:00:00    3.407\n",
       "1979-01-01 07:00:00    4.644\n",
       "1979-01-01 08:00:00    5.131\n",
       "1979-01-01 09:00:00    4.297\n",
       "                       ...  \n",
       "2017-12-31 19:00:00    0.709\n",
       "2017-12-31 20:00:00    0.711\n",
       "2017-12-31 21:00:00    0.708\n",
       "2017-12-31 22:00:00    0.709\n",
       "2017-12-31 23:00:00    0.715\n",
       "Name: hs, Length: 341875, dtype: float64"
      ]
     },
     "execution_count": 11,
     "metadata": {},
     "output_type": "execute_result"
    }
   ],
   "source": [
    "df['hs']"
   ]
  },
  {
   "cell_type": "code",
   "execution_count": 12,
   "metadata": {
    "scrolled": true
   },
   "outputs": [
    {
     "data": {
      "text/plain": [
       "<AxesSubplot:xlabel='YY_mm_DD_time'>"
      ]
     },
     "execution_count": 12,
     "metadata": {},
     "output_type": "execute_result"
    },
    {
     "data": {
      "image/png": "[encoded data removed]",
      "text/plain": [
       "<Figure size 432x288 with 1 Axes>"
      ]
     },
     "metadata": {
      "needs_background": "light"
     },
     "output_type": "display_data"
    }
   ],
   "source": [
    "df.hs.plot()"
   ]
  },
  {
   "cell_type": "code",
   "execution_count": 14,
   "metadata": {},
   "outputs": [
    {
     "data": {
      "text/plain": [
       "<AxesSubplot:xlabel='YY_mm_DD_time'>"
      ]
     },
     "execution_count": 14,
     "metadata": {},
     "output_type": "execute_result"
    },
    {
     "data": {
      "image/png": "[encoded data removed]",
      "text/plain": [
       "<Figure size 432x288 with 1 Axes>"
      ]
     },
     "metadata": {
      "needs_background": "light"
     },
     "output_type": "display_data"
    }
   ],
   "source": [
    "df.rolling('12H').mean().hs.plot()"
   ]
  },
  {
   "cell_type": "code",
   "execution_count": 20,
   "metadata": {},
   "outputs": [],
   "source": [
    "dfi = df.iloc[:500]"
   ]
  },
  {
   "cell_type": "code",
   "execution_count": 22,
   "metadata": {
    "id": "suJTBUdHivWH",
    "outputId": "ef1b6b78-9950-42df-d6f8-dc88efde6198",
    "scrolled": true
   },
   "outputs": [
    {
     "data": {
      "image/png": "[encoded data removed]",
      "text/plain": [
       "<Figure size 432x288 with 1 Axes>"
      ]
     },
     "metadata": {
      "needs_background": "light"
     },
     "output_type": "display_data"
    }
   ],
   "source": [
    "import matplotlib.pyplot as plt\n",
    "dfi.hs.plot(alpha=0.5, style='-.', marker='o', markersize=1)\n",
    "dfi.hs.resample('24H').mean().plot(style=':', linewidth=2)\n",
    "dfi.hs.asfreq('24H').plot(style='--');\n",
    "plt.legend(['input', 'resample', 'asfreq'],\n",
    "           loc='upper left');"
   ]
  },
  {
   "cell_type": "code",
   "execution_count": 41,
   "metadata": {
    "scrolled": true
   },
   "outputs": [
    {
     "data": {
      "text/plain": [
       "<AxesSubplot:xlabel='YY_mm_DD_time'>"
      ]
     },
     "execution_count": 41,
     "metadata": {},
     "output_type": "execute_result"
    },
    {
     "data": {
      "image/png": "[encoded data removed]",
      "text/plain": [
       "<Figure size 432x288 with 1 Axes>"
      ]
     },
     "metadata": {
      "needs_background": "light"
     },
     "output_type": "display_data"
    }
   ],
   "source": [
    "#df.hs.plot(alpha=0.5, style='-.', marker='o', markersize=1)\n",
    "df_res = df.hs.resample('A').mean()\n",
    "df_res.plot(style=':', linewidth=2)"
   ]
  },
  {
   "cell_type": "code",
   "execution_count": 43,
   "metadata": {},
   "outputs": [
    {
     "data": {
      "text/plain": [
       "<AxesSubplot:xlabel='YY_mm_DD_time'>"
      ]
     },
     "execution_count": 43,
     "metadata": {},
     "output_type": "execute_result"
    },
    {
     "data": {
      "image/png": "[encoded data removed]",
      "text/plain": [
       "<Figure size 432x288 with 1 Axes>"
      ]
     },
     "metadata": {
      "needs_background": "light"
     },
     "output_type": "display_data"
    }
   ],
   "source": [
    "df.hs.asfreq('Y').plot()"
   ]
  },
  {
   "cell_type": "markdown",
   "metadata": {
    "id": "pTfPIlbDivWH"
   },
   "source": [
    "Notice the difference: at each point, ``resample`` reports the *average of the previous year*, while ``asfreq`` reports the *value at the end of the year*."
   ]
  },
  {
   "cell_type": "markdown",
   "metadata": {
    "id": "ED_PiDCHivWH"
   },
   "source": [
    "For up-sampling, ``resample()`` and ``asfreq()`` are largely equivalent, though resample has many more options available.\n",
    "In this case, the default for both methods is to leave the up-sampled points empty, that is, filled with NA values.\n",
    "Just as with the ``pd.fillna()`` function discussed previously, ``asfreq()`` accepts a ``method`` argument to specify how values are imputed.\n",
    "Here, we will resample the business day data at a daily frequency (i.e., including weekends):"
   ]
  },
  {
   "cell_type": "code",
   "execution_count": 49,
   "metadata": {
    "scrolled": true
   },
   "outputs": [
    {
     "data": {
      "text/html": [
       "<div>\n",
       "<style scoped>\n",
       "    .dataframe tbody tr th:only-of-type {\n",
       "        vertical-align: middle;\n",
       "    }\n",
       "\n",
       "    .dataframe tbody tr th {\n",
       "        vertical-align: top;\n",
       "    }\n",
       "\n",
       "    .dataframe thead th {\n",
       "        text-align: right;\n",
       "    }\n",
       "</style>\n",
       "<table border=\"1\" class=\"dataframe\">\n",
       "  <thead>\n",
       "    <tr style=\"text-align: right;\">\n",
       "      <th></th>\n",
       "      <th>hs</th>\n",
       "      <th>tm</th>\n",
       "      <th>tp</th>\n",
       "      <th>dirm</th>\n",
       "      <th>dp</th>\n",
       "      <th>spr</th>\n",
       "      <th>h</th>\n",
       "      <th>lm</th>\n",
       "      <th>lp</th>\n",
       "      <th>uw</th>\n",
       "      <th>vw</th>\n",
       "    </tr>\n",
       "    <tr>\n",
       "      <th>YY_mm_DD_time</th>\n",
       "      <th></th>\n",
       "      <th></th>\n",
       "      <th></th>\n",
       "      <th></th>\n",
       "      <th></th>\n",
       "      <th></th>\n",
       "      <th></th>\n",
       "      <th></th>\n",
       "      <th></th>\n",
       "      <th></th>\n",
       "      <th></th>\n",
       "    </tr>\n",
       "  </thead>\n",
       "  <tbody>\n",
       "    <tr>\n",
       "      <th>1979-12-31</th>\n",
       "      <td>5.131</td>\n",
       "      <td>10.8</td>\n",
       "      <td>13.9</td>\n",
       "      <td>359.4</td>\n",
       "      <td>357.7</td>\n",
       "      <td>80.0</td>\n",
       "      <td>80.02</td>\n",
       "      <td>195.60</td>\n",
       "      <td>2.861100e+02</td>\n",
       "      <td>17.97</td>\n",
       "      <td>13.48</td>\n",
       "    </tr>\n",
       "    <tr>\n",
       "      <th>1980-12-31</th>\n",
       "      <td>3.844</td>\n",
       "      <td>10.1</td>\n",
       "      <td>13.5</td>\n",
       "      <td>359.9</td>\n",
       "      <td>359.6</td>\n",
       "      <td>80.7</td>\n",
       "      <td>80.02</td>\n",
       "      <td>168.88</td>\n",
       "      <td>2.714000e+02</td>\n",
       "      <td>13.64</td>\n",
       "      <td>13.48</td>\n",
       "    </tr>\n",
       "    <tr>\n",
       "      <th>1981-12-31</th>\n",
       "      <td>5.507</td>\n",
       "      <td>10.7</td>\n",
       "      <td>13.3</td>\n",
       "      <td>358.7</td>\n",
       "      <td>359.9</td>\n",
       "      <td>79.5</td>\n",
       "      <td>80.02</td>\n",
       "      <td>183.37</td>\n",
       "      <td>2.645200e+02</td>\n",
       "      <td>17.22</td>\n",
       "      <td>13.52</td>\n",
       "    </tr>\n",
       "    <tr>\n",
       "      <th>1982-12-31</th>\n",
       "      <td>4.733</td>\n",
       "      <td>9.2</td>\n",
       "      <td>13.0</td>\n",
       "      <td>358.5</td>\n",
       "      <td>357.9</td>\n",
       "      <td>80.5</td>\n",
       "      <td>80.02</td>\n",
       "      <td>142.52</td>\n",
       "      <td>2.530700e+02</td>\n",
       "      <td>17.41</td>\n",
       "      <td>13.98</td>\n",
       "    </tr>\n",
       "    <tr>\n",
       "      <th>1983-12-31</th>\n",
       "      <td>3.878</td>\n",
       "      <td>9.8</td>\n",
       "      <td>12.2</td>\n",
       "      <td>359.8</td>\n",
       "      <td>360.0</td>\n",
       "      <td>80.1</td>\n",
       "      <td>80.02</td>\n",
       "      <td>159.33</td>\n",
       "      <td>2.272700e+02</td>\n",
       "      <td>15.89</td>\n",
       "      <td>11.19</td>\n",
       "    </tr>\n",
       "    <tr>\n",
       "      <th>1984-12-31</th>\n",
       "      <td>3.787</td>\n",
       "      <td>10.0</td>\n",
       "      <td>13.4</td>\n",
       "      <td>359.0</td>\n",
       "      <td>359.2</td>\n",
       "      <td>80.7</td>\n",
       "      <td>80.02</td>\n",
       "      <td>164.74</td>\n",
       "      <td>2.666000e+02</td>\n",
       "      <td>13.56</td>\n",
       "      <td>15.17</td>\n",
       "    </tr>\n",
       "    <tr>\n",
       "      <th>1985-12-31</th>\n",
       "      <td>4.796</td>\n",
       "      <td>10.3</td>\n",
       "      <td>13.4</td>\n",
       "      <td>360.0</td>\n",
       "      <td>359.5</td>\n",
       "      <td>80.5</td>\n",
       "      <td>80.02</td>\n",
       "      <td>176.13</td>\n",
       "      <td>2.678000e+02</td>\n",
       "      <td>16.49</td>\n",
       "      <td>12.25</td>\n",
       "    </tr>\n",
       "    <tr>\n",
       "      <th>1986-12-31</th>\n",
       "      <td>4.909</td>\n",
       "      <td>10.6</td>\n",
       "      <td>13.3</td>\n",
       "      <td>359.6</td>\n",
       "      <td>357.1</td>\n",
       "      <td>80.0</td>\n",
       "      <td>80.02</td>\n",
       "      <td>190.74</td>\n",
       "      <td>2.640600e+02</td>\n",
       "      <td>14.99</td>\n",
       "      <td>10.32</td>\n",
       "    </tr>\n",
       "    <tr>\n",
       "      <th>1987-12-31</th>\n",
       "      <td>4.119</td>\n",
       "      <td>10.8</td>\n",
       "      <td>150.6</td>\n",
       "      <td>359.5</td>\n",
       "      <td>359.9</td>\n",
       "      <td>80.0</td>\n",
       "      <td>80.02</td>\n",
       "      <td>196.58</td>\n",
       "      <td>4.209630e+03</td>\n",
       "      <td>14.69</td>\n",
       "      <td>11.88</td>\n",
       "    </tr>\n",
       "    <tr>\n",
       "      <th>1988-12-31</th>\n",
       "      <td>4.795</td>\n",
       "      <td>9.9</td>\n",
       "      <td>12.5</td>\n",
       "      <td>360.0</td>\n",
       "      <td>359.9</td>\n",
       "      <td>80.6</td>\n",
       "      <td>80.02</td>\n",
       "      <td>162.04</td>\n",
       "      <td>2.359500e+02</td>\n",
       "      <td>14.86</td>\n",
       "      <td>13.82</td>\n",
       "    </tr>\n",
       "    <tr>\n",
       "      <th>1989-12-31</th>\n",
       "      <td>5.202</td>\n",
       "      <td>10.4</td>\n",
       "      <td>12.4</td>\n",
       "      <td>359.9</td>\n",
       "      <td>359.5</td>\n",
       "      <td>80.8</td>\n",
       "      <td>80.02</td>\n",
       "      <td>180.23</td>\n",
       "      <td>2.340800e+02</td>\n",
       "      <td>15.45</td>\n",
       "      <td>14.67</td>\n",
       "    </tr>\n",
       "    <tr>\n",
       "      <th>1990-12-31</th>\n",
       "      <td>4.888</td>\n",
       "      <td>10.3</td>\n",
       "      <td>13.5</td>\n",
       "      <td>359.5</td>\n",
       "      <td>360.0</td>\n",
       "      <td>80.6</td>\n",
       "      <td>80.02</td>\n",
       "      <td>174.16</td>\n",
       "      <td>2.718500e+02</td>\n",
       "      <td>15.54</td>\n",
       "      <td>16.24</td>\n",
       "    </tr>\n",
       "    <tr>\n",
       "      <th>1991-12-31</th>\n",
       "      <td>4.108</td>\n",
       "      <td>10.2</td>\n",
       "      <td>12.6</td>\n",
       "      <td>358.3</td>\n",
       "      <td>359.5</td>\n",
       "      <td>80.4</td>\n",
       "      <td>80.02</td>\n",
       "      <td>170.14</td>\n",
       "      <td>2.388400e+02</td>\n",
       "      <td>14.22</td>\n",
       "      <td>13.74</td>\n",
       "    </tr>\n",
       "    <tr>\n",
       "      <th>1992-12-31</th>\n",
       "      <td>5.721</td>\n",
       "      <td>9.6</td>\n",
       "      <td>12.9</td>\n",
       "      <td>359.7</td>\n",
       "      <td>359.4</td>\n",
       "      <td>79.9</td>\n",
       "      <td>80.02</td>\n",
       "      <td>153.37</td>\n",
       "      <td>2.520100e+02</td>\n",
       "      <td>15.60</td>\n",
       "      <td>15.77</td>\n",
       "    </tr>\n",
       "    <tr>\n",
       "      <th>1993-12-31</th>\n",
       "      <td>5.311</td>\n",
       "      <td>9.8</td>\n",
       "      <td>12.6</td>\n",
       "      <td>359.5</td>\n",
       "      <td>359.9</td>\n",
       "      <td>79.9</td>\n",
       "      <td>80.02</td>\n",
       "      <td>156.74</td>\n",
       "      <td>2.401400e+02</td>\n",
       "      <td>17.47</td>\n",
       "      <td>13.78</td>\n",
       "    </tr>\n",
       "    <tr>\n",
       "      <th>1994-12-31</th>\n",
       "      <td>4.764</td>\n",
       "      <td>9.5</td>\n",
       "      <td>11.7</td>\n",
       "      <td>360.0</td>\n",
       "      <td>359.7</td>\n",
       "      <td>79.8</td>\n",
       "      <td>80.02</td>\n",
       "      <td>149.74</td>\n",
       "      <td>2.100100e+02</td>\n",
       "      <td>13.19</td>\n",
       "      <td>16.33</td>\n",
       "    </tr>\n",
       "    <tr>\n",
       "      <th>1995-12-31</th>\n",
       "      <td>4.534</td>\n",
       "      <td>10.4</td>\n",
       "      <td>12.4</td>\n",
       "      <td>360.0</td>\n",
       "      <td>359.8</td>\n",
       "      <td>79.8</td>\n",
       "      <td>80.02</td>\n",
       "      <td>180.96</td>\n",
       "      <td>2.347400e+02</td>\n",
       "      <td>17.84</td>\n",
       "      <td>13.29</td>\n",
       "    </tr>\n",
       "    <tr>\n",
       "      <th>1996-12-31</th>\n",
       "      <td>3.905</td>\n",
       "      <td>11.7</td>\n",
       "      <td>13.7</td>\n",
       "      <td>358.2</td>\n",
       "      <td>358.6</td>\n",
       "      <td>80.7</td>\n",
       "      <td>80.02</td>\n",
       "      <td>219.84</td>\n",
       "      <td>2.781100e+02</td>\n",
       "      <td>12.25</td>\n",
       "      <td>13.42</td>\n",
       "    </tr>\n",
       "    <tr>\n",
       "      <th>1997-12-31</th>\n",
       "      <td>4.139</td>\n",
       "      <td>10.1</td>\n",
       "      <td>12.1</td>\n",
       "      <td>359.9</td>\n",
       "      <td>359.0</td>\n",
       "      <td>79.4</td>\n",
       "      <td>80.02</td>\n",
       "      <td>170.28</td>\n",
       "      <td>2.244400e+02</td>\n",
       "      <td>14.57</td>\n",
       "      <td>14.11</td>\n",
       "    </tr>\n",
       "    <tr>\n",
       "      <th>1998-12-31</th>\n",
       "      <td>4.532</td>\n",
       "      <td>9.4</td>\n",
       "      <td>11.5</td>\n",
       "      <td>359.9</td>\n",
       "      <td>359.2</td>\n",
       "      <td>80.2</td>\n",
       "      <td>80.02</td>\n",
       "      <td>146.38</td>\n",
       "      <td>2.041700e+02</td>\n",
       "      <td>15.72</td>\n",
       "      <td>13.26</td>\n",
       "    </tr>\n",
       "    <tr>\n",
       "      <th>1999-12-31</th>\n",
       "      <td>5.934</td>\n",
       "      <td>10.7</td>\n",
       "      <td>12.7</td>\n",
       "      <td>359.8</td>\n",
       "      <td>359.9</td>\n",
       "      <td>80.5</td>\n",
       "      <td>80.02</td>\n",
       "      <td>192.30</td>\n",
       "      <td>2.437300e+02</td>\n",
       "      <td>20.37</td>\n",
       "      <td>13.95</td>\n",
       "    </tr>\n",
       "    <tr>\n",
       "      <th>2000-12-31</th>\n",
       "      <td>5.092</td>\n",
       "      <td>10.2</td>\n",
       "      <td>12.6</td>\n",
       "      <td>359.7</td>\n",
       "      <td>360.0</td>\n",
       "      <td>79.9</td>\n",
       "      <td>80.02</td>\n",
       "      <td>180.48</td>\n",
       "      <td>2.387500e+02</td>\n",
       "      <td>12.87</td>\n",
       "      <td>18.71</td>\n",
       "    </tr>\n",
       "    <tr>\n",
       "      <th>2001-12-31</th>\n",
       "      <td>5.107</td>\n",
       "      <td>9.8</td>\n",
       "      <td>12.4</td>\n",
       "      <td>359.6</td>\n",
       "      <td>358.1</td>\n",
       "      <td>80.5</td>\n",
       "      <td>80.02</td>\n",
       "      <td>158.74</td>\n",
       "      <td>2.346100e+02</td>\n",
       "      <td>16.23</td>\n",
       "      <td>12.93</td>\n",
       "    </tr>\n",
       "    <tr>\n",
       "      <th>2002-12-31</th>\n",
       "      <td>4.418</td>\n",
       "      <td>10.9</td>\n",
       "      <td>13.2</td>\n",
       "      <td>358.6</td>\n",
       "      <td>359.7</td>\n",
       "      <td>80.1</td>\n",
       "      <td>80.02</td>\n",
       "      <td>193.39</td>\n",
       "      <td>2.613400e+02</td>\n",
       "      <td>13.89</td>\n",
       "      <td>13.39</td>\n",
       "    </tr>\n",
       "    <tr>\n",
       "      <th>2003-12-31</th>\n",
       "      <td>5.723</td>\n",
       "      <td>10.6</td>\n",
       "      <td>12.8</td>\n",
       "      <td>360.0</td>\n",
       "      <td>359.4</td>\n",
       "      <td>80.4</td>\n",
       "      <td>80.02</td>\n",
       "      <td>184.97</td>\n",
       "      <td>3.870787e+10</td>\n",
       "      <td>15.84</td>\n",
       "      <td>14.26</td>\n",
       "    </tr>\n",
       "    <tr>\n",
       "      <th>2004-12-31</th>\n",
       "      <td>3.666</td>\n",
       "      <td>9.5</td>\n",
       "      <td>12.2</td>\n",
       "      <td>359.4</td>\n",
       "      <td>359.9</td>\n",
       "      <td>80.1</td>\n",
       "      <td>80.02</td>\n",
       "      <td>150.47</td>\n",
       "      <td>2.261300e+02</td>\n",
       "      <td>14.36</td>\n",
       "      <td>11.69</td>\n",
       "    </tr>\n",
       "    <tr>\n",
       "      <th>2005-12-31</th>\n",
       "      <td>4.375</td>\n",
       "      <td>10.1</td>\n",
       "      <td>13.5</td>\n",
       "      <td>359.7</td>\n",
       "      <td>359.8</td>\n",
       "      <td>80.2</td>\n",
       "      <td>80.02</td>\n",
       "      <td>167.27</td>\n",
       "      <td>2.718600e+02</td>\n",
       "      <td>14.20</td>\n",
       "      <td>15.73</td>\n",
       "    </tr>\n",
       "    <tr>\n",
       "      <th>2006-12-31</th>\n",
       "      <td>3.913</td>\n",
       "      <td>11.0</td>\n",
       "      <td>13.1</td>\n",
       "      <td>359.9</td>\n",
       "      <td>359.8</td>\n",
       "      <td>80.2</td>\n",
       "      <td>80.02</td>\n",
       "      <td>200.98</td>\n",
       "      <td>2.587200e+02</td>\n",
       "      <td>12.11</td>\n",
       "      <td>13.72</td>\n",
       "    </tr>\n",
       "    <tr>\n",
       "      <th>2007-12-31</th>\n",
       "      <td>5.258</td>\n",
       "      <td>10.0</td>\n",
       "      <td>13.0</td>\n",
       "      <td>359.9</td>\n",
       "      <td>359.6</td>\n",
       "      <td>78.6</td>\n",
       "      <td>80.02</td>\n",
       "      <td>168.27</td>\n",
       "      <td>2.554000e+02</td>\n",
       "      <td>15.66</td>\n",
       "      <td>10.87</td>\n",
       "    </tr>\n",
       "    <tr>\n",
       "      <th>2008-12-31</th>\n",
       "      <td>6.399</td>\n",
       "      <td>10.6</td>\n",
       "      <td>12.3</td>\n",
       "      <td>360.0</td>\n",
       "      <td>359.9</td>\n",
       "      <td>79.9</td>\n",
       "      <td>80.02</td>\n",
       "      <td>182.14</td>\n",
       "      <td>2.299600e+02</td>\n",
       "      <td>15.71</td>\n",
       "      <td>18.82</td>\n",
       "    </tr>\n",
       "    <tr>\n",
       "      <th>2009-12-31</th>\n",
       "      <td>3.068</td>\n",
       "      <td>12.0</td>\n",
       "      <td>13.7</td>\n",
       "      <td>359.7</td>\n",
       "      <td>359.7</td>\n",
       "      <td>80.5</td>\n",
       "      <td>80.02</td>\n",
       "      <td>231.50</td>\n",
       "      <td>2.767400e+02</td>\n",
       "      <td>10.17</td>\n",
       "      <td>15.09</td>\n",
       "    </tr>\n",
       "    <tr>\n",
       "      <th>2010-12-31</th>\n",
       "      <td>5.234</td>\n",
       "      <td>11.4</td>\n",
       "      <td>13.5</td>\n",
       "      <td>358.4</td>\n",
       "      <td>359.1</td>\n",
       "      <td>80.6</td>\n",
       "      <td>80.02</td>\n",
       "      <td>209.66</td>\n",
       "      <td>2.723200e+02</td>\n",
       "      <td>14.84</td>\n",
       "      <td>13.52</td>\n",
       "    </tr>\n",
       "    <tr>\n",
       "      <th>2011-12-31</th>\n",
       "      <td>5.883</td>\n",
       "      <td>9.7</td>\n",
       "      <td>13.5</td>\n",
       "      <td>358.6</td>\n",
       "      <td>358.1</td>\n",
       "      <td>80.8</td>\n",
       "      <td>80.02</td>\n",
       "      <td>157.12</td>\n",
       "      <td>2.709100e+02</td>\n",
       "      <td>18.33</td>\n",
       "      <td>13.98</td>\n",
       "    </tr>\n",
       "    <tr>\n",
       "      <th>2012-12-31</th>\n",
       "      <td>4.249</td>\n",
       "      <td>9.9</td>\n",
       "      <td>14.2</td>\n",
       "      <td>359.7</td>\n",
       "      <td>359.8</td>\n",
       "      <td>80.2</td>\n",
       "      <td>80.02</td>\n",
       "      <td>161.72</td>\n",
       "      <td>2.940300e+02</td>\n",
       "      <td>13.14</td>\n",
       "      <td>15.05</td>\n",
       "    </tr>\n",
       "    <tr>\n",
       "      <th>2013-12-31</th>\n",
       "      <td>4.123</td>\n",
       "      <td>11.4</td>\n",
       "      <td>13.4</td>\n",
       "      <td>358.6</td>\n",
       "      <td>359.5</td>\n",
       "      <td>80.5</td>\n",
       "      <td>80.02</td>\n",
       "      <td>212.70</td>\n",
       "      <td>2.687300e+02</td>\n",
       "      <td>16.11</td>\n",
       "      <td>17.86</td>\n",
       "    </tr>\n",
       "    <tr>\n",
       "      <th>2014-12-31</th>\n",
       "      <td>3.707</td>\n",
       "      <td>10.6</td>\n",
       "      <td>12.4</td>\n",
       "      <td>359.8</td>\n",
       "      <td>359.4</td>\n",
       "      <td>79.0</td>\n",
       "      <td>80.02</td>\n",
       "      <td>181.21</td>\n",
       "      <td>2.333800e+02</td>\n",
       "      <td>17.09</td>\n",
       "      <td>15.81</td>\n",
       "    </tr>\n",
       "    <tr>\n",
       "      <th>2015-12-31</th>\n",
       "      <td>4.447</td>\n",
       "      <td>10.8</td>\n",
       "      <td>25.9</td>\n",
       "      <td>359.9</td>\n",
       "      <td>359.2</td>\n",
       "      <td>80.1</td>\n",
       "      <td>80.02</td>\n",
       "      <td>199.88</td>\n",
       "      <td>6.677100e+02</td>\n",
       "      <td>12.35</td>\n",
       "      <td>12.16</td>\n",
       "    </tr>\n",
       "    <tr>\n",
       "      <th>2016-12-31</th>\n",
       "      <td>4.941</td>\n",
       "      <td>10.0</td>\n",
       "      <td>12.2</td>\n",
       "      <td>359.9</td>\n",
       "      <td>358.5</td>\n",
       "      <td>80.3</td>\n",
       "      <td>80.02</td>\n",
       "      <td>164.87</td>\n",
       "      <td>2.270000e+02</td>\n",
       "      <td>17.76</td>\n",
       "      <td>15.85</td>\n",
       "    </tr>\n",
       "    <tr>\n",
       "      <th>2017-12-31</th>\n",
       "      <td>5.050</td>\n",
       "      <td>10.7</td>\n",
       "      <td>12.8</td>\n",
       "      <td>359.5</td>\n",
       "      <td>359.7</td>\n",
       "      <td>80.9</td>\n",
       "      <td>80.02</td>\n",
       "      <td>188.38</td>\n",
       "      <td>2.473300e+02</td>\n",
       "      <td>16.01</td>\n",
       "      <td>18.01</td>\n",
       "    </tr>\n",
       "  </tbody>\n",
       "</table>\n",
       "</div>"
      ],
      "text/plain": [
       "                  hs    tm     tp   dirm     dp   spr      h      lm  \\\n",
       "YY_mm_DD_time                                                          \n",
       "1979-12-31     5.131  10.8   13.9  359.4  357.7  80.0  80.02  195.60   \n",
       "1980-12-31     3.844  10.1   13.5  359.9  359.6  80.7  80.02  168.88   \n",
       "1981-12-31     5.507  10.7   13.3  358.7  359.9  79.5  80.02  183.37   \n",
       "1982-12-31     4.733   9.2   13.0  358.5  357.9  80.5  80.02  142.52   \n",
       "1983-12-31     3.878   9.8   12.2  359.8  360.0  80.1  80.02  159.33   \n",
       "1984-12-31     3.787  10.0   13.4  359.0  359.2  80.7  80.02  164.74   \n",
       "1985-12-31     4.796  10.3   13.4  360.0  359.5  80.5  80.02  176.13   \n",
       "1986-12-31     4.909  10.6   13.3  359.6  357.1  80.0  80.02  190.74   \n",
       "1987-12-31     4.119  10.8  150.6  359.5  359.9  80.0  80.02  196.58   \n",
       "1988-12-31     4.795   9.9   12.5  360.0  359.9  80.6  80.02  162.04   \n",
       "1989-12-31     5.202  10.4   12.4  359.9  359.5  80.8  80.02  180.23   \n",
       "1990-12-31     4.888  10.3   13.5  359.5  360.0  80.6  80.02  174.16   \n",
       "1991-12-31     4.108  10.2   12.6  358.3  359.5  80.4  80.02  170.14   \n",
       "1992-12-31     5.721   9.6   12.9  359.7  359.4  79.9  80.02  153.37   \n",
       "1993-12-31     5.311   9.8   12.6  359.5  359.9  79.9  80.02  156.74   \n",
       "1994-12-31     4.764   9.5   11.7  360.0  359.7  79.8  80.02  149.74   \n",
       "1995-12-31     4.534  10.4   12.4  360.0  359.8  79.8  80.02  180.96   \n",
       "1996-12-31     3.905  11.7   13.7  358.2  358.6  80.7  80.02  219.84   \n",
       "1997-12-31     4.139  10.1   12.1  359.9  359.0  79.4  80.02  170.28   \n",
       "1998-12-31     4.532   9.4   11.5  359.9  359.2  80.2  80.02  146.38   \n",
       "1999-12-31     5.934  10.7   12.7  359.8  359.9  80.5  80.02  192.30   \n",
       "2000-12-31     5.092  10.2   12.6  359.7  360.0  79.9  80.02  180.48   \n",
       "2001-12-31     5.107   9.8   12.4  359.6  358.1  80.5  80.02  158.74   \n",
       "2002-12-31     4.418  10.9   13.2  358.6  359.7  80.1  80.02  193.39   \n",
       "2003-12-31     5.723  10.6   12.8  360.0  359.4  80.4  80.02  184.97   \n",
       "2004-12-31     3.666   9.5   12.2  359.4  359.9  80.1  80.02  150.47   \n",
       "2005-12-31     4.375  10.1   13.5  359.7  359.8  80.2  80.02  167.27   \n",
       "2006-12-31     3.913  11.0   13.1  359.9  359.8  80.2  80.02  200.98   \n",
       "2007-12-31     5.258  10.0   13.0  359.9  359.6  78.6  80.02  168.27   \n",
       "2008-12-31     6.399  10.6   12.3  360.0  359.9  79.9  80.02  182.14   \n",
       "2009-12-31     3.068  12.0   13.7  359.7  359.7  80.5  80.02  231.50   \n",
       "2010-12-31     5.234  11.4   13.5  358.4  359.1  80.6  80.02  209.66   \n",
       "2011-12-31     5.883   9.7   13.5  358.6  358.1  80.8  80.02  157.12   \n",
       "2012-12-31     4.249   9.9   14.2  359.7  359.8  80.2  80.02  161.72   \n",
       "2013-12-31     4.123  11.4   13.4  358.6  359.5  80.5  80.02  212.70   \n",
       "2014-12-31     3.707  10.6   12.4  359.8  359.4  79.0  80.02  181.21   \n",
       "2015-12-31     4.447  10.8   25.9  359.9  359.2  80.1  80.02  199.88   \n",
       "2016-12-31     4.941  10.0   12.2  359.9  358.5  80.3  80.02  164.87   \n",
       "2017-12-31     5.050  10.7   12.8  359.5  359.7  80.9  80.02  188.38   \n",
       "\n",
       "                         lp     uw     vw  \n",
       "YY_mm_DD_time                              \n",
       "1979-12-31     2.861100e+02  17.97  13.48  \n",
       "1980-12-31     2.714000e+02  13.64  13.48  \n",
       "1981-12-31     2.645200e+02  17.22  13.52  \n",
       "1982-12-31     2.530700e+02  17.41  13.98  \n",
       "1983-12-31     2.272700e+02  15.89  11.19  \n",
       "1984-12-31     2.666000e+02  13.56  15.17  \n",
       "1985-12-31     2.678000e+02  16.49  12.25  \n",
       "1986-12-31     2.640600e+02  14.99  10.32  \n",
       "1987-12-31     4.209630e+03  14.69  11.88  \n",
       "1988-12-31     2.359500e+02  14.86  13.82  \n",
       "1989-12-31     2.340800e+02  15.45  14.67  \n",
       "1990-12-31     2.718500e+02  15.54  16.24  \n",
       "1991-12-31     2.388400e+02  14.22  13.74  \n",
       "1992-12-31     2.520100e+02  15.60  15.77  \n",
       "1993-12-31     2.401400e+02  17.47  13.78  \n",
       "1994-12-31     2.100100e+02  13.19  16.33  \n",
       "1995-12-31     2.347400e+02  17.84  13.29  \n",
       "1996-12-31     2.781100e+02  12.25  13.42  \n",
       "1997-12-31     2.244400e+02  14.57  14.11  \n",
       "1998-12-31     2.041700e+02  15.72  13.26  \n",
       "1999-12-31     2.437300e+02  20.37  13.95  \n",
       "2000-12-31     2.387500e+02  12.87  18.71  \n",
       "2001-12-31     2.346100e+02  16.23  12.93  \n",
       "2002-12-31     2.613400e+02  13.89  13.39  \n",
       "2003-12-31     3.870787e+10  15.84  14.26  \n",
       "2004-12-31     2.261300e+02  14.36  11.69  \n",
       "2005-12-31     2.718600e+02  14.20  15.73  \n",
       "2006-12-31     2.587200e+02  12.11  13.72  \n",
       "2007-12-31     2.554000e+02  15.66  10.87  \n",
       "2008-12-31     2.299600e+02  15.71  18.82  \n",
       "2009-12-31     2.767400e+02  10.17  15.09  \n",
       "2010-12-31     2.723200e+02  14.84  13.52  \n",
       "2011-12-31     2.709100e+02  18.33  13.98  \n",
       "2012-12-31     2.940300e+02  13.14  15.05  \n",
       "2013-12-31     2.687300e+02  16.11  17.86  \n",
       "2014-12-31     2.333800e+02  17.09  15.81  \n",
       "2015-12-31     6.677100e+02  12.35  12.16  \n",
       "2016-12-31     2.270000e+02  17.76  15.85  \n",
       "2017-12-31     2.473300e+02  16.01  18.01  "
      ]
     },
     "execution_count": 49,
     "metadata": {},
     "output_type": "execute_result"
    }
   ],
   "source": [
    "df.resample('A').max()"
   ]
  },
  {
   "cell_type": "code",
   "execution_count": 45,
   "metadata": {},
   "outputs": [
    {
     "data": {
      "text/html": [
       "<div>\n",
       "<style scoped>\n",
       "    .dataframe tbody tr th:only-of-type {\n",
       "        vertical-align: middle;\n",
       "    }\n",
       "\n",
       "    .dataframe tbody tr th {\n",
       "        vertical-align: top;\n",
       "    }\n",
       "\n",
       "    .dataframe thead th {\n",
       "        text-align: right;\n",
       "    }\n",
       "</style>\n",
       "<table border=\"1\" class=\"dataframe\">\n",
       "  <thead>\n",
       "    <tr style=\"text-align: right;\">\n",
       "      <th></th>\n",
       "      <th>hs</th>\n",
       "      <th>tm</th>\n",
       "      <th>tp</th>\n",
       "      <th>dirm</th>\n",
       "      <th>dp</th>\n",
       "      <th>spr</th>\n",
       "      <th>h</th>\n",
       "      <th>lm</th>\n",
       "      <th>lp</th>\n",
       "      <th>uw</th>\n",
       "      <th>vw</th>\n",
       "    </tr>\n",
       "    <tr>\n",
       "      <th>YY_mm_DD_time</th>\n",
       "      <th></th>\n",
       "      <th></th>\n",
       "      <th></th>\n",
       "      <th></th>\n",
       "      <th></th>\n",
       "      <th></th>\n",
       "      <th></th>\n",
       "      <th></th>\n",
       "      <th></th>\n",
       "      <th></th>\n",
       "      <th></th>\n",
       "    </tr>\n",
       "  </thead>\n",
       "  <tbody>\n",
       "    <tr>\n",
       "      <th>1979</th>\n",
       "      <td>5.131</td>\n",
       "      <td>10.8</td>\n",
       "      <td>13.9</td>\n",
       "      <td>359.4</td>\n",
       "      <td>357.7</td>\n",
       "      <td>80.0</td>\n",
       "      <td>80.02</td>\n",
       "      <td>195.60</td>\n",
       "      <td>2.861100e+02</td>\n",
       "      <td>17.97</td>\n",
       "      <td>13.48</td>\n",
       "    </tr>\n",
       "    <tr>\n",
       "      <th>1980</th>\n",
       "      <td>3.844</td>\n",
       "      <td>10.1</td>\n",
       "      <td>13.5</td>\n",
       "      <td>359.9</td>\n",
       "      <td>359.6</td>\n",
       "      <td>80.7</td>\n",
       "      <td>80.02</td>\n",
       "      <td>168.88</td>\n",
       "      <td>2.714000e+02</td>\n",
       "      <td>13.64</td>\n",
       "      <td>13.48</td>\n",
       "    </tr>\n",
       "    <tr>\n",
       "      <th>1981</th>\n",
       "      <td>5.507</td>\n",
       "      <td>10.7</td>\n",
       "      <td>13.3</td>\n",
       "      <td>358.7</td>\n",
       "      <td>359.9</td>\n",
       "      <td>79.5</td>\n",
       "      <td>80.02</td>\n",
       "      <td>183.37</td>\n",
       "      <td>2.645200e+02</td>\n",
       "      <td>17.22</td>\n",
       "      <td>13.52</td>\n",
       "    </tr>\n",
       "    <tr>\n",
       "      <th>1982</th>\n",
       "      <td>4.733</td>\n",
       "      <td>9.2</td>\n",
       "      <td>13.0</td>\n",
       "      <td>358.5</td>\n",
       "      <td>357.9</td>\n",
       "      <td>80.5</td>\n",
       "      <td>80.02</td>\n",
       "      <td>142.52</td>\n",
       "      <td>2.530700e+02</td>\n",
       "      <td>17.41</td>\n",
       "      <td>13.98</td>\n",
       "    </tr>\n",
       "    <tr>\n",
       "      <th>1983</th>\n",
       "      <td>3.878</td>\n",
       "      <td>9.8</td>\n",
       "      <td>12.2</td>\n",
       "      <td>359.8</td>\n",
       "      <td>360.0</td>\n",
       "      <td>80.1</td>\n",
       "      <td>80.02</td>\n",
       "      <td>159.33</td>\n",
       "      <td>2.272700e+02</td>\n",
       "      <td>15.89</td>\n",
       "      <td>11.19</td>\n",
       "    </tr>\n",
       "    <tr>\n",
       "      <th>1984</th>\n",
       "      <td>3.787</td>\n",
       "      <td>10.0</td>\n",
       "      <td>13.4</td>\n",
       "      <td>359.0</td>\n",
       "      <td>359.2</td>\n",
       "      <td>80.7</td>\n",
       "      <td>80.02</td>\n",
       "      <td>164.74</td>\n",
       "      <td>2.666000e+02</td>\n",
       "      <td>13.56</td>\n",
       "      <td>15.17</td>\n",
       "    </tr>\n",
       "    <tr>\n",
       "      <th>1985</th>\n",
       "      <td>4.796</td>\n",
       "      <td>10.3</td>\n",
       "      <td>13.4</td>\n",
       "      <td>360.0</td>\n",
       "      <td>359.5</td>\n",
       "      <td>80.5</td>\n",
       "      <td>80.02</td>\n",
       "      <td>176.13</td>\n",
       "      <td>2.678000e+02</td>\n",
       "      <td>16.49</td>\n",
       "      <td>12.25</td>\n",
       "    </tr>\n",
       "    <tr>\n",
       "      <th>1986</th>\n",
       "      <td>4.909</td>\n",
       "      <td>10.6</td>\n",
       "      <td>13.3</td>\n",
       "      <td>359.6</td>\n",
       "      <td>357.1</td>\n",
       "      <td>80.0</td>\n",
       "      <td>80.02</td>\n",
       "      <td>190.74</td>\n",
       "      <td>2.640600e+02</td>\n",
       "      <td>14.99</td>\n",
       "      <td>10.32</td>\n",
       "    </tr>\n",
       "    <tr>\n",
       "      <th>1987</th>\n",
       "      <td>4.119</td>\n",
       "      <td>10.8</td>\n",
       "      <td>150.6</td>\n",
       "      <td>359.5</td>\n",
       "      <td>359.9</td>\n",
       "      <td>80.0</td>\n",
       "      <td>80.02</td>\n",
       "      <td>196.58</td>\n",
       "      <td>4.209630e+03</td>\n",
       "      <td>14.69</td>\n",
       "      <td>11.88</td>\n",
       "    </tr>\n",
       "    <tr>\n",
       "      <th>1988</th>\n",
       "      <td>4.795</td>\n",
       "      <td>9.9</td>\n",
       "      <td>12.5</td>\n",
       "      <td>360.0</td>\n",
       "      <td>359.9</td>\n",
       "      <td>80.6</td>\n",
       "      <td>80.02</td>\n",
       "      <td>162.04</td>\n",
       "      <td>2.359500e+02</td>\n",
       "      <td>14.86</td>\n",
       "      <td>13.82</td>\n",
       "    </tr>\n",
       "    <tr>\n",
       "      <th>1989</th>\n",
       "      <td>5.202</td>\n",
       "      <td>10.4</td>\n",
       "      <td>12.4</td>\n",
       "      <td>359.9</td>\n",
       "      <td>359.5</td>\n",
       "      <td>80.8</td>\n",
       "      <td>80.02</td>\n",
       "      <td>180.23</td>\n",
       "      <td>2.340800e+02</td>\n",
       "      <td>15.45</td>\n",
       "      <td>14.67</td>\n",
       "    </tr>\n",
       "    <tr>\n",
       "      <th>1990</th>\n",
       "      <td>4.888</td>\n",
       "      <td>10.3</td>\n",
       "      <td>13.5</td>\n",
       "      <td>359.5</td>\n",
       "      <td>360.0</td>\n",
       "      <td>80.6</td>\n",
       "      <td>80.02</td>\n",
       "      <td>174.16</td>\n",
       "      <td>2.718500e+02</td>\n",
       "      <td>15.54</td>\n",
       "      <td>16.24</td>\n",
       "    </tr>\n",
       "    <tr>\n",
       "      <th>1991</th>\n",
       "      <td>4.108</td>\n",
       "      <td>10.2</td>\n",
       "      <td>12.6</td>\n",
       "      <td>358.3</td>\n",
       "      <td>359.5</td>\n",
       "      <td>80.4</td>\n",
       "      <td>80.02</td>\n",
       "      <td>170.14</td>\n",
       "      <td>2.388400e+02</td>\n",
       "      <td>14.22</td>\n",
       "      <td>13.74</td>\n",
       "    </tr>\n",
       "    <tr>\n",
       "      <th>1992</th>\n",
       "      <td>5.721</td>\n",
       "      <td>9.6</td>\n",
       "      <td>12.9</td>\n",
       "      <td>359.7</td>\n",
       "      <td>359.4</td>\n",
       "      <td>79.9</td>\n",
       "      <td>80.02</td>\n",
       "      <td>153.37</td>\n",
       "      <td>2.520100e+02</td>\n",
       "      <td>15.60</td>\n",
       "      <td>15.77</td>\n",
       "    </tr>\n",
       "    <tr>\n",
       "      <th>1993</th>\n",
       "      <td>5.311</td>\n",
       "      <td>9.8</td>\n",
       "      <td>12.6</td>\n",
       "      <td>359.5</td>\n",
       "      <td>359.9</td>\n",
       "      <td>79.9</td>\n",
       "      <td>80.02</td>\n",
       "      <td>156.74</td>\n",
       "      <td>2.401400e+02</td>\n",
       "      <td>17.47</td>\n",
       "      <td>13.78</td>\n",
       "    </tr>\n",
       "    <tr>\n",
       "      <th>1994</th>\n",
       "      <td>4.764</td>\n",
       "      <td>9.5</td>\n",
       "      <td>11.7</td>\n",
       "      <td>360.0</td>\n",
       "      <td>359.7</td>\n",
       "      <td>79.8</td>\n",
       "      <td>80.02</td>\n",
       "      <td>149.74</td>\n",
       "      <td>2.100100e+02</td>\n",
       "      <td>13.19</td>\n",
       "      <td>16.33</td>\n",
       "    </tr>\n",
       "    <tr>\n",
       "      <th>1995</th>\n",
       "      <td>4.534</td>\n",
       "      <td>10.4</td>\n",
       "      <td>12.4</td>\n",
       "      <td>360.0</td>\n",
       "      <td>359.8</td>\n",
       "      <td>79.8</td>\n",
       "      <td>80.02</td>\n",
       "      <td>180.96</td>\n",
       "      <td>2.347400e+02</td>\n",
       "      <td>17.84</td>\n",
       "      <td>13.29</td>\n",
       "    </tr>\n",
       "    <tr>\n",
       "      <th>1996</th>\n",
       "      <td>3.905</td>\n",
       "      <td>11.7</td>\n",
       "      <td>13.7</td>\n",
       "      <td>358.2</td>\n",
       "      <td>358.6</td>\n",
       "      <td>80.7</td>\n",
       "      <td>80.02</td>\n",
       "      <td>219.84</td>\n",
       "      <td>2.781100e+02</td>\n",
       "      <td>12.25</td>\n",
       "      <td>13.42</td>\n",
       "    </tr>\n",
       "    <tr>\n",
       "      <th>1997</th>\n",
       "      <td>4.139</td>\n",
       "      <td>10.1</td>\n",
       "      <td>12.1</td>\n",
       "      <td>359.9</td>\n",
       "      <td>359.0</td>\n",
       "      <td>79.4</td>\n",
       "      <td>80.02</td>\n",
       "      <td>170.28</td>\n",
       "      <td>2.244400e+02</td>\n",
       "      <td>14.57</td>\n",
       "      <td>14.11</td>\n",
       "    </tr>\n",
       "    <tr>\n",
       "      <th>1998</th>\n",
       "      <td>4.532</td>\n",
       "      <td>9.4</td>\n",
       "      <td>11.5</td>\n",
       "      <td>359.9</td>\n",
       "      <td>359.2</td>\n",
       "      <td>80.2</td>\n",
       "      <td>80.02</td>\n",
       "      <td>146.38</td>\n",
       "      <td>2.041700e+02</td>\n",
       "      <td>15.72</td>\n",
       "      <td>13.26</td>\n",
       "    </tr>\n",
       "    <tr>\n",
       "      <th>1999</th>\n",
       "      <td>5.934</td>\n",
       "      <td>10.7</td>\n",
       "      <td>12.7</td>\n",
       "      <td>359.8</td>\n",
       "      <td>359.9</td>\n",
       "      <td>80.5</td>\n",
       "      <td>80.02</td>\n",
       "      <td>192.30</td>\n",
       "      <td>2.437300e+02</td>\n",
       "      <td>20.37</td>\n",
       "      <td>13.95</td>\n",
       "    </tr>\n",
       "    <tr>\n",
       "      <th>2000</th>\n",
       "      <td>5.092</td>\n",
       "      <td>10.2</td>\n",
       "      <td>12.6</td>\n",
       "      <td>359.7</td>\n",
       "      <td>360.0</td>\n",
       "      <td>79.9</td>\n",
       "      <td>80.02</td>\n",
       "      <td>180.48</td>\n",
       "      <td>2.387500e+02</td>\n",
       "      <td>12.87</td>\n",
       "      <td>18.71</td>\n",
       "    </tr>\n",
       "    <tr>\n",
       "      <th>2001</th>\n",
       "      <td>5.107</td>\n",
       "      <td>9.8</td>\n",
       "      <td>12.4</td>\n",
       "      <td>359.6</td>\n",
       "      <td>358.1</td>\n",
       "      <td>80.5</td>\n",
       "      <td>80.02</td>\n",
       "      <td>158.74</td>\n",
       "      <td>2.346100e+02</td>\n",
       "      <td>16.23</td>\n",
       "      <td>12.93</td>\n",
       "    </tr>\n",
       "    <tr>\n",
       "      <th>2002</th>\n",
       "      <td>4.418</td>\n",
       "      <td>10.9</td>\n",
       "      <td>13.2</td>\n",
       "      <td>358.6</td>\n",
       "      <td>359.7</td>\n",
       "      <td>80.1</td>\n",
       "      <td>80.02</td>\n",
       "      <td>193.39</td>\n",
       "      <td>2.613400e+02</td>\n",
       "      <td>13.89</td>\n",
       "      <td>13.39</td>\n",
       "    </tr>\n",
       "    <tr>\n",
       "      <th>2003</th>\n",
       "      <td>5.723</td>\n",
       "      <td>10.6</td>\n",
       "      <td>12.8</td>\n",
       "      <td>360.0</td>\n",
       "      <td>359.4</td>\n",
       "      <td>80.4</td>\n",
       "      <td>80.02</td>\n",
       "      <td>184.97</td>\n",
       "      <td>3.870787e+10</td>\n",
       "      <td>15.84</td>\n",
       "      <td>14.26</td>\n",
       "    </tr>\n",
       "    <tr>\n",
       "      <th>2004</th>\n",
       "      <td>3.666</td>\n",
       "      <td>9.5</td>\n",
       "      <td>12.2</td>\n",
       "      <td>359.4</td>\n",
       "      <td>359.9</td>\n",
       "      <td>80.1</td>\n",
       "      <td>80.02</td>\n",
       "      <td>150.47</td>\n",
       "      <td>2.261300e+02</td>\n",
       "      <td>14.36</td>\n",
       "      <td>11.69</td>\n",
       "    </tr>\n",
       "    <tr>\n",
       "      <th>2005</th>\n",
       "      <td>4.375</td>\n",
       "      <td>10.1</td>\n",
       "      <td>13.5</td>\n",
       "      <td>359.7</td>\n",
       "      <td>359.8</td>\n",
       "      <td>80.2</td>\n",
       "      <td>80.02</td>\n",
       "      <td>167.27</td>\n",
       "      <td>2.718600e+02</td>\n",
       "      <td>14.20</td>\n",
       "      <td>15.73</td>\n",
       "    </tr>\n",
       "    <tr>\n",
       "      <th>2006</th>\n",
       "      <td>3.913</td>\n",
       "      <td>11.0</td>\n",
       "      <td>13.1</td>\n",
       "      <td>359.9</td>\n",
       "      <td>359.8</td>\n",
       "      <td>80.2</td>\n",
       "      <td>80.02</td>\n",
       "      <td>200.98</td>\n",
       "      <td>2.587200e+02</td>\n",
       "      <td>12.11</td>\n",
       "      <td>13.72</td>\n",
       "    </tr>\n",
       "    <tr>\n",
       "      <th>2007</th>\n",
       "      <td>5.258</td>\n",
       "      <td>10.0</td>\n",
       "      <td>13.0</td>\n",
       "      <td>359.9</td>\n",
       "      <td>359.6</td>\n",
       "      <td>78.6</td>\n",
       "      <td>80.02</td>\n",
       "      <td>168.27</td>\n",
       "      <td>2.554000e+02</td>\n",
       "      <td>15.66</td>\n",
       "      <td>10.87</td>\n",
       "    </tr>\n",
       "    <tr>\n",
       "      <th>2008</th>\n",
       "      <td>6.399</td>\n",
       "      <td>10.6</td>\n",
       "      <td>12.3</td>\n",
       "      <td>360.0</td>\n",
       "      <td>359.9</td>\n",
       "      <td>79.9</td>\n",
       "      <td>80.02</td>\n",
       "      <td>182.14</td>\n",
       "      <td>2.299600e+02</td>\n",
       "      <td>15.71</td>\n",
       "      <td>18.82</td>\n",
       "    </tr>\n",
       "    <tr>\n",
       "      <th>2009</th>\n",
       "      <td>3.068</td>\n",
       "      <td>12.0</td>\n",
       "      <td>13.7</td>\n",
       "      <td>359.7</td>\n",
       "      <td>359.7</td>\n",
       "      <td>80.5</td>\n",
       "      <td>80.02</td>\n",
       "      <td>231.50</td>\n",
       "      <td>2.767400e+02</td>\n",
       "      <td>10.17</td>\n",
       "      <td>15.09</td>\n",
       "    </tr>\n",
       "    <tr>\n",
       "      <th>2010</th>\n",
       "      <td>5.234</td>\n",
       "      <td>11.4</td>\n",
       "      <td>13.5</td>\n",
       "      <td>358.4</td>\n",
       "      <td>359.1</td>\n",
       "      <td>80.6</td>\n",
       "      <td>80.02</td>\n",
       "      <td>209.66</td>\n",
       "      <td>2.723200e+02</td>\n",
       "      <td>14.84</td>\n",
       "      <td>13.52</td>\n",
       "    </tr>\n",
       "    <tr>\n",
       "      <th>2011</th>\n",
       "      <td>5.883</td>\n",
       "      <td>9.7</td>\n",
       "      <td>13.5</td>\n",
       "      <td>358.6</td>\n",
       "      <td>358.1</td>\n",
       "      <td>80.8</td>\n",
       "      <td>80.02</td>\n",
       "      <td>157.12</td>\n",
       "      <td>2.709100e+02</td>\n",
       "      <td>18.33</td>\n",
       "      <td>13.98</td>\n",
       "    </tr>\n",
       "    <tr>\n",
       "      <th>2012</th>\n",
       "      <td>4.249</td>\n",
       "      <td>9.9</td>\n",
       "      <td>14.2</td>\n",
       "      <td>359.7</td>\n",
       "      <td>359.8</td>\n",
       "      <td>80.2</td>\n",
       "      <td>80.02</td>\n",
       "      <td>161.72</td>\n",
       "      <td>2.940300e+02</td>\n",
       "      <td>13.14</td>\n",
       "      <td>15.05</td>\n",
       "    </tr>\n",
       "    <tr>\n",
       "      <th>2013</th>\n",
       "      <td>4.123</td>\n",
       "      <td>11.4</td>\n",
       "      <td>13.4</td>\n",
       "      <td>358.6</td>\n",
       "      <td>359.5</td>\n",
       "      <td>80.5</td>\n",
       "      <td>80.02</td>\n",
       "      <td>212.70</td>\n",
       "      <td>2.687300e+02</td>\n",
       "      <td>16.11</td>\n",
       "      <td>17.86</td>\n",
       "    </tr>\n",
       "    <tr>\n",
       "      <th>2014</th>\n",
       "      <td>3.707</td>\n",
       "      <td>10.6</td>\n",
       "      <td>12.4</td>\n",
       "      <td>359.8</td>\n",
       "      <td>359.4</td>\n",
       "      <td>79.0</td>\n",
       "      <td>80.02</td>\n",
       "      <td>181.21</td>\n",
       "      <td>2.333800e+02</td>\n",
       "      <td>17.09</td>\n",
       "      <td>15.81</td>\n",
       "    </tr>\n",
       "    <tr>\n",
       "      <th>2015</th>\n",
       "      <td>4.447</td>\n",
       "      <td>10.8</td>\n",
       "      <td>25.9</td>\n",
       "      <td>359.9</td>\n",
       "      <td>359.2</td>\n",
       "      <td>80.1</td>\n",
       "      <td>80.02</td>\n",
       "      <td>199.88</td>\n",
       "      <td>6.677100e+02</td>\n",
       "      <td>12.35</td>\n",
       "      <td>12.16</td>\n",
       "    </tr>\n",
       "    <tr>\n",
       "      <th>2016</th>\n",
       "      <td>4.941</td>\n",
       "      <td>10.0</td>\n",
       "      <td>12.2</td>\n",
       "      <td>359.9</td>\n",
       "      <td>358.5</td>\n",
       "      <td>80.3</td>\n",
       "      <td>80.02</td>\n",
       "      <td>164.87</td>\n",
       "      <td>2.270000e+02</td>\n",
       "      <td>17.76</td>\n",
       "      <td>15.85</td>\n",
       "    </tr>\n",
       "    <tr>\n",
       "      <th>2017</th>\n",
       "      <td>5.050</td>\n",
       "      <td>10.7</td>\n",
       "      <td>12.8</td>\n",
       "      <td>359.5</td>\n",
       "      <td>359.7</td>\n",
       "      <td>80.9</td>\n",
       "      <td>80.02</td>\n",
       "      <td>188.38</td>\n",
       "      <td>2.473300e+02</td>\n",
       "      <td>16.01</td>\n",
       "      <td>18.01</td>\n",
       "    </tr>\n",
       "  </tbody>\n",
       "</table>\n",
       "</div>"
      ],
      "text/plain": [
       "                  hs    tm     tp   dirm     dp   spr      h      lm  \\\n",
       "YY_mm_DD_time                                                          \n",
       "1979           5.131  10.8   13.9  359.4  357.7  80.0  80.02  195.60   \n",
       "1980           3.844  10.1   13.5  359.9  359.6  80.7  80.02  168.88   \n",
       "1981           5.507  10.7   13.3  358.7  359.9  79.5  80.02  183.37   \n",
       "1982           4.733   9.2   13.0  358.5  357.9  80.5  80.02  142.52   \n",
       "1983           3.878   9.8   12.2  359.8  360.0  80.1  80.02  159.33   \n",
       "1984           3.787  10.0   13.4  359.0  359.2  80.7  80.02  164.74   \n",
       "1985           4.796  10.3   13.4  360.0  359.5  80.5  80.02  176.13   \n",
       "1986           4.909  10.6   13.3  359.6  357.1  80.0  80.02  190.74   \n",
       "1987           4.119  10.8  150.6  359.5  359.9  80.0  80.02  196.58   \n",
       "1988           4.795   9.9   12.5  360.0  359.9  80.6  80.02  162.04   \n",
       "1989           5.202  10.4   12.4  359.9  359.5  80.8  80.02  180.23   \n",
       "1990           4.888  10.3   13.5  359.5  360.0  80.6  80.02  174.16   \n",
       "1991           4.108  10.2   12.6  358.3  359.5  80.4  80.02  170.14   \n",
       "1992           5.721   9.6   12.9  359.7  359.4  79.9  80.02  153.37   \n",
       "1993           5.311   9.8   12.6  359.5  359.9  79.9  80.02  156.74   \n",
       "1994           4.764   9.5   11.7  360.0  359.7  79.8  80.02  149.74   \n",
       "1995           4.534  10.4   12.4  360.0  359.8  79.8  80.02  180.96   \n",
       "1996           3.905  11.7   13.7  358.2  358.6  80.7  80.02  219.84   \n",
       "1997           4.139  10.1   12.1  359.9  359.0  79.4  80.02  170.28   \n",
       "1998           4.532   9.4   11.5  359.9  359.2  80.2  80.02  146.38   \n",
       "1999           5.934  10.7   12.7  359.8  359.9  80.5  80.02  192.30   \n",
       "2000           5.092  10.2   12.6  359.7  360.0  79.9  80.02  180.48   \n",
       "2001           5.107   9.8   12.4  359.6  358.1  80.5  80.02  158.74   \n",
       "2002           4.418  10.9   13.2  358.6  359.7  80.1  80.02  193.39   \n",
       "2003           5.723  10.6   12.8  360.0  359.4  80.4  80.02  184.97   \n",
       "2004           3.666   9.5   12.2  359.4  359.9  80.1  80.02  150.47   \n",
       "2005           4.375  10.1   13.5  359.7  359.8  80.2  80.02  167.27   \n",
       "2006           3.913  11.0   13.1  359.9  359.8  80.2  80.02  200.98   \n",
       "2007           5.258  10.0   13.0  359.9  359.6  78.6  80.02  168.27   \n",
       "2008           6.399  10.6   12.3  360.0  359.9  79.9  80.02  182.14   \n",
       "2009           3.068  12.0   13.7  359.7  359.7  80.5  80.02  231.50   \n",
       "2010           5.234  11.4   13.5  358.4  359.1  80.6  80.02  209.66   \n",
       "2011           5.883   9.7   13.5  358.6  358.1  80.8  80.02  157.12   \n",
       "2012           4.249   9.9   14.2  359.7  359.8  80.2  80.02  161.72   \n",
       "2013           4.123  11.4   13.4  358.6  359.5  80.5  80.02  212.70   \n",
       "2014           3.707  10.6   12.4  359.8  359.4  79.0  80.02  181.21   \n",
       "2015           4.447  10.8   25.9  359.9  359.2  80.1  80.02  199.88   \n",
       "2016           4.941  10.0   12.2  359.9  358.5  80.3  80.02  164.87   \n",
       "2017           5.050  10.7   12.8  359.5  359.7  80.9  80.02  188.38   \n",
       "\n",
       "                         lp     uw     vw  \n",
       "YY_mm_DD_time                              \n",
       "1979           2.861100e+02  17.97  13.48  \n",
       "1980           2.714000e+02  13.64  13.48  \n",
       "1981           2.645200e+02  17.22  13.52  \n",
       "1982           2.530700e+02  17.41  13.98  \n",
       "1983           2.272700e+02  15.89  11.19  \n",
       "1984           2.666000e+02  13.56  15.17  \n",
       "1985           2.678000e+02  16.49  12.25  \n",
       "1986           2.640600e+02  14.99  10.32  \n",
       "1987           4.209630e+03  14.69  11.88  \n",
       "1988           2.359500e+02  14.86  13.82  \n",
       "1989           2.340800e+02  15.45  14.67  \n",
       "1990           2.718500e+02  15.54  16.24  \n",
       "1991           2.388400e+02  14.22  13.74  \n",
       "1992           2.520100e+02  15.60  15.77  \n",
       "1993           2.401400e+02  17.47  13.78  \n",
       "1994           2.100100e+02  13.19  16.33  \n",
       "1995           2.347400e+02  17.84  13.29  \n",
       "1996           2.781100e+02  12.25  13.42  \n",
       "1997           2.244400e+02  14.57  14.11  \n",
       "1998           2.041700e+02  15.72  13.26  \n",
       "1999           2.437300e+02  20.37  13.95  \n",
       "2000           2.387500e+02  12.87  18.71  \n",
       "2001           2.346100e+02  16.23  12.93  \n",
       "2002           2.613400e+02  13.89  13.39  \n",
       "2003           3.870787e+10  15.84  14.26  \n",
       "2004           2.261300e+02  14.36  11.69  \n",
       "2005           2.718600e+02  14.20  15.73  \n",
       "2006           2.587200e+02  12.11  13.72  \n",
       "2007           2.554000e+02  15.66  10.87  \n",
       "2008           2.299600e+02  15.71  18.82  \n",
       "2009           2.767400e+02  10.17  15.09  \n",
       "2010           2.723200e+02  14.84  13.52  \n",
       "2011           2.709100e+02  18.33  13.98  \n",
       "2012           2.940300e+02  13.14  15.05  \n",
       "2013           2.687300e+02  16.11  17.86  \n",
       "2014           2.333800e+02  17.09  15.81  \n",
       "2015           6.677100e+02  12.35  12.16  \n",
       "2016           2.270000e+02  17.76  15.85  \n",
       "2017           2.473300e+02  16.01  18.01  "
      ]
     },
     "execution_count": 45,
     "metadata": {},
     "output_type": "execute_result"
    }
   ],
   "source": [
    "annual_max = df.groupby(df.index.year).max()\n",
    "annual_max"
   ]
  },
  {
   "cell_type": "code",
   "execution_count": 54,
   "metadata": {
    "scrolled": true
   },
   "outputs": [
    {
     "data": {
      "text/plain": [
       "YY_mm_DD_time\n",
       "1979   1979-01-01 08:00:00\n",
       "1980   1980-12-06 09:00:00\n",
       "1981   1981-12-08 19:00:00\n",
       "1982   1982-10-14 19:00:00\n",
       "1983   1983-11-27 14:00:00\n",
       "1984   1984-09-23 16:00:00\n",
       "1985   1985-03-16 16:00:00\n",
       "1986   1986-01-24 06:00:00\n",
       "1987   1987-06-15 21:00:00\n",
       "1988   1988-01-29 20:00:00\n",
       "1989   1989-02-26 20:00:00\n",
       "1990   1990-02-27 14:00:00\n",
       "1991   1991-10-18 18:00:00\n",
       "1992   1992-03-23 22:00:00\n",
       "1993   1993-12-24 11:00:00\n",
       "1994   1994-09-15 17:00:00\n",
       "1995   1995-01-26 22:00:00\n",
       "1996   1996-02-19 01:00:00\n",
       "1997   1997-05-06 21:00:00\n",
       "1998   1998-04-11 22:00:00\n",
       "1999   1999-12-28 04:00:00\n",
       "2000   2000-11-06 13:00:00\n",
       "2001   2001-11-08 21:00:00\n",
       "2002   2002-02-20 22:00:00\n",
       "2003   2003-02-03 22:00:00\n",
       "2004   2004-01-12 19:00:00\n",
       "2005   2005-04-16 16:00:00\n",
       "2006   2006-03-03 17:00:00\n",
       "2007   2007-03-01 20:00:00\n",
       "2008   2008-03-21 19:00:00\n",
       "2009   2009-01-25 03:00:00\n",
       "2010   2010-11-08 17:00:00\n",
       "2011   2011-12-16 19:00:00\n",
       "2012   2012-10-28 10:00:00\n",
       "2013   2013-12-26 00:00:00\n",
       "2014   2014-11-05 04:00:00\n",
       "2015   2015-11-21 01:00:00\n",
       "2016   2016-01-12 00:00:00\n",
       "2017   2017-12-11 15:00:00\n",
       "Name: hs, dtype: datetime64[ns]"
      ]
     },
     "execution_count": 54,
     "metadata": {},
     "output_type": "execute_result"
    }
   ],
   "source": [
    "index_hs_max=df.hs.groupby(df.index.year).idxmax()\n",
    "index_hs_max"
   ]
  },
  {
   "cell_type": "code",
   "execution_count": 56,
   "metadata": {},
   "outputs": [
    {
     "data": {
      "image/png": "[encoded data removed]",
      "text/plain": [
       "<Figure size 432x288 with 1 Axes>"
      ]
     },
     "metadata": {
      "needs_background": "light"
     },
     "output_type": "display_data"
    }
   ],
   "source": [
    "df.groupby(df.index.month).mean().plot();"
   ]
  }
 ],
 "metadata": {
  "anaconda-cloud": {},
  "colab": {
   "name": "03.11-Working-with-Time-Series.ipynb",
   "provenance": []
  },
  "kernelspec": {
   "display_name": "Python 3 (ipykernel)",
   "language": "python",
   "name": "python3"
  },
  "language_info": {
   "codemirror_mode": {
    "name": "ipython",
    "version": 3
   },
   "file_extension": ".py",
   "mimetype": "text/x-python",
   "name": "python",
   "nbconvert_exporter": "python",
   "pygments_lexer": "ipython3",
   "version": "3.8.13"
  }
 },
 "nbformat": 4,
 "nbformat_minor": 1
}
