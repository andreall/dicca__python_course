{
 "cells": [
  {
   "cell_type": "markdown",
   "metadata": {
    "id": "1A5jvl8BivV7"
   },
   "source": [
    "# Pandas: Time Series"
   ]
  },
  {
   "cell_type": "markdown",
   "metadata": {
    "id": "diPfOduyivV7"
   },
   "source": [
    "### Native Python dates and times: ``datetime`` and ``dateutil``\n",
    "\n",
    "Python's basic objects for working with dates and times reside in the built-in ``datetime`` module.\n",
    "Along with the third-party ``dateutil`` module, you can use it to quickly perform a host of useful functionalities on dates and times.\n",
    "For example, you can manually build a date using the ``datetime`` type:"
   ]
  },
  {
   "cell_type": "code",
   "execution_count": null,
   "metadata": {
    "id": "ai8mid8bivV8",
    "outputId": "13b4c356-8786-44ac-f838-439e899caf2a"
   },
   "outputs": [
    {
     "data": {
      "text/plain": [
       "datetime.datetime(2015, 7, 4, 0, 0)"
      ]
     },
     "execution_count": 1,
     "metadata": {
      "tags": []
     },
     "output_type": "execute_result"
    }
   ],
   "source": [
    "from datetime import datetime\n",
    "datetime(year=2015, month=7, day=4)"
   ]
  },
  {
   "cell_type": "markdown",
   "metadata": {
    "id": "zSIt1YxhivV8"
   },
   "source": [
    "Or, using the ``dateutil`` module, you can parse dates from a variety of string formats:"
   ]
  },
  {
   "cell_type": "code",
   "execution_count": null,
   "metadata": {
    "id": "Ms6gcVFOivV9",
    "outputId": "de94588b-c4e9-4d08-c596-f138be0c9a8b"
   },
   "outputs": [
    {
     "data": {
      "text/plain": [
       "datetime.datetime(2015, 7, 4, 0, 0)"
      ]
     },
     "execution_count": 2,
     "metadata": {
      "tags": []
     },
     "output_type": "execute_result"
    }
   ],
   "source": [
    "from dateutil import parser\n",
    "date = parser.parse(\"4th of July, 2015\")\n",
    "date"
   ]
  },
  {
   "cell_type": "markdown",
   "metadata": {
    "id": "pseoYzIWivV9"
   },
   "source": [
    "Once you have a ``datetime`` object, you can do things like printing the day of the week:"
   ]
  },
  {
   "cell_type": "code",
   "execution_count": null,
   "metadata": {
    "id": "vcNCc9FnivV9",
    "outputId": "405ffe56-c4f2-4d60-cbc1-1e3d280dfb95"
   },
   "outputs": [
    {
     "data": {
      "text/plain": [
       "'Saturday'"
      ]
     },
     "execution_count": 3,
     "metadata": {
      "tags": []
     },
     "output_type": "execute_result"
    }
   ],
   "source": [
    "date.strftime('%A')"
   ]
  },
  {
   "cell_type": "markdown",
   "metadata": {
    "id": "uoYM-yICivV9"
   },
   "source": [
    "In the final line, we've used one of the standard string format codes for printing dates (``\"%A\"``), which you can read about in the [strftime section](https://docs.python.org/3/library/datetime.html#strftime-and-strptime-behavior) of Python's [datetime documentation](https://docs.python.org/3/library/datetime.html).\n",
    "Documentation of other useful date utilities can be found in [dateutil's online documentation](http://labix.org/python-dateutil).\n",
    "A related package to be aware of is [``pytz``](http://pytz.sourceforge.net/), which contains tools for working with the most migrane-inducing piece of time series data: time zones.\n",
    "\n",
    "The power of ``datetime`` and ``dateutil`` lie in their flexibility and easy syntax: you can use these objects and their built-in methods to easily perform nearly any operation you might be interested in.\n",
    "Where they break down is when you wish to work with large arrays of dates and times:\n",
    "just as lists of Python numerical variables are suboptimal compared to NumPy-style typed numerical arrays, lists of Python datetime objects are suboptimal compared to typed arrays of encoded dates."
   ]
  },
  {
   "cell_type": "markdown",
   "metadata": {
    "id": "_dPZAth0ivV9"
   },
   "source": [
    "### Typed arrays of times: NumPy's ``datetime64``\n",
    "\n",
    "The weaknesses of Python's datetime format inspired the NumPy team to add a set of native time series data type to NumPy.\n",
    "The ``datetime64`` dtype encodes dates as 64-bit integers, and thus allows arrays of dates to be represented very compactly.\n",
    "The ``datetime64`` requires a very specific input format:"
   ]
  },
  {
   "cell_type": "code",
   "execution_count": null,
   "metadata": {
    "id": "hg7RQiTWivV-",
    "outputId": "8c39a18f-9712-491e-b816-fb478ed1161e"
   },
   "outputs": [
    {
     "data": {
      "text/plain": [
       "array(datetime.date(2015, 7, 4), dtype='datetime64[D]')"
      ]
     },
     "execution_count": 4,
     "metadata": {
      "tags": []
     },
     "output_type": "execute_result"
    }
   ],
   "source": [
    "import numpy as np\n",
    "date = np.array('2015-07-04', dtype=np.datetime64)\n",
    "date"
   ]
  },
  {
   "cell_type": "markdown",
   "metadata": {
    "id": "D2fP4GjHivV-"
   },
   "source": [
    "Once we have this date formatted, however, we can quickly do vectorized operations on it:"
   ]
  },
  {
   "cell_type": "code",
   "execution_count": null,
   "metadata": {
    "id": "MWQyoRwGivV-",
    "outputId": "ec31a8c3-1be4-4afa-d7d4-328b1654a0df"
   },
   "outputs": [
    {
     "data": {
      "text/plain": [
       "array(['2015-07-04', '2015-07-05', '2015-07-06', '2015-07-07',\n",
       "       '2015-07-08', '2015-07-09', '2015-07-10', '2015-07-11',\n",
       "       '2015-07-12', '2015-07-13', '2015-07-14', '2015-07-15'], dtype='datetime64[D]')"
      ]
     },
     "execution_count": 5,
     "metadata": {
      "tags": []
     },
     "output_type": "execute_result"
    }
   ],
   "source": [
    "date + np.arange(12)"
   ]
  },
  {
   "cell_type": "code",
   "execution_count": null,
   "metadata": {
    "id": "oVqx4lQgivV_",
    "outputId": "fd8a2ab8-b7b0-4159-a58e-a9172da820b0"
   },
   "outputs": [
    {
     "data": {
      "text/plain": [
       "numpy.datetime64('2015-07-04T12:00')"
      ]
     },
     "execution_count": 7,
     "metadata": {
      "tags": []
     },
     "output_type": "execute_result"
    }
   ],
   "source": [
    "np.datetime64('2015-07-04 12:00')"
   ]
  },
  {
   "cell_type": "markdown",
   "metadata": {
    "id": "ZoOa9DkeivV_"
   },
   "source": [
    "Notice that the time zone is automatically set to the local time on the computer executing the code.\n",
    "You can force any desired fundamental unit using one of many format codes; for example, here we'll force a nanosecond-based time:"
   ]
  },
  {
   "cell_type": "code",
   "execution_count": null,
   "metadata": {
    "id": "0Vae8GVxivWA",
    "outputId": "22299253-86c0-4837-cb05-e7d91372dfa6"
   },
   "outputs": [
    {
     "data": {
      "text/plain": [
       "numpy.datetime64('2015-07-04T12:59:59.500000000')"
      ]
     },
     "execution_count": 8,
     "metadata": {
      "tags": []
     },
     "output_type": "execute_result"
    }
   ],
   "source": [
    "np.datetime64('2015-07-04 12:59:59.50', 'ns')"
   ]
  },
  {
   "cell_type": "markdown",
   "metadata": {
    "id": "Nw8b4_gWivWA"
   },
   "source": [
    "The following table, drawn from the [NumPy datetime64 documentation](http://docs.scipy.org/doc/numpy/reference/arrays.datetime.html), lists the available format codes along with the relative and absolute timespans that they can encode:"
   ]
  },
  {
   "cell_type": "markdown",
   "metadata": {
    "id": "g4tU0NbOivWA"
   },
   "source": [
    "|Code    | Meaning     | Time span (relative) | Time span (absolute)   |\n",
    "|--------|-------------|----------------------|------------------------|\n",
    "| ``Y``  | Year\t       | ± 9.2e18 years       | [9.2e18 BC, 9.2e18 AD] |\n",
    "| ``M``  | Month       | ± 7.6e17 years       | [7.6e17 BC, 7.6e17 AD] |\n",
    "| ``W``  | Week\t       | ± 1.7e17 years       | [1.7e17 BC, 1.7e17 AD] |\n",
    "| ``D``  | Day         | ± 2.5e16 years       | [2.5e16 BC, 2.5e16 AD] |\n",
    "| ``h``  | Hour        | ± 1.0e15 years       | [1.0e15 BC, 1.0e15 AD] |\n",
    "| ``m``  | Minute      | ± 1.7e13 years       | [1.7e13 BC, 1.7e13 AD] |\n",
    "| ``s``  | Second      | ± 2.9e12 years       | [ 2.9e9 BC, 2.9e9 AD]  |\n",
    "| ``ms`` | Millisecond | ± 2.9e9 years        | [ 2.9e6 BC, 2.9e6 AD]  |\n",
    "| ``us`` | Microsecond | ± 2.9e6 years        | [290301 BC, 294241 AD] |\n",
    "| ``ns`` | Nanosecond  | ± 292 years          | [ 1678 AD, 2262 AD]    |\n",
    "| ``ps`` | Picosecond  | ± 106 days           | [ 1969 AD, 1970 AD]    |\n",
    "| ``fs`` | Femtosecond | ± 2.6 hours          | [ 1969 AD, 1970 AD]    |\n",
    "| ``as`` | Attosecond  | ± 9.2 seconds        | [ 1969 AD, 1970 AD]    |"
   ]
  },
  {
   "cell_type": "markdown",
   "metadata": {
    "id": "CD2eqxeFivWA"
   },
   "source": [
    "For the types of data we see in the real world, a useful default is ``datetime64[ns]``, as it can encode a useful range of modern dates with a suitably fine precision."
   ]
  },
  {
   "cell_type": "markdown",
   "metadata": {
    "id": "Ee5_ApZ1ivWA"
   },
   "source": [
    "### Dates and times in pandas: best of both worlds\n",
    "\n",
    "Pandas builds upon all the tools just discussed to provide a ``Timestamp`` object, which combines the ease-of-use of ``datetime`` and ``dateutil`` with the efficient storage and vectorized interface of ``numpy.datetime64``.\n",
    "From a group of these ``Timestamp`` objects, Pandas can construct a ``DatetimeIndex`` that can be used to index data in a ``Series`` or ``DataFrame``; we'll see many examples of this below."
   ]
  },
  {
   "cell_type": "code",
   "execution_count": null,
   "metadata": {
    "id": "eHx3OEEbivWA",
    "outputId": "39d7a630-4f49-4173-9297-76d9bf71027a"
   },
   "outputs": [
    {
     "data": {
      "text/plain": [
       "Timestamp('2015-07-04 00:00:00')"
      ]
     },
     "execution_count": 9,
     "metadata": {
      "tags": []
     },
     "output_type": "execute_result"
    }
   ],
   "source": [
    "import pandas as pd\n",
    "date = pd.to_datetime(\"4th of July, 2015\")\n",
    "date"
   ]
  },
  {
   "cell_type": "code",
   "execution_count": null,
   "metadata": {
    "id": "CK36pUy4ivWB",
    "outputId": "e9170b0a-e306-4475-9d26-9e01bf658d19"
   },
   "outputs": [
    {
     "data": {
      "text/plain": [
       "'Saturday'"
      ]
     },
     "execution_count": 10,
     "metadata": {
      "tags": []
     },
     "output_type": "execute_result"
    }
   ],
   "source": [
    "date.strftime('%A')"
   ]
  },
  {
   "cell_type": "code",
   "execution_count": null,
   "metadata": {
    "id": "O7mC2h0UivWB",
    "outputId": "437f0cd5-4be5-4a81-fa7d-632863ed7613"
   },
   "outputs": [
    {
     "data": {
      "text/plain": [
       "DatetimeIndex(['2015-07-04', '2015-07-05', '2015-07-06', '2015-07-07',\n",
       "               '2015-07-08', '2015-07-09', '2015-07-10', '2015-07-11',\n",
       "               '2015-07-12', '2015-07-13', '2015-07-14', '2015-07-15'],\n",
       "              dtype='datetime64[ns]', freq=None)"
      ]
     },
     "execution_count": 11,
     "metadata": {
      "tags": []
     },
     "output_type": "execute_result"
    }
   ],
   "source": [
    "date + pd.to_timedelta(np.arange(12), 'D')"
   ]
  },
  {
   "cell_type": "markdown",
   "metadata": {
    "id": "SfwXjOKYivWB"
   },
   "source": [
    "## Pandas Time Series: Indexing by Time\n",
    "\n",
    "Where the Pandas time series tools really become useful is when you begin to *index data by timestamps*.\n",
    "For example, we can construct a ``Series`` object that has time indexed data:"
   ]
  },
  {
   "cell_type": "code",
   "execution_count": null,
   "metadata": {
    "id": "Y_u3NSLkivWB",
    "outputId": "16d23571-ef7f-454a-885d-69b3771e7a8f"
   },
   "outputs": [
    {
     "data": {
      "text/plain": [
       "2014-07-04    0\n",
       "2014-08-04    1\n",
       "2015-07-04    2\n",
       "2015-08-04    3\n",
       "dtype: int64"
      ]
     },
     "execution_count": 12,
     "metadata": {
      "tags": []
     },
     "output_type": "execute_result"
    }
   ],
   "source": [
    "index = pd.DatetimeIndex(['2014-07-04', '2014-08-04',\n",
    "                          '2015-07-04', '2015-08-04'])\n",
    "data = pd.Series([0, 1, 2, 3], index=index)\n",
    "data"
   ]
  },
  {
   "cell_type": "markdown",
   "metadata": {
    "id": "s0cTrRK5ivWC"
   },
   "source": [
    "Now that we have this data in a ``Series``, we can make use of any of the ``Series`` indexing patterns we discussed in previous sections, passing values that can be coerced into dates:"
   ]
  },
  {
   "cell_type": "code",
   "execution_count": null,
   "metadata": {
    "id": "LooMknK9ivWC",
    "outputId": "04272245-e211-4823-f3f7-c23aaa928e78"
   },
   "outputs": [
    {
     "data": {
      "text/plain": [
       "2014-07-04    0\n",
       "2014-08-04    1\n",
       "2015-07-04    2\n",
       "dtype: int64"
      ]
     },
     "execution_count": 13,
     "metadata": {
      "tags": []
     },
     "output_type": "execute_result"
    }
   ],
   "source": [
    "data['2014-07-04':'2015-07-04']"
   ]
  },
  {
   "cell_type": "markdown",
   "metadata": {
    "id": "equISoh0ivWC"
   },
   "source": [
    "There are additional special date-only indexing operations, such as passing a year to obtain a slice of all data from that year:"
   ]
  },
  {
   "cell_type": "code",
   "execution_count": null,
   "metadata": {
    "id": "V3t4urkmivWC",
    "outputId": "791d1272-314c-4d9e-910b-89d1d1eb5450"
   },
   "outputs": [
    {
     "data": {
      "text/plain": [
       "2015-07-04    2\n",
       "2015-08-04    3\n",
       "dtype: int64"
      ]
     },
     "execution_count": 14,
     "metadata": {
      "tags": []
     },
     "output_type": "execute_result"
    }
   ],
   "source": [
    "data['2015']"
   ]
  },
  {
   "cell_type": "markdown",
   "metadata": {
    "id": "YaKdGxvTivWC"
   },
   "source": [
    "Later, we will see additional examples of the convenience of dates-as-indices.\n",
    "But first, a closer look at the available time series data structures."
   ]
  },
  {
   "cell_type": "markdown",
   "metadata": {
    "id": "IH8-uonqivWC"
   },
   "source": [
    "## Pandas Time Series Data Structures\n",
    "\n",
    "This section will introduce the fundamental Pandas data structures for working with time series data:\n",
    "\n",
    "- For *time stamps*, Pandas provides the ``Timestamp`` type. As mentioned before, it is essentially a replacement for Python's native ``datetime``, but is based on the more efficient ``numpy.datetime64`` data type. The associated Index structure is ``DatetimeIndex``.\n",
    "- For *time Periods*, Pandas provides the ``Period`` type. This encodes a fixed-frequency interval based on ``numpy.datetime64``. The associated index structure is ``PeriodIndex``.\n",
    "- For *time deltas* or *durations*, Pandas provides the ``Timedelta`` type. ``Timedelta`` is a more efficient replacement for Python's native ``datetime.timedelta`` type, and is based on ``numpy.timedelta64``. The associated index structure is ``TimedeltaIndex``."
   ]
  },
  {
   "cell_type": "markdown",
   "metadata": {
    "id": "GvDgP-0aivWC"
   },
   "source": [
    "The most fundamental of these date/time objects are the ``Timestamp`` and ``DatetimeIndex`` objects.\n",
    "While these class objects can be invoked directly, it is more common to use the ``pd.to_datetime()`` function, which can parse a wide variety of formats.\n",
    "Passing a single date to ``pd.to_datetime()`` yields a ``Timestamp``; passing a series of dates by default yields a ``DatetimeIndex``:"
   ]
  },
  {
   "cell_type": "code",
   "execution_count": null,
   "metadata": {
    "id": "2F5biPpbivWD",
    "outputId": "52a7d85a-8c77-4d2f-da1f-fc63279ccde7"
   },
   "outputs": [
    {
     "data": {
      "text/plain": [
       "DatetimeIndex(['2015-07-03', '2015-07-04', '2015-07-06', '2015-07-07',\n",
       "               '2015-07-08'],\n",
       "              dtype='datetime64[ns]', freq=None)"
      ]
     },
     "execution_count": 15,
     "metadata": {
      "tags": []
     },
     "output_type": "execute_result"
    }
   ],
   "source": [
    "dates = pd.to_datetime([datetime(2015, 7, 3), '4th of July, 2015',\n",
    "                       '2015-Jul-6', '07-07-2015', '20150708'])\n",
    "dates"
   ]
  },
  {
   "cell_type": "markdown",
   "metadata": {
    "id": "-URMCOP_ivWD"
   },
   "source": [
    "A ``TimedeltaIndex`` is created, for example, when a date is subtracted from another:"
   ]
  },
  {
   "cell_type": "code",
   "execution_count": null,
   "metadata": {
    "id": "9cWyjF8fivWD",
    "outputId": "c940b732-414e-47c0-b22b-818b77d2006e"
   },
   "outputs": [
    {
     "data": {
      "text/plain": [
       "TimedeltaIndex(['0 days', '1 days', '3 days', '4 days', '5 days'], dtype='timedelta64[ns]', freq=None)"
      ]
     },
     "execution_count": 17,
     "metadata": {
      "tags": []
     },
     "output_type": "execute_result"
    }
   ],
   "source": [
    "dates - dates[0]"
   ]
  },
  {
   "cell_type": "markdown",
   "metadata": {
    "id": "OOaGhmktivWD"
   },
   "source": [
    "### Regular sequences: ``pd.date_range()``\n",
    "\n",
    "To make the creation of regular date sequences more convenient, Pandas offers a few functions for this purpose: ``pd.date_range()`` for timestamps, ``pd.period_range()`` for periods, and ``pd.timedelta_range()`` for time deltas.\n",
    "We've seen that Python's ``range()`` and NumPy's ``np.arange()`` turn a startpoint, endpoint, and optional stepsize into a sequence.\n",
    "Similarly, ``pd.date_range()`` accepts a start date, an end date, and an optional frequency code to create a regular sequence of dates.\n",
    "By default, the frequency is one day:"
   ]
  },
  {
   "cell_type": "code",
   "execution_count": null,
   "metadata": {
    "id": "e6nyt6qjivWD",
    "outputId": "572894fa-3cc7-4de7-96ff-62e887375ae0"
   },
   "outputs": [
    {
     "data": {
      "text/plain": [
       "DatetimeIndex(['2015-07-03', '2015-07-04', '2015-07-05', '2015-07-06',\n",
       "               '2015-07-07', '2015-07-08', '2015-07-09', '2015-07-10'],\n",
       "              dtype='datetime64[ns]', freq='D')"
      ]
     },
     "execution_count": 18,
     "metadata": {
      "tags": []
     },
     "output_type": "execute_result"
    }
   ],
   "source": [
    "pd.date_range('2015-07-03', '2015-07-10')"
   ]
  },
  {
   "cell_type": "markdown",
   "metadata": {
    "id": "yNSrLNCrivWD"
   },
   "source": [
    "Alternatively, the date range can be specified not with a start and endpoint, but with a startpoint and a number of periods:"
   ]
  },
  {
   "cell_type": "code",
   "execution_count": null,
   "metadata": {
    "id": "gtBxOG7tivWE",
    "outputId": "8c26ebc6-76f4-4a87-ce2d-d148452d0925"
   },
   "outputs": [
    {
     "data": {
      "text/plain": [
       "DatetimeIndex(['2015-07-03', '2015-07-04', '2015-07-05', '2015-07-06',\n",
       "               '2015-07-07', '2015-07-08', '2015-07-09', '2015-07-10'],\n",
       "              dtype='datetime64[ns]', freq='D')"
      ]
     },
     "execution_count": 19,
     "metadata": {
      "tags": []
     },
     "output_type": "execute_result"
    }
   ],
   "source": [
    "pd.date_range('2015-07-03', periods=8)"
   ]
  },
  {
   "cell_type": "markdown",
   "metadata": {
    "id": "_Z0vVXM8ivWE"
   },
   "source": [
    "The spacing can be modified by altering the ``freq`` argument, which defaults to ``D``.\n",
    "For example, here we will construct a range of hourly timestamps:"
   ]
  },
  {
   "cell_type": "code",
   "execution_count": null,
   "metadata": {
    "id": "dtC65k54ivWE",
    "outputId": "43d25a6c-447b-42e4-9e99-2f73da73725a"
   },
   "outputs": [
    {
     "data": {
      "text/plain": [
       "DatetimeIndex(['2015-07-03 00:00:00', '2015-07-03 01:00:00',\n",
       "               '2015-07-03 02:00:00', '2015-07-03 03:00:00',\n",
       "               '2015-07-03 04:00:00', '2015-07-03 05:00:00',\n",
       "               '2015-07-03 06:00:00', '2015-07-03 07:00:00'],\n",
       "              dtype='datetime64[ns]', freq='H')"
      ]
     },
     "execution_count": 20,
     "metadata": {
      "tags": []
     },
     "output_type": "execute_result"
    }
   ],
   "source": [
    "pd.date_range('2015-07-03', periods=8, freq='H')"
   ]
  },
  {
   "cell_type": "markdown",
   "metadata": {
    "id": "A1Z0AMgDivWE"
   },
   "source": [
    "To create regular sequences of ``Period`` or ``Timedelta`` values, the very similar ``pd.period_range()`` and ``pd.timedelta_range()`` functions are useful.\n",
    "Here are some monthly periods:"
   ]
  },
  {
   "cell_type": "code",
   "execution_count": null,
   "metadata": {
    "id": "abxqWMVsivWE",
    "outputId": "8c780d15-c4af-4219-ef1c-9a50ca13d6cc"
   },
   "outputs": [
    {
     "data": {
      "text/plain": [
       "PeriodIndex(['2015-07', '2015-08', '2015-09', '2015-10', '2015-11', '2015-12',\n",
       "             '2016-01', '2016-02'],\n",
       "            dtype='int64', freq='M')"
      ]
     },
     "execution_count": 21,
     "metadata": {
      "tags": []
     },
     "output_type": "execute_result"
    }
   ],
   "source": [
    "pd.period_range('2015-07', periods=8, freq='M')"
   ]
  },
  {
   "cell_type": "markdown",
   "metadata": {
    "id": "SMWxSETkivWE"
   },
   "source": [
    "And a sequence of durations increasing by an hour:"
   ]
  },
  {
   "cell_type": "code",
   "execution_count": null,
   "metadata": {
    "id": "Mx_KwcIhivWE",
    "outputId": "aaf9a9a5-278e-481a-87bd-8bab3c7ddffe"
   },
   "outputs": [
    {
     "data": {
      "text/plain": [
       "TimedeltaIndex(['00:00:00', '01:00:00', '02:00:00', '03:00:00', '04:00:00',\n",
       "                '05:00:00', '06:00:00', '07:00:00', '08:00:00', '09:00:00'],\n",
       "               dtype='timedelta64[ns]', freq='H')"
      ]
     },
     "execution_count": 22,
     "metadata": {
      "tags": []
     },
     "output_type": "execute_result"
    }
   ],
   "source": [
    "pd.timedelta_range(0, periods=10, freq='H')"
   ]
  },
  {
   "cell_type": "markdown",
   "metadata": {
    "id": "9S1uAIDAivWE"
   },
   "source": [
    "## Frequencies and Offsets\n",
    "\n",
    "Fundamental to these Pandas time series tools is the concept of a frequency or date offset.\n",
    "Just as we saw the ``D`` (day) and ``H`` (hour) codes above, we can use such codes to specify any desired frequency spacing.\n",
    "The following table summarizes the main codes available:"
   ]
  },
  {
   "cell_type": "markdown",
   "metadata": {
    "id": "crS30Vd2ivWF"
   },
   "source": [
    "| Code   | Description         | Code   | Description          |\n",
    "|--------|---------------------|--------|----------------------|\n",
    "| ``D``  | Calendar day        | ``B``  | Business day         |\n",
    "| ``W``  | Weekly              |        |                      |\n",
    "| ``M``  | Month end           | ``BM`` | Business month end   |\n",
    "| ``Q``  | Quarter end         | ``BQ`` | Business quarter end |\n",
    "| ``A``  | Year end            | ``BA`` | Business year end    |\n",
    "| ``H``  | Hours               | ``BH`` | Business hours       |\n",
    "| ``T``  | Minutes             |        |                      |\n",
    "| ``S``  | Seconds             |        |                      |\n",
    "| ``L``  | Milliseonds         |        |                      |\n",
    "| ``U``  | Microseconds        |        |                      |\n",
    "| ``N``  | nanoseconds         |        |                      |"
   ]
  },
  {
   "cell_type": "markdown",
   "metadata": {
    "id": "lKWP_BelivWF"
   },
   "source": [
    "The monthly, quarterly, and annual frequencies are all marked at the end of the specified period.\n",
    "By adding an ``S`` suffix to any of these, they instead will be marked at the beginning:"
   ]
  },
  {
   "cell_type": "markdown",
   "metadata": {
    "id": "tGRoZ1sQivWF"
   },
   "source": [
    "| Code    | Description            || Code    | Description            |\n",
    "|---------|------------------------||---------|------------------------|\n",
    "| ``MS``  | Month start            ||``BMS``  | Business month start   |\n",
    "| ``QS``  | Quarter start          ||``BQS``  | Business quarter start |\n",
    "| ``AS``  | Year start             ||``BAS``  | Business year start    |"
   ]
  },
  {
   "cell_type": "markdown",
   "metadata": {
    "id": "FLLVs9p4ivWF"
   },
   "source": [
    "Additionally, you can change the month used to mark any quarterly or annual code by adding a three-letter month code as a suffix:\n",
    "\n",
    "- ``Q-JAN``, ``BQ-FEB``, ``QS-MAR``, ``BQS-APR``, etc.\n",
    "- ``A-JAN``, ``BA-FEB``, ``AS-MAR``, ``BAS-APR``, etc.\n",
    "\n",
    "In the same way, the split-point of the weekly frequency can be modified by adding a three-letter weekday code:\n",
    "\n",
    "- ``W-SUN``, ``W-MON``, ``W-TUE``, ``W-WED``, etc.\n",
    "\n",
    "On top of this, codes can be combined with numbers to specify other frequencies.\n",
    "For example, for a frequency of 2 hours 30 minutes, we can combine the hour (``H``) and minute (``T``) codes as follows:"
   ]
  },
  {
   "cell_type": "code",
   "execution_count": null,
   "metadata": {
    "id": "ddL90xHZivWF",
    "outputId": "7180227b-5ff7-4f4a-d8f4-f1751bc425fa"
   },
   "outputs": [
    {
     "data": {
      "text/plain": [
       "TimedeltaIndex(['00:00:00', '02:30:00', '05:00:00', '07:30:00', '10:00:00',\n",
       "                '12:30:00', '15:00:00', '17:30:00', '20:00:00'],\n",
       "               dtype='timedelta64[ns]', freq='150T')"
      ]
     },
     "execution_count": 23,
     "metadata": {
      "tags": []
     },
     "output_type": "execute_result"
    }
   ],
   "source": [
    "pd.timedelta_range(0, periods=9, freq=\"2H30T\")"
   ]
  },
  {
   "cell_type": "markdown",
   "metadata": {
    "id": "q0IwYRwqivWF"
   },
   "source": [
    "All of these short codes refer to specific instances of Pandas time series offsets, which can be found in the ``pd.tseries.offsets`` module.\n",
    "For example, we can create a business day offset directly as follows:"
   ]
  },
  {
   "cell_type": "code",
   "execution_count": null,
   "metadata": {
    "id": "jVUrU1g3ivWF",
    "outputId": "47d3fb2b-7e43-4d9a-fa28-b03af85e6476"
   },
   "outputs": [
    {
     "data": {
      "text/plain": [
       "DatetimeIndex(['2015-07-01', '2015-07-02', '2015-07-03', '2015-07-06',\n",
       "               '2015-07-07'],\n",
       "              dtype='datetime64[ns]', freq='B')"
      ]
     },
     "execution_count": 24,
     "metadata": {
      "tags": []
     },
     "output_type": "execute_result"
    }
   ],
   "source": [
    "from pandas.tseries.offsets import BDay\n",
    "pd.date_range('2015-07-01', periods=5, freq=BDay())"
   ]
  },
  {
   "cell_type": "markdown",
   "metadata": {
    "id": "0JqiSPTYivWG"
   },
   "source": [
    "## Resampling, Shifting, and Windowing"
   ]
  },
  {
   "cell_type": "code",
   "execution_count": 3,
   "metadata": {
    "id": "vsKeo9zIivWG",
    "outputId": "47697f6a-9786-44e8-d95f-6ace618889f4",
    "scrolled": false
   },
   "outputs": [
    {
     "data": {
      "text/html": [
       "<div>\n",
       "<style scoped>\n",
       "    .dataframe tbody tr th:only-of-type {\n",
       "        vertical-align: middle;\n",
       "    }\n",
       "\n",
       "    .dataframe tbody tr th {\n",
       "        vertical-align: top;\n",
       "    }\n",
       "\n",
       "    .dataframe thead th {\n",
       "        text-align: right;\n",
       "    }\n",
       "</style>\n",
       "<table border=\"1\" class=\"dataframe\">\n",
       "  <thead>\n",
       "    <tr style=\"text-align: right;\">\n",
       "      <th></th>\n",
       "      <th>Hm0</th>\n",
       "      <th>Tm02</th>\n",
       "      <th>Tp</th>\n",
       "      <th>DirM</th>\n",
       "      <th>Hm0_V</th>\n",
       "      <th>DirM_V</th>\n",
       "      <th>Hm0_F1</th>\n",
       "      <th>Tm02_F1</th>\n",
       "      <th>DirM_F1</th>\n",
       "      <th>Hm0_F2</th>\n",
       "      <th>Tm02_F2</th>\n",
       "      <th>DirM_F2</th>\n",
       "      <th>VelV</th>\n",
       "      <th>DirV</th>\n",
       "    </tr>\n",
       "    <tr>\n",
       "      <th>AA_MM_DD_HH</th>\n",
       "      <th></th>\n",
       "      <th></th>\n",
       "      <th></th>\n",
       "      <th></th>\n",
       "      <th></th>\n",
       "      <th></th>\n",
       "      <th></th>\n",
       "      <th></th>\n",
       "      <th></th>\n",
       "      <th></th>\n",
       "      <th></th>\n",
       "      <th></th>\n",
       "      <th></th>\n",
       "      <th></th>\n",
       "    </tr>\n",
       "  </thead>\n",
       "  <tbody>\n",
       "    <tr>\n",
       "      <th>2016-01-01 00:00:00</th>\n",
       "      <td>2.0</td>\n",
       "      <td>8.2</td>\n",
       "      <td>14.1</td>\n",
       "      <td>275.0</td>\n",
       "      <td>-99.9</td>\n",
       "      <td>-99.9</td>\n",
       "      <td>2.0</td>\n",
       "      <td>8.8</td>\n",
       "      <td>275.0</td>\n",
       "      <td>-99.9</td>\n",
       "      <td>-99.9</td>\n",
       "      <td>-99.9</td>\n",
       "      <td>3.7</td>\n",
       "      <td>192.0</td>\n",
       "    </tr>\n",
       "    <tr>\n",
       "      <th>2016-01-01 01:00:00</th>\n",
       "      <td>2.0</td>\n",
       "      <td>8.3</td>\n",
       "      <td>13.9</td>\n",
       "      <td>275.0</td>\n",
       "      <td>-99.9</td>\n",
       "      <td>-99.9</td>\n",
       "      <td>2.0</td>\n",
       "      <td>8.9</td>\n",
       "      <td>275.0</td>\n",
       "      <td>-99.9</td>\n",
       "      <td>-99.9</td>\n",
       "      <td>-99.9</td>\n",
       "      <td>5.0</td>\n",
       "      <td>204.0</td>\n",
       "    </tr>\n",
       "    <tr>\n",
       "      <th>2016-01-01 02:00:00</th>\n",
       "      <td>2.0</td>\n",
       "      <td>8.1</td>\n",
       "      <td>13.8</td>\n",
       "      <td>275.0</td>\n",
       "      <td>-99.9</td>\n",
       "      <td>-99.9</td>\n",
       "      <td>2.0</td>\n",
       "      <td>8.8</td>\n",
       "      <td>275.0</td>\n",
       "      <td>-99.9</td>\n",
       "      <td>-99.9</td>\n",
       "      <td>-99.9</td>\n",
       "      <td>5.7</td>\n",
       "      <td>218.0</td>\n",
       "    </tr>\n",
       "    <tr>\n",
       "      <th>2016-01-01 03:00:00</th>\n",
       "      <td>2.0</td>\n",
       "      <td>7.7</td>\n",
       "      <td>13.7</td>\n",
       "      <td>274.0</td>\n",
       "      <td>-99.9</td>\n",
       "      <td>-99.9</td>\n",
       "      <td>2.0</td>\n",
       "      <td>8.5</td>\n",
       "      <td>274.0</td>\n",
       "      <td>-99.9</td>\n",
       "      <td>-99.9</td>\n",
       "      <td>-99.9</td>\n",
       "      <td>6.3</td>\n",
       "      <td>227.0</td>\n",
       "    </tr>\n",
       "    <tr>\n",
       "      <th>2016-01-01 04:00:00</th>\n",
       "      <td>2.0</td>\n",
       "      <td>7.4</td>\n",
       "      <td>13.7</td>\n",
       "      <td>274.0</td>\n",
       "      <td>0.4</td>\n",
       "      <td>224.0</td>\n",
       "      <td>1.9</td>\n",
       "      <td>9.6</td>\n",
       "      <td>276.0</td>\n",
       "      <td>-99.9</td>\n",
       "      <td>-99.9</td>\n",
       "      <td>-99.9</td>\n",
       "      <td>6.1</td>\n",
       "      <td>238.0</td>\n",
       "    </tr>\n",
       "    <tr>\n",
       "      <th>...</th>\n",
       "      <td>...</td>\n",
       "      <td>...</td>\n",
       "      <td>...</td>\n",
       "      <td>...</td>\n",
       "      <td>...</td>\n",
       "      <td>...</td>\n",
       "      <td>...</td>\n",
       "      <td>...</td>\n",
       "      <td>...</td>\n",
       "      <td>...</td>\n",
       "      <td>...</td>\n",
       "      <td>...</td>\n",
       "      <td>...</td>\n",
       "      <td>...</td>\n",
       "    </tr>\n",
       "    <tr>\n",
       "      <th>2016-01-31 19:00:00</th>\n",
       "      <td>1.1</td>\n",
       "      <td>5.9</td>\n",
       "      <td>13.3</td>\n",
       "      <td>288.0</td>\n",
       "      <td>0.3</td>\n",
       "      <td>348.0</td>\n",
       "      <td>1.0</td>\n",
       "      <td>9.1</td>\n",
       "      <td>284.0</td>\n",
       "      <td>0.2</td>\n",
       "      <td>3.6</td>\n",
       "      <td>296.0</td>\n",
       "      <td>4.7</td>\n",
       "      <td>324.0</td>\n",
       "    </tr>\n",
       "    <tr>\n",
       "      <th>2016-01-31 20:00:00</th>\n",
       "      <td>1.0</td>\n",
       "      <td>6.1</td>\n",
       "      <td>13.2</td>\n",
       "      <td>287.0</td>\n",
       "      <td>0.3</td>\n",
       "      <td>325.0</td>\n",
       "      <td>1.0</td>\n",
       "      <td>9.7</td>\n",
       "      <td>284.0</td>\n",
       "      <td>-99.9</td>\n",
       "      <td>-99.9</td>\n",
       "      <td>-99.9</td>\n",
       "      <td>5.2</td>\n",
       "      <td>322.0</td>\n",
       "    </tr>\n",
       "    <tr>\n",
       "      <th>2016-01-31 21:00:00</th>\n",
       "      <td>1.0</td>\n",
       "      <td>6.1</td>\n",
       "      <td>13.2</td>\n",
       "      <td>286.0</td>\n",
       "      <td>0.2</td>\n",
       "      <td>351.0</td>\n",
       "      <td>1.0</td>\n",
       "      <td>9.8</td>\n",
       "      <td>284.0</td>\n",
       "      <td>0.2</td>\n",
       "      <td>3.3</td>\n",
       "      <td>291.0</td>\n",
       "      <td>4.9</td>\n",
       "      <td>332.0</td>\n",
       "    </tr>\n",
       "    <tr>\n",
       "      <th>2016-01-31 22:00:00</th>\n",
       "      <td>1.0</td>\n",
       "      <td>6.1</td>\n",
       "      <td>13.1</td>\n",
       "      <td>286.0</td>\n",
       "      <td>0.2</td>\n",
       "      <td>350.0</td>\n",
       "      <td>1.0</td>\n",
       "      <td>9.8</td>\n",
       "      <td>284.0</td>\n",
       "      <td>0.2</td>\n",
       "      <td>3.3</td>\n",
       "      <td>292.0</td>\n",
       "      <td>4.6</td>\n",
       "      <td>355.0</td>\n",
       "    </tr>\n",
       "    <tr>\n",
       "      <th>2016-01-31 23:00:00</th>\n",
       "      <td>1.0</td>\n",
       "      <td>6.0</td>\n",
       "      <td>13.1</td>\n",
       "      <td>286.0</td>\n",
       "      <td>0.2</td>\n",
       "      <td>352.0</td>\n",
       "      <td>1.0</td>\n",
       "      <td>9.8</td>\n",
       "      <td>284.0</td>\n",
       "      <td>0.2</td>\n",
       "      <td>3.3</td>\n",
       "      <td>293.0</td>\n",
       "      <td>5.7</td>\n",
       "      <td>8.0</td>\n",
       "    </tr>\n",
       "  </tbody>\n",
       "</table>\n",
       "<p>594 rows × 14 columns</p>\n",
       "</div>"
      ],
      "text/plain": [
       "                     Hm0  Tm02    Tp   DirM  Hm0_V  DirM_V  Hm0_F1  Tm02_F1  \\\n",
       "AA_MM_DD_HH                                                                   \n",
       "2016-01-01 00:00:00  2.0   8.2  14.1  275.0  -99.9   -99.9     2.0      8.8   \n",
       "2016-01-01 01:00:00  2.0   8.3  13.9  275.0  -99.9   -99.9     2.0      8.9   \n",
       "2016-01-01 02:00:00  2.0   8.1  13.8  275.0  -99.9   -99.9     2.0      8.8   \n",
       "2016-01-01 03:00:00  2.0   7.7  13.7  274.0  -99.9   -99.9     2.0      8.5   \n",
       "2016-01-01 04:00:00  2.0   7.4  13.7  274.0    0.4   224.0     1.9      9.6   \n",
       "...                  ...   ...   ...    ...    ...     ...     ...      ...   \n",
       "2016-01-31 19:00:00  1.1   5.9  13.3  288.0    0.3   348.0     1.0      9.1   \n",
       "2016-01-31 20:00:00  1.0   6.1  13.2  287.0    0.3   325.0     1.0      9.7   \n",
       "2016-01-31 21:00:00  1.0   6.1  13.2  286.0    0.2   351.0     1.0      9.8   \n",
       "2016-01-31 22:00:00  1.0   6.1  13.1  286.0    0.2   350.0     1.0      9.8   \n",
       "2016-01-31 23:00:00  1.0   6.0  13.1  286.0    0.2   352.0     1.0      9.8   \n",
       "\n",
       "                     DirM_F1  Hm0_F2  Tm02_F2  DirM_F2  VelV   DirV  \n",
       "AA_MM_DD_HH                                                          \n",
       "2016-01-01 00:00:00    275.0   -99.9    -99.9    -99.9   3.7  192.0  \n",
       "2016-01-01 01:00:00    275.0   -99.9    -99.9    -99.9   5.0  204.0  \n",
       "2016-01-01 02:00:00    275.0   -99.9    -99.9    -99.9   5.7  218.0  \n",
       "2016-01-01 03:00:00    274.0   -99.9    -99.9    -99.9   6.3  227.0  \n",
       "2016-01-01 04:00:00    276.0   -99.9    -99.9    -99.9   6.1  238.0  \n",
       "...                      ...     ...      ...      ...   ...    ...  \n",
       "2016-01-31 19:00:00    284.0     0.2      3.6    296.0   4.7  324.0  \n",
       "2016-01-31 20:00:00    284.0   -99.9    -99.9    -99.9   5.2  322.0  \n",
       "2016-01-31 21:00:00    284.0     0.2      3.3    291.0   4.9  332.0  \n",
       "2016-01-31 22:00:00    284.0     0.2      3.3    292.0   4.6  355.0  \n",
       "2016-01-31 23:00:00    284.0     0.2      3.3    293.0   5.7    8.0  \n",
       "\n",
       "[594 rows x 14 columns]"
      ]
     },
     "execution_count": 3,
     "metadata": {},
     "output_type": "execute_result"
    }
   ],
   "source": [
    "import pandas as pd\n",
    "data = pd.read_table('data/SIMAR_gaps.txt', delim_whitespace=True, parse_dates=[[0, 1, 2, 3]], index_col=0)\n",
    "data"
   ]
  },
  {
   "cell_type": "code",
   "execution_count": 4,
   "metadata": {
    "scrolled": true
   },
   "outputs": [
    {
     "data": {
      "text/plain": [
       "AA_MM_DD_HH\n",
       "2016-01-01 00:00:00    2.0\n",
       "2016-01-01 01:00:00    2.0\n",
       "2016-01-01 02:00:00    2.0\n",
       "2016-01-01 03:00:00    2.0\n",
       "2016-01-01 04:00:00    2.0\n",
       "                      ... \n",
       "2016-01-31 19:00:00    1.1\n",
       "2016-01-31 20:00:00    1.0\n",
       "2016-01-31 21:00:00    1.0\n",
       "2016-01-31 22:00:00    1.0\n",
       "2016-01-31 23:00:00    1.0\n",
       "Name: Hm0, Length: 594, dtype: float64"
      ]
     },
     "execution_count": 4,
     "metadata": {},
     "output_type": "execute_result"
    }
   ],
   "source": [
    "data['Hm0']"
   ]
  },
  {
   "cell_type": "code",
   "execution_count": 5,
   "metadata": {
    "scrolled": true
   },
   "outputs": [
    {
     "data": {
      "text/plain": [
       "<AxesSubplot:xlabel='AA_MM_DD_HH'>"
      ]
     },
     "execution_count": 5,
     "metadata": {},
     "output_type": "execute_result"
    },
    {
     "data": {
      "image/png": "[encoded data removed]",
      "text/plain": [
       "<Figure size 432x288 with 1 Axes>"
      ]
     },
     "metadata": {
      "needs_background": "light"
     },
     "output_type": "display_data"
    }
   ],
   "source": [
    "data.Hm0.plot()"
   ]
  },
  {
   "cell_type": "code",
   "execution_count": 13,
   "metadata": {
    "scrolled": true
   },
   "outputs": [
    {
     "data": {
      "text/plain": [
       "<AxesSubplot:xlabel='AA_MM_DD_HH'>"
      ]
     },
     "execution_count": 13,
     "metadata": {},
     "output_type": "execute_result"
    },
    {
     "data": {
      "image/png": "[encoded data removed]",
      "text/plain": [
       "<Figure size 432x288 with 1 Axes>"
      ]
     },
     "metadata": {
      "needs_background": "light"
     },
     "output_type": "display_data"
    }
   ],
   "source": [
    "data = data[data.Hm0 > -99.9]\n",
    "data.Hm0.plot()"
   ]
  },
  {
   "cell_type": "code",
   "execution_count": 18,
   "metadata": {},
   "outputs": [
    {
     "data": {
      "text/plain": [
       "<AxesSubplot:xlabel='AA_MM_DD_HH'>"
      ]
     },
     "execution_count": 18,
     "metadata": {},
     "output_type": "execute_result"
    },
    {
     "data": {
      "image/png": "[encoded data removed]",
      "text/plain": [
       "<Figure size 432x288 with 1 Axes>"
      ]
     },
     "metadata": {
      "needs_background": "light"
     },
     "output_type": "display_data"
    }
   ],
   "source": [
    "data.rolling('12H').mean().Hm0.plot()"
   ]
  },
  {
   "cell_type": "code",
   "execution_count": 32,
   "metadata": {
    "id": "suJTBUdHivWH",
    "outputId": "ef1b6b78-9950-42df-d6f8-dc88efde6198",
    "scrolled": true
   },
   "outputs": [
    {
     "data": {
      "image/png": "[encoded data removed]",
      "text/plain": [
       "<Figure size 432x288 with 1 Axes>"
      ]
     },
     "metadata": {
      "needs_background": "light"
     },
     "output_type": "display_data"
    }
   ],
   "source": [
    "import matplotlib.pyplot as plt\n",
    "data.Hm0.plot(alpha=0.5, style='-.', marker='o', markersize=1)\n",
    "data.Hm0.resample('24H').mean().plot(style=':', linewidth=2)\n",
    "data.Hm0.asfreq('24H').plot(style='--');\n",
    "plt.legend(['input', 'resample', 'asfreq'],\n",
    "           loc='upper left');"
   ]
  },
  {
   "cell_type": "markdown",
   "metadata": {
    "id": "pTfPIlbDivWH"
   },
   "source": [
    "Notice the difference: at each point, ``resample`` reports the *average of the previous year*, while ``asfreq`` reports the *value at the end of the year*."
   ]
  },
  {
   "cell_type": "markdown",
   "metadata": {
    "id": "ED_PiDCHivWH"
   },
   "source": [
    "For up-sampling, ``resample()`` and ``asfreq()`` are largely equivalent, though resample has many more options available.\n",
    "In this case, the default for both methods is to leave the up-sampled points empty, that is, filled with NA values.\n",
    "Just as with the ``pd.fillna()`` function discussed previously, ``asfreq()`` accepts a ``method`` argument to specify how values are imputed.\n",
    "Here, we will resample the business day data at a daily frequency (i.e., including weekends):"
   ]
  },
  {
   "cell_type": "code",
   "execution_count": 40,
   "metadata": {},
   "outputs": [
    {
     "data": {
      "text/html": [
       "<div>\n",
       "<style scoped>\n",
       "    .dataframe tbody tr th:only-of-type {\n",
       "        vertical-align: middle;\n",
       "    }\n",
       "\n",
       "    .dataframe tbody tr th {\n",
       "        vertical-align: top;\n",
       "    }\n",
       "\n",
       "    .dataframe thead th {\n",
       "        text-align: right;\n",
       "    }\n",
       "</style>\n",
       "<table border=\"1\" class=\"dataframe\">\n",
       "  <thead>\n",
       "    <tr style=\"text-align: right;\">\n",
       "      <th></th>\n",
       "      <th>Hm0</th>\n",
       "      <th>Tm02</th>\n",
       "      <th>Tp</th>\n",
       "      <th>DirM</th>\n",
       "      <th>Hm0_V</th>\n",
       "      <th>DirM_V</th>\n",
       "      <th>Hm0_F1</th>\n",
       "      <th>Tm02_F1</th>\n",
       "      <th>DirM_F1</th>\n",
       "      <th>Hm0_F2</th>\n",
       "      <th>Tm02_F2</th>\n",
       "      <th>DirM_F2</th>\n",
       "      <th>VelV</th>\n",
       "      <th>DirV</th>\n",
       "    </tr>\n",
       "    <tr>\n",
       "      <th>AA_MM_DD_HH</th>\n",
       "      <th></th>\n",
       "      <th></th>\n",
       "      <th></th>\n",
       "      <th></th>\n",
       "      <th></th>\n",
       "      <th></th>\n",
       "      <th></th>\n",
       "      <th></th>\n",
       "      <th></th>\n",
       "      <th></th>\n",
       "      <th></th>\n",
       "      <th></th>\n",
       "      <th></th>\n",
       "      <th></th>\n",
       "    </tr>\n",
       "  </thead>\n",
       "  <tbody>\n",
       "    <tr>\n",
       "      <th>2016-01-01 00:00:00</th>\n",
       "      <td>2.0</td>\n",
       "      <td>8.2</td>\n",
       "      <td>14.1</td>\n",
       "      <td>275.0</td>\n",
       "      <td>-99.9</td>\n",
       "      <td>-99.9</td>\n",
       "      <td>2.0</td>\n",
       "      <td>8.8</td>\n",
       "      <td>275.0</td>\n",
       "      <td>-99.9</td>\n",
       "      <td>-99.9</td>\n",
       "      <td>-99.9</td>\n",
       "      <td>3.7</td>\n",
       "      <td>192.0</td>\n",
       "    </tr>\n",
       "    <tr>\n",
       "      <th>2016-01-01 01:00:00</th>\n",
       "      <td>2.0</td>\n",
       "      <td>8.3</td>\n",
       "      <td>13.9</td>\n",
       "      <td>275.0</td>\n",
       "      <td>-99.9</td>\n",
       "      <td>-99.9</td>\n",
       "      <td>2.0</td>\n",
       "      <td>8.9</td>\n",
       "      <td>275.0</td>\n",
       "      <td>-99.9</td>\n",
       "      <td>-99.9</td>\n",
       "      <td>-99.9</td>\n",
       "      <td>5.0</td>\n",
       "      <td>204.0</td>\n",
       "    </tr>\n",
       "    <tr>\n",
       "      <th>2016-01-01 02:00:00</th>\n",
       "      <td>2.0</td>\n",
       "      <td>8.1</td>\n",
       "      <td>13.8</td>\n",
       "      <td>275.0</td>\n",
       "      <td>-99.9</td>\n",
       "      <td>-99.9</td>\n",
       "      <td>2.0</td>\n",
       "      <td>8.8</td>\n",
       "      <td>275.0</td>\n",
       "      <td>-99.9</td>\n",
       "      <td>-99.9</td>\n",
       "      <td>-99.9</td>\n",
       "      <td>5.7</td>\n",
       "      <td>218.0</td>\n",
       "    </tr>\n",
       "    <tr>\n",
       "      <th>2016-01-01 03:00:00</th>\n",
       "      <td>2.0</td>\n",
       "      <td>7.7</td>\n",
       "      <td>13.7</td>\n",
       "      <td>274.0</td>\n",
       "      <td>-99.9</td>\n",
       "      <td>-99.9</td>\n",
       "      <td>2.0</td>\n",
       "      <td>8.5</td>\n",
       "      <td>274.0</td>\n",
       "      <td>-99.9</td>\n",
       "      <td>-99.9</td>\n",
       "      <td>-99.9</td>\n",
       "      <td>6.3</td>\n",
       "      <td>227.0</td>\n",
       "    </tr>\n",
       "    <tr>\n",
       "      <th>2016-01-01 04:00:00</th>\n",
       "      <td>2.0</td>\n",
       "      <td>7.4</td>\n",
       "      <td>13.7</td>\n",
       "      <td>274.0</td>\n",
       "      <td>0.4</td>\n",
       "      <td>224.0</td>\n",
       "      <td>1.9</td>\n",
       "      <td>9.6</td>\n",
       "      <td>276.0</td>\n",
       "      <td>-99.9</td>\n",
       "      <td>-99.9</td>\n",
       "      <td>-99.9</td>\n",
       "      <td>6.1</td>\n",
       "      <td>238.0</td>\n",
       "    </tr>\n",
       "    <tr>\n",
       "      <th>...</th>\n",
       "      <td>...</td>\n",
       "      <td>...</td>\n",
       "      <td>...</td>\n",
       "      <td>...</td>\n",
       "      <td>...</td>\n",
       "      <td>...</td>\n",
       "      <td>...</td>\n",
       "      <td>...</td>\n",
       "      <td>...</td>\n",
       "      <td>...</td>\n",
       "      <td>...</td>\n",
       "      <td>...</td>\n",
       "      <td>...</td>\n",
       "      <td>...</td>\n",
       "    </tr>\n",
       "    <tr>\n",
       "      <th>2016-01-31 19:00:00</th>\n",
       "      <td>1.1</td>\n",
       "      <td>5.9</td>\n",
       "      <td>13.3</td>\n",
       "      <td>288.0</td>\n",
       "      <td>0.3</td>\n",
       "      <td>348.0</td>\n",
       "      <td>1.0</td>\n",
       "      <td>9.1</td>\n",
       "      <td>284.0</td>\n",
       "      <td>0.2</td>\n",
       "      <td>3.6</td>\n",
       "      <td>296.0</td>\n",
       "      <td>4.7</td>\n",
       "      <td>324.0</td>\n",
       "    </tr>\n",
       "    <tr>\n",
       "      <th>2016-01-31 20:00:00</th>\n",
       "      <td>1.0</td>\n",
       "      <td>6.1</td>\n",
       "      <td>13.2</td>\n",
       "      <td>287.0</td>\n",
       "      <td>0.3</td>\n",
       "      <td>325.0</td>\n",
       "      <td>1.0</td>\n",
       "      <td>9.7</td>\n",
       "      <td>284.0</td>\n",
       "      <td>-99.9</td>\n",
       "      <td>-99.9</td>\n",
       "      <td>-99.9</td>\n",
       "      <td>5.2</td>\n",
       "      <td>322.0</td>\n",
       "    </tr>\n",
       "    <tr>\n",
       "      <th>2016-01-31 21:00:00</th>\n",
       "      <td>1.0</td>\n",
       "      <td>6.1</td>\n",
       "      <td>13.2</td>\n",
       "      <td>286.0</td>\n",
       "      <td>0.2</td>\n",
       "      <td>351.0</td>\n",
       "      <td>1.0</td>\n",
       "      <td>9.8</td>\n",
       "      <td>284.0</td>\n",
       "      <td>0.2</td>\n",
       "      <td>3.3</td>\n",
       "      <td>291.0</td>\n",
       "      <td>4.9</td>\n",
       "      <td>332.0</td>\n",
       "    </tr>\n",
       "    <tr>\n",
       "      <th>2016-01-31 22:00:00</th>\n",
       "      <td>1.0</td>\n",
       "      <td>6.1</td>\n",
       "      <td>13.1</td>\n",
       "      <td>286.0</td>\n",
       "      <td>0.2</td>\n",
       "      <td>350.0</td>\n",
       "      <td>1.0</td>\n",
       "      <td>9.8</td>\n",
       "      <td>284.0</td>\n",
       "      <td>0.2</td>\n",
       "      <td>3.3</td>\n",
       "      <td>292.0</td>\n",
       "      <td>4.6</td>\n",
       "      <td>355.0</td>\n",
       "    </tr>\n",
       "    <tr>\n",
       "      <th>2016-01-31 23:00:00</th>\n",
       "      <td>1.0</td>\n",
       "      <td>6.0</td>\n",
       "      <td>13.1</td>\n",
       "      <td>286.0</td>\n",
       "      <td>0.2</td>\n",
       "      <td>352.0</td>\n",
       "      <td>1.0</td>\n",
       "      <td>9.8</td>\n",
       "      <td>284.0</td>\n",
       "      <td>0.2</td>\n",
       "      <td>3.3</td>\n",
       "      <td>293.0</td>\n",
       "      <td>5.7</td>\n",
       "      <td>8.0</td>\n",
       "    </tr>\n",
       "  </tbody>\n",
       "</table>\n",
       "<p>587 rows × 14 columns</p>\n",
       "</div>"
      ],
      "text/plain": [
       "                     Hm0  Tm02    Tp   DirM  Hm0_V  DirM_V  Hm0_F1  Tm02_F1  \\\n",
       "AA_MM_DD_HH                                                                   \n",
       "2016-01-01 00:00:00  2.0   8.2  14.1  275.0  -99.9   -99.9     2.0      8.8   \n",
       "2016-01-01 01:00:00  2.0   8.3  13.9  275.0  -99.9   -99.9     2.0      8.9   \n",
       "2016-01-01 02:00:00  2.0   8.1  13.8  275.0  -99.9   -99.9     2.0      8.8   \n",
       "2016-01-01 03:00:00  2.0   7.7  13.7  274.0  -99.9   -99.9     2.0      8.5   \n",
       "2016-01-01 04:00:00  2.0   7.4  13.7  274.0    0.4   224.0     1.9      9.6   \n",
       "...                  ...   ...   ...    ...    ...     ...     ...      ...   \n",
       "2016-01-31 19:00:00  1.1   5.9  13.3  288.0    0.3   348.0     1.0      9.1   \n",
       "2016-01-31 20:00:00  1.0   6.1  13.2  287.0    0.3   325.0     1.0      9.7   \n",
       "2016-01-31 21:00:00  1.0   6.1  13.2  286.0    0.2   351.0     1.0      9.8   \n",
       "2016-01-31 22:00:00  1.0   6.1  13.1  286.0    0.2   350.0     1.0      9.8   \n",
       "2016-01-31 23:00:00  1.0   6.0  13.1  286.0    0.2   352.0     1.0      9.8   \n",
       "\n",
       "                     DirM_F1  Hm0_F2  Tm02_F2  DirM_F2  VelV   DirV  \n",
       "AA_MM_DD_HH                                                          \n",
       "2016-01-01 00:00:00    275.0   -99.9    -99.9    -99.9   3.7  192.0  \n",
       "2016-01-01 01:00:00    275.0   -99.9    -99.9    -99.9   5.0  204.0  \n",
       "2016-01-01 02:00:00    275.0   -99.9    -99.9    -99.9   5.7  218.0  \n",
       "2016-01-01 03:00:00    274.0   -99.9    -99.9    -99.9   6.3  227.0  \n",
       "2016-01-01 04:00:00    276.0   -99.9    -99.9    -99.9   6.1  238.0  \n",
       "...                      ...     ...      ...      ...   ...    ...  \n",
       "2016-01-31 19:00:00    284.0     0.2      3.6    296.0   4.7  324.0  \n",
       "2016-01-31 20:00:00    284.0   -99.9    -99.9    -99.9   5.2  322.0  \n",
       "2016-01-31 21:00:00    284.0     0.2      3.3    291.0   4.9  332.0  \n",
       "2016-01-31 22:00:00    284.0     0.2      3.3    292.0   4.6  355.0  \n",
       "2016-01-31 23:00:00    284.0     0.2      3.3    293.0   5.7    8.0  \n",
       "\n",
       "[587 rows x 14 columns]"
      ]
     },
     "execution_count": 40,
     "metadata": {},
     "output_type": "execute_result"
    }
   ],
   "source": [
    "data"
   ]
  },
  {
   "cell_type": "code",
   "execution_count": 41,
   "metadata": {},
   "outputs": [
    {
     "data": {
      "text/plain": [
       "AA_MM_DD_HH\n",
       "2016-01-01    2.050000\n",
       "2016-01-02         NaN\n",
       "2016-01-03    1.895833\n",
       "2016-01-04    2.654167\n",
       "2016-01-05    2.787500\n",
       "2016-01-06    1.758333\n",
       "2016-01-07    1.533333\n",
       "2016-01-08    1.908333\n",
       "2016-01-09         NaN\n",
       "2016-01-10         NaN\n",
       "2016-01-11         NaN\n",
       "2016-01-12         NaN\n",
       "2016-01-13    1.450000\n",
       "2016-01-14    1.387500\n",
       "2016-01-15    1.450000\n",
       "2016-01-16    1.945455\n",
       "2016-01-17    1.413043\n",
       "2016-01-18    0.600000\n",
       "2016-01-19    0.800000\n",
       "2016-01-20    1.558333\n",
       "2016-01-21    1.537500\n",
       "2016-01-22    1.500000\n",
       "2016-01-23    1.737500\n",
       "2016-01-24    2.337500\n",
       "2016-01-25    2.091667\n",
       "2016-01-26    1.862500\n",
       "2016-01-27    1.416667\n",
       "2016-01-28    1.475000\n",
       "2016-01-29    1.458333\n",
       "2016-01-30         NaN\n",
       "2016-01-31    1.404167\n",
       "Freq: D, Name: Hm0, dtype: float64"
      ]
     },
     "execution_count": 41,
     "metadata": {},
     "output_type": "execute_result"
    }
   ],
   "source": [
    "data.Hm0.resample('D').mean()"
   ]
  }
 ],
 "metadata": {
  "anaconda-cloud": {},
  "colab": {
   "name": "03.11-Working-with-Time-Series.ipynb",
   "provenance": []
  },
  "kernelspec": {
   "display_name": "Python 3",
   "language": "python",
   "name": "python3"
  },
  "language_info": {
   "codemirror_mode": {
    "name": "ipython",
    "version": 3
   },
   "file_extension": ".py",
   "mimetype": "text/x-python",
   "name": "python",
   "nbconvert_exporter": "python",
   "pygments_lexer": "ipython3",
   "version": "3.8.5"
  }
 },
 "nbformat": 4,
 "nbformat_minor": 1
}
