{
 "cells": [
  {
   "cell_type": "markdown",
   "metadata": {},
   "source": [
    "## JSON files\n",
    "\n",
    "A JSON file is a file that stores simple data structures and objects in JavaScript Object Notation (JSON) format, which is a standard data interchange format. It is primarily used for transmitting data between a web application and a server. JSON files are lightweight, text-based, human-readable, and can be edited using a text editor."
   ]
  },
  {
   "cell_type": "code",
   "execution_count": 1,
   "metadata": {},
   "outputs": [],
   "source": [
    "import pandas as pd\n",
    "from pathlib import Path"
   ]
  },
  {
   "cell_type": "code",
   "execution_count": 2,
   "metadata": {},
   "outputs": [],
   "source": [
    "dir_file = Path('__file__').resolve().parents[0]"
   ]
  },
  {
   "cell_type": "code",
   "execution_count": 13,
   "metadata": {},
   "outputs": [],
   "source": [
    "dir_data = dir_file / 'data' / 'Storico meteo'\n",
    "\n",
    "year = 2012\n",
    "fns = dir_data.glob(f'meteo-{year}-*.json')\n",
    "ff = sorted(fns)"
   ]
  },
  {
   "cell_type": "code",
   "execution_count": 14,
   "metadata": {},
   "outputs": [
    {
     "name": "stdout",
     "output_type": "stream",
     "text": [
      "CPU times: user 46.7 s, sys: 2min 17s, total: 3min 4s\n",
      "Wall time: 4min 5s\n"
     ]
    }
   ],
   "source": [
    "# DO NOT RUN THIS CELL\n",
    "%%time\n",
    "df = pd.read_json(ff[0], lines=True)"
   ]
  },
  {
   "cell_type": "code",
   "execution_count": 15,
   "metadata": {},
   "outputs": [
    {
     "data": {
      "text/html": [
       "<div>\n",
       "<style scoped>\n",
       "    .dataframe tbody tr th:only-of-type {\n",
       "        vertical-align: middle;\n",
       "    }\n",
       "\n",
       "    .dataframe tbody tr th {\n",
       "        vertical-align: top;\n",
       "    }\n",
       "\n",
       "    .dataframe thead th {\n",
       "        text-align: right;\n",
       "    }\n",
       "</style>\n",
       "<table border=\"1\" class=\"dataframe\">\n",
       "  <thead>\n",
       "    <tr style=\"text-align: right;\">\n",
       "      <th></th>\n",
       "      <th>version</th>\n",
       "      <th>network</th>\n",
       "      <th>ident</th>\n",
       "      <th>lon</th>\n",
       "      <th>lat</th>\n",
       "      <th>date</th>\n",
       "      <th>data</th>\n",
       "    </tr>\n",
       "  </thead>\n",
       "  <tbody>\n",
       "    <tr>\n",
       "      <th>0</th>\n",
       "      <td>0.1</td>\n",
       "      <td>agrmet</td>\n",
       "      <td>NaN</td>\n",
       "      <td>1095670</td>\n",
       "      <td>4470214</td>\n",
       "      <td>2012-01-01 00:00:00+00:00</td>\n",
       "      <td>[{'vars': {'B01019': {'v': 'Albareto'}, 'B0119...</td>\n",
       "    </tr>\n",
       "    <tr>\n",
       "      <th>1</th>\n",
       "      <td>0.1</td>\n",
       "      <td>agrmet</td>\n",
       "      <td>NaN</td>\n",
       "      <td>1095670</td>\n",
       "      <td>4470214</td>\n",
       "      <td>2012-01-01 00:15:00+00:00</td>\n",
       "      <td>[{'vars': {'B01019': {'v': 'Albareto'}, 'B0119...</td>\n",
       "    </tr>\n",
       "    <tr>\n",
       "      <th>2</th>\n",
       "      <td>0.1</td>\n",
       "      <td>agrmet</td>\n",
       "      <td>NaN</td>\n",
       "      <td>1095670</td>\n",
       "      <td>4470214</td>\n",
       "      <td>2012-01-01 00:30:00+00:00</td>\n",
       "      <td>[{'vars': {'B01019': {'v': 'Albareto'}, 'B0119...</td>\n",
       "    </tr>\n",
       "    <tr>\n",
       "      <th>3</th>\n",
       "      <td>0.1</td>\n",
       "      <td>agrmet</td>\n",
       "      <td>NaN</td>\n",
       "      <td>1095670</td>\n",
       "      <td>4470214</td>\n",
       "      <td>2012-01-01 00:45:00+00:00</td>\n",
       "      <td>[{'vars': {'B01019': {'v': 'Albareto'}, 'B0119...</td>\n",
       "    </tr>\n",
       "    <tr>\n",
       "      <th>4</th>\n",
       "      <td>0.1</td>\n",
       "      <td>agrmet</td>\n",
       "      <td>NaN</td>\n",
       "      <td>1095670</td>\n",
       "      <td>4470214</td>\n",
       "      <td>2012-01-01 01:00:00+00:00</td>\n",
       "      <td>[{'vars': {'B01019': {'v': 'Albareto'}, 'B0119...</td>\n",
       "    </tr>\n",
       "    <tr>\n",
       "      <th>...</th>\n",
       "      <td>...</td>\n",
       "      <td>...</td>\n",
       "      <td>...</td>\n",
       "      <td>...</td>\n",
       "      <td>...</td>\n",
       "      <td>...</td>\n",
       "      <td>...</td>\n",
       "    </tr>\n",
       "    <tr>\n",
       "      <th>1045505</th>\n",
       "      <td>0.1</td>\n",
       "      <td>spdsra</td>\n",
       "      <td>NaN</td>\n",
       "      <td>1189186</td>\n",
       "      <td>4392525</td>\n",
       "      <td>2012-01-31 19:00:00+00:00</td>\n",
       "      <td>[{'vars': {'B01019': {'v': 'Capaccio'}, 'B0119...</td>\n",
       "    </tr>\n",
       "    <tr>\n",
       "      <th>1045506</th>\n",
       "      <td>0.1</td>\n",
       "      <td>spdsra</td>\n",
       "      <td>NaN</td>\n",
       "      <td>1189186</td>\n",
       "      <td>4392525</td>\n",
       "      <td>2012-01-31 20:00:00+00:00</td>\n",
       "      <td>[{'vars': {'B01019': {'v': 'Capaccio'}, 'B0119...</td>\n",
       "    </tr>\n",
       "    <tr>\n",
       "      <th>1045507</th>\n",
       "      <td>0.1</td>\n",
       "      <td>spdsra</td>\n",
       "      <td>NaN</td>\n",
       "      <td>1189186</td>\n",
       "      <td>4392525</td>\n",
       "      <td>2012-01-31 21:00:00+00:00</td>\n",
       "      <td>[{'vars': {'B01019': {'v': 'Capaccio'}, 'B0119...</td>\n",
       "    </tr>\n",
       "    <tr>\n",
       "      <th>1045508</th>\n",
       "      <td>0.1</td>\n",
       "      <td>spdsra</td>\n",
       "      <td>NaN</td>\n",
       "      <td>1189186</td>\n",
       "      <td>4392525</td>\n",
       "      <td>2012-01-31 22:00:00+00:00</td>\n",
       "      <td>[{'vars': {'B01019': {'v': 'Capaccio'}, 'B0119...</td>\n",
       "    </tr>\n",
       "    <tr>\n",
       "      <th>1045509</th>\n",
       "      <td>0.1</td>\n",
       "      <td>spdsra</td>\n",
       "      <td>NaN</td>\n",
       "      <td>1189186</td>\n",
       "      <td>4392525</td>\n",
       "      <td>2012-01-31 23:00:00+00:00</td>\n",
       "      <td>[{'vars': {'B01019': {'v': 'Capaccio'}, 'B0119...</td>\n",
       "    </tr>\n",
       "  </tbody>\n",
       "</table>\n",
       "<p>1045510 rows × 7 columns</p>\n",
       "</div>"
      ],
      "text/plain": [
       "         version network  ident      lon      lat                      date  \\\n",
       "0            0.1  agrmet    NaN  1095670  4470214 2012-01-01 00:00:00+00:00   \n",
       "1            0.1  agrmet    NaN  1095670  4470214 2012-01-01 00:15:00+00:00   \n",
       "2            0.1  agrmet    NaN  1095670  4470214 2012-01-01 00:30:00+00:00   \n",
       "3            0.1  agrmet    NaN  1095670  4470214 2012-01-01 00:45:00+00:00   \n",
       "4            0.1  agrmet    NaN  1095670  4470214 2012-01-01 01:00:00+00:00   \n",
       "...          ...     ...    ...      ...      ...                       ...   \n",
       "1045505      0.1  spdsra    NaN  1189186  4392525 2012-01-31 19:00:00+00:00   \n",
       "1045506      0.1  spdsra    NaN  1189186  4392525 2012-01-31 20:00:00+00:00   \n",
       "1045507      0.1  spdsra    NaN  1189186  4392525 2012-01-31 21:00:00+00:00   \n",
       "1045508      0.1  spdsra    NaN  1189186  4392525 2012-01-31 22:00:00+00:00   \n",
       "1045509      0.1  spdsra    NaN  1189186  4392525 2012-01-31 23:00:00+00:00   \n",
       "\n",
       "                                                      data  \n",
       "0        [{'vars': {'B01019': {'v': 'Albareto'}, 'B0119...  \n",
       "1        [{'vars': {'B01019': {'v': 'Albareto'}, 'B0119...  \n",
       "2        [{'vars': {'B01019': {'v': 'Albareto'}, 'B0119...  \n",
       "3        [{'vars': {'B01019': {'v': 'Albareto'}, 'B0119...  \n",
       "4        [{'vars': {'B01019': {'v': 'Albareto'}, 'B0119...  \n",
       "...                                                    ...  \n",
       "1045505  [{'vars': {'B01019': {'v': 'Capaccio'}, 'B0119...  \n",
       "1045506  [{'vars': {'B01019': {'v': 'Capaccio'}, 'B0119...  \n",
       "1045507  [{'vars': {'B01019': {'v': 'Capaccio'}, 'B0119...  \n",
       "1045508  [{'vars': {'B01019': {'v': 'Capaccio'}, 'B0119...  \n",
       "1045509  [{'vars': {'B01019': {'v': 'Capaccio'}, 'B0119...  \n",
       "\n",
       "[1045510 rows x 7 columns]"
      ]
     },
     "execution_count": 15,
     "metadata": {},
     "output_type": "execute_result"
    }
   ],
   "source": [
    "df"
   ]
  },
  {
   "cell_type": "code",
   "execution_count": 16,
   "metadata": {
    "scrolled": true
   },
   "outputs": [
    {
     "name": "stdout",
     "output_type": "stream",
     "text": [
      "CPU times: user 36.8 s, sys: 59.5 s, total: 1min 36s\n",
      "Wall time: 2min 5s\n"
     ]
    }
   ],
   "source": [
    "%%time\n",
    "df = pd.read_json(ff[0], lines=True, chunksize=10000) # chunksize is the number of rows per chunk\n",
    "df_list = list()\n",
    "for c in df:\n",
    "    c.drop(columns=['version', 'ident', 'network'], axis=1, inplace=True)\n",
    "    c.set_index('date', inplace=True)\n",
    "    #pd.json_normalize(c.data.values[0])\n",
    "    value_speed = [x[0]['vars']['B05001']['v'] for x in c.data.values if 'B05001' in x[0]['vars']]\n",
    "    c['w_speed'] = value_speed\n",
    "    c.drop(['data'], axis=1, inplace=True)\n",
    "    df_list.append(c)\n",
    "df = pd.concat(df_list)"
   ]
  },
  {
   "cell_type": "markdown",
   "metadata": {},
   "source": [
    "### Dask\n",
    "\n",
    "\n",
    "Parallelize any Python code with Dask Futures, letting you scale any function and for loop, and giving you control and power in any situation."
   ]
  },
  {
   "cell_type": "code",
   "execution_count": 32,
   "metadata": {},
   "outputs": [],
   "source": [
    "import dask.dataframe as dd"
   ]
  },
  {
   "cell_type": "code",
   "execution_count": 128,
   "metadata": {},
   "outputs": [
    {
     "name": "stdout",
     "output_type": "stream",
     "text": [
      "CPU times: user 1min 26s, sys: 2min 57s, total: 4min 23s\n",
      "Wall time: 5min 32s\n"
     ]
    }
   ],
   "source": [
    "%%time\n",
    "ddf = dd.read_json(ff[0], blocksize=5000000) # blocksize is size in bytes of each block  \n",
    "ddf = ddf.drop(columns=['version', 'ident', 'network'], axis=1)\n",
    "list_var = list()\n",
    "for np in range(ddf.npartitions):\n",
    "    ddfp = ddf.partitions[np]\n",
    "    ddfp = ddfp.set_index('date')\n",
    "    value_speed = [x[0]['vars']['B05001']['v'] for x in ddfp.data.compute().values]\n",
    "    list_var.append(value_speed)\n",
    "#ddf = ddf.drop(columns=['data'], axis=1)"
   ]
  },
  {
   "cell_type": "markdown",
   "metadata": {},
   "source": [
    "#### Parallelization!"
   ]
  }
 ],
 "metadata": {
  "kernelspec": {
   "display_name": "Python 3 (ipykernel)",
   "language": "python",
   "name": "python3"
  },
  "language_info": {
   "codemirror_mode": {
    "name": "ipython",
    "version": 3
   },
   "file_extension": ".py",
   "mimetype": "text/x-python",
   "name": "python",
   "nbconvert_exporter": "python",
   "pygments_lexer": "ipython3",
   "version": "3.8.13"
  }
 },
 "nbformat": 4,
 "nbformat_minor": 5
}
