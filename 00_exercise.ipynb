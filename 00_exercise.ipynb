{
 "cells": [
  {
   "cell_type": "markdown",
   "id": "37ed9ba5-a88e-4360-9222-15da52d107d1",
   "metadata": {},
   "source": [
    "### Exercise\n",
    "\n",
    "We will analyze the similarities between different mouses using the euclidean distance"
   ]
  },
  {
   "cell_type": "code",
   "execution_count": 2,
   "id": "15bb5878-30c5-4987-8e14-9c24c12315d1",
   "metadata": {},
   "outputs": [],
   "source": [
    "import numpy as np"
   ]
  },
  {
   "cell_type": "code",
   "execution_count": 8,
   "id": "6157a304-a1ca-42fb-a67c-e5e7aac260f1",
   "metadata": {},
   "outputs": [],
   "source": [
    "weight = np.random.uniform(5, 15, (50, 10)) # gr\n",
    "size = np.random.uniform(5, 20, (50, 10)) # cm\n",
    "speed = np.random.randint(1, 5, (50, 10)) # m/s  "
   ]
  },
  {
   "attachments": {
    "16468c44-c92f-44fb-83b1-024eaba87104.png": {
     "image/png": "[encoded data removed]"
    }
   },
   "cell_type": "markdown",
   "id": "5e1c0f52-e923-4c23-82a3-656ade089216",
   "metadata": {},
   "source": [
    "Euclidean distance\n",
    "\n",
    "![Screenshot 2024-03-25 at 09.44.22.png](attachment:16468c44-c92f-44fb-83b1-024eaba87104.png)\n",
    "\n",
    "\n",
    "So a single mouse if defined by its weight, size and speed and their evolution in time. We have 10 mice and 50 measurements in time."
   ]
  },
  {
   "cell_type": "code",
   "execution_count": 11,
   "id": "c29bf6fb-ea7f-4104-aa0a-74faee575323",
   "metadata": {},
   "outputs": [],
   "source": [
    "def np_normalize_var(var):\n",
    "    var_normed = (var - np.mean(var)) / np.std(var)\n",
    "\n",
    "    return var_normed"
   ]
  },
  {
   "cell_type": "code",
   "execution_count": 22,
   "id": "d46a1cda-a089-4de3-8050-3b40691ada5c",
   "metadata": {},
   "outputs": [],
   "source": [
    "weight_normed = np_normalize_var(weight)\n",
    "size_normed = np_normalize_var(size)\n",
    "speed_normed = np_normalize_var(speed)"
   ]
  },
  {
   "cell_type": "markdown",
   "id": "b2352eac-2bae-4531-a824-ab1ea6ae600b",
   "metadata": {},
   "source": [
    "### Comparison of M1 with M2"
   ]
  },
  {
   "cell_type": "code",
   "execution_count": 26,
   "id": "042dbd70-539e-451f-8e30-4937f3921251",
   "metadata": {},
   "outputs": [
    {
     "data": {
      "text/plain": [
       "array([1.0732668 , 1.99810538, 2.99723068, 2.11849686, 2.09035024,\n",
       "       2.1702486 , 2.5583806 , 1.87460492, 2.90646417, 3.27042974,\n",
       "       1.94356312, 3.11662298, 1.95509689, 3.05289279, 2.67457492,\n",
       "       1.98574121, 1.77538931, 2.53073659, 2.22696904, 2.33061125,\n",
       "       1.64217803, 3.6798199 , 2.78914259, 2.53161656, 3.40591097,\n",
       "       2.39963944, 1.70943978, 3.12031267, 3.19399039, 3.6254302 ,\n",
       "       2.73527243, 2.6636074 , 3.31793604, 2.18744038, 2.36071979,\n",
       "       2.93550908, 2.065443  , 1.32750051, 2.22451639, 2.28603377,\n",
       "       1.2189191 , 2.29971404, 2.47751645, 3.47854975, 3.01573271,\n",
       "       2.70217319, 2.67941981, 1.48121391, 1.79681591, 1.13592686])"
      ]
     },
     "execution_count": 26,
     "metadata": {},
     "output_type": "execute_result"
    }
   ],
   "source": [
    "d = np.sqrt((weight_normed[:, 0] - weight_normed[:, 1])**2 + \n",
    "            (size_normed[:, 0] - size_normed[:, 1])**2 +\n",
    "            (speed_normed[:, 0] - speed_normed[:, 1])**2)\n",
    "d"
   ]
  },
  {
   "cell_type": "markdown",
   "id": "7e7ed141-81b0-4f38-a431-b313d1519ca0",
   "metadata": {},
   "source": [
    "### Comparison of M1 with the rest of the mice"
   ]
  },
  {
   "cell_type": "code",
   "execution_count": 39,
   "id": "8fb71110-5f47-4a92-be6e-f9c44a993dab",
   "metadata": {},
   "outputs": [
    {
     "data": {
      "text/plain": [
       "(50,)"
      ]
     },
     "execution_count": 39,
     "metadata": {},
     "output_type": "execute_result"
    }
   ],
   "source": [
    "weight_normed[:, 0].shape # the first column is an array of 50 values without (row, column) structure"
   ]
  },
  {
   "cell_type": "code",
   "execution_count": 42,
   "id": "1088e878-b086-4177-8ed7-42a39f387435",
   "metadata": {},
   "outputs": [
    {
     "data": {
      "text/plain": [
       "(50, 1)"
      ]
     },
     "execution_count": 42,
     "metadata": {},
     "output_type": "execute_result"
    }
   ],
   "source": [
    "# Reshape the array to (50, 1)\n",
    "weight_normed[:, 0][:, np.newaxis].shape"
   ]
  },
  {
   "cell_type": "code",
   "execution_count": 44,
   "id": "5d43c238-ee1f-4e54-9599-8213087c342d",
   "metadata": {},
   "outputs": [
    {
     "data": {
      "text/plain": [
       "(50, 1)"
      ]
     },
     "execution_count": 44,
     "metadata": {},
     "output_type": "execute_result"
    }
   ],
   "source": [
    "np.reshape(weight_normed[:, 0], (50, 1)).shape"
   ]
  },
  {
   "cell_type": "code",
   "execution_count": 76,
   "id": "158e3a4f-3ad3-412e-bee3-76605d14d444",
   "metadata": {},
   "outputs": [
    {
     "data": {
      "text/plain": [
       "(50, 9)"
      ]
     },
     "execution_count": 76,
     "metadata": {},
     "output_type": "execute_result"
    }
   ],
   "source": [
    "(weight_normed[:, 0][:, np.newaxis] - weight_normed[:, 1:]).shape"
   ]
  },
  {
   "cell_type": "code",
   "execution_count": null,
   "id": "9163633f-16a1-4c1b-9d40-b15730ec52de",
   "metadata": {},
   "outputs": [],
   "source": [
    "dm1 = np.sqrt((weight_normed[:, 0][:, np.newaxis] - weight_normed[:, 1])**2 + \n",
    "            (size_normed[:, 0][:, np.newaxis] - size_normed[:, 1])**2 +\n",
    "            (speed_normed[:, 0][:, np.newaxis] - speed_normed[:, 1])**2)\n",
    "dm1"
   ]
  },
  {
   "cell_type": "markdown",
   "id": "8b2b502f-bd54-4ed9-9f08-6c5bbc4e1875",
   "metadata": {},
   "source": [
    "#### Plot 3,2 plots of weights, sizes, and speed of the mice\n",
    "\n",
    "1st row - raw data\n",
    "\n",
    "2nd row - normalized data"
   ]
  },
  {
   "cell_type": "code",
   "execution_count": 57,
   "id": "d3a7f30f-ae70-4f86-bf39-5454286f4184",
   "metadata": {},
   "outputs": [],
   "source": [
    "import matplotlib.pyplot as plt"
   ]
  },
  {
   "cell_type": "code",
   "execution_count": 75,
   "id": "abca22b1-4703-4722-b8dc-868a7b58ff8f",
   "metadata": {
    "scrolled": true
   },
   "outputs": [
    {
     "data": {
      "text/plain": [
       "<matplotlib.colorbar.Colorbar at 0x12699cca0>"
      ]
     },
     "execution_count": 75,
     "metadata": {},
     "output_type": "execute_result"
    },
    {
     "data": {
      "image/png": "[encoded data removed]",
      "text/plain": [
       "<Figure size 640x480 with 10 Axes>"
      ]
     },
     "metadata": {},
     "output_type": "display_data"
    }
   ],
   "source": [
    "fig, axs = plt.subplots(2, 3, sharey='row')\n",
    "\n",
    "# raw data\n",
    "for ii, var in enumerate([weight, size, speed]):\n",
    "    p = axs[0, ii].pcolormesh(var, vmin=1, vmax=19)\n",
    "    plt.colorbar(p)\n",
    "\n",
    "# normalized data\n",
    "for ii, var in enumerate([weight_normed, size_normed, speed_normed]):\n",
    "    p = axs[1, ii].pcolormesh(var, cmap='Reds', vmin=-2, vmax=2)\n",
    "plt.colorbar(p)\n"
   ]
  },
  {
   "cell_type": "code",
   "execution_count": 84,
   "id": "ac7abc88-97e1-4690-8fc2-e8daea6b4451",
   "metadata": {
    "scrolled": true
   },
   "outputs": [
    {
     "data": {
      "text/plain": [
       "([<matplotlib.axis.XTick at 0x136b2d810>,\n",
       "  <matplotlib.axis.XTick at 0x136b2d7e0>,\n",
       "  <matplotlib.axis.XTick at 0x136b2d030>,\n",
       "  <matplotlib.axis.XTick at 0x136b87640>,\n",
       "  <matplotlib.axis.XTick at 0x136b87d90>,\n",
       "  <matplotlib.axis.XTick at 0x136b879a0>,\n",
       "  <matplotlib.axis.XTick at 0x136bb10f0>,\n",
       "  <matplotlib.axis.XTick at 0x136bb1ba0>,\n",
       "  <matplotlib.axis.XTick at 0x136bb2650>],\n",
       " [Text(0, 0, 'M1'),\n",
       "  Text(1, 0, 'M2'),\n",
       "  Text(2, 0, 'M3'),\n",
       "  Text(3, 0, 'M4'),\n",
       "  Text(4, 0, 'M5'),\n",
       "  Text(5, 0, 'M6'),\n",
       "  Text(6, 0, 'M7'),\n",
       "  Text(7, 0, 'M8'),\n",
       "  Text(8, 0, 'M9')])"
      ]
     },
     "execution_count": 84,
     "metadata": {},
     "output_type": "execute_result"
    },
    {
     "data": {
      "image/png": "[encoded data removed]",
      "text/plain": [
       "<Figure size 640x480 with 2 Axes>"
      ]
     },
     "metadata": {},
     "output_type": "display_data"
    }
   ],
   "source": [
    "plt.pcolormesh(dm1)\n",
    "plt.colorbar(label='Euc-distance for M1')\n",
    "plt.xticks(np.arange(9), ['M1', 'M2', 'M3', 'M4', 'M5', 'M6', 'M7', 'M8', 'M9'] )"
   ]
  },
  {
   "cell_type": "markdown",
   "id": "da211414-febf-427a-bfe5-f272d26450ec",
   "metadata": {},
   "source": [
    "# Pandas"
   ]
  },
  {
   "cell_type": "markdown",
   "id": "5ba08fd6-c136-4344-87a7-0e476fcf9ca3",
   "metadata": {},
   "source": [
    "### Create a dataframe for each variable"
   ]
  },
  {
   "cell_type": "code",
   "execution_count": 86,
   "id": "0de359e2-3d21-4840-b4f2-fa692d019856",
   "metadata": {},
   "outputs": [],
   "source": [
    "import pandas as pd"
   ]
  },
  {
   "cell_type": "code",
   "execution_count": 97,
   "id": "f7c561e1-8037-4a53-8a2f-3315779534cb",
   "metadata": {},
   "outputs": [
    {
     "data": {
      "text/plain": [
       "0      9.338757\n",
       "1      9.674873\n",
       "2     10.551671\n",
       "3     10.545008\n",
       "4      8.632719\n",
       "5      5.549533\n",
       "6      6.364024\n",
       "7     10.184827\n",
       "8     14.283741\n",
       "9     10.909602\n",
       "10    10.417079\n",
       "11    12.725455\n",
       "12     6.133062\n",
       "13    10.696806\n",
       "14     6.486173\n",
       "15     5.805655\n",
       "16     7.036188\n",
       "17    12.416604\n",
       "18     9.710495\n",
       "19    12.975592\n",
       "20    10.137529\n",
       "21    12.767360\n",
       "22     7.433341\n",
       "23    14.041358\n",
       "24    12.025597\n",
       "25     8.575210\n",
       "26     7.865794\n",
       "27    13.931702\n",
       "28     6.969469\n",
       "29     8.435808\n",
       "30     5.354839\n",
       "31     9.557799\n",
       "32    13.488327\n",
       "33     5.359164\n",
       "34    13.705523\n",
       "35     5.214389\n",
       "36    13.764297\n",
       "37    13.138879\n",
       "38     8.918619\n",
       "39    13.765738\n",
       "40     9.971300\n",
       "41    13.514810\n",
       "42     5.143535\n",
       "43    12.096565\n",
       "44     6.331179\n",
       "45    10.492020\n",
       "46     7.802315\n",
       "47     9.362419\n",
       "48     6.767174\n",
       "49     5.264484\n",
       "Name: M1, dtype: float64"
      ]
     },
     "execution_count": 97,
     "metadata": {},
     "output_type": "execute_result"
    }
   ],
   "source": [
    "weight_df = pd.DataFrame(data=weight, columns=['M1', 'M2', 'M3', 'M4', 'M5', 'M6', 'M7', 'M8', 'M9', 'M10'])\n",
    "size_df = pd.DataFrame(data=size, columns=['M1', 'M2', 'M3', 'M4', 'M5', 'M6', 'M7', 'M8', 'M9', 'M10'])\n",
    "speed_df = pd.DataFrame(data=speed, columns=['M1', 'M2', 'M3', 'M4', 'M5', 'M6', 'M7', 'M8', 'M9', 'M10'])\n",
    "\n",
    "weight_df.loc[:, 'M1']\n",
    "weight_df.M1"
   ]
  },
  {
   "cell_type": "code",
   "execution_count": null,
   "id": "2217c586-318b-42fd-9ce0-9ac551f8e462",
   "metadata": {},
   "outputs": [],
   "source": []
  },
  {
   "cell_type": "code",
   "execution_count": null,
   "id": "5d23d28a-fd39-4713-a59a-a7c9c1fc73fe",
   "metadata": {},
   "outputs": [],
   "source": []
  },
  {
   "cell_type": "code",
   "execution_count": null,
   "id": "d4c4c9ec-3c70-4ca7-a881-40beee63a85b",
   "metadata": {},
   "outputs": [],
   "source": []
  },
  {
   "cell_type": "code",
   "execution_count": null,
   "id": "003b1759-fa70-4a43-80a7-7d820339f274",
   "metadata": {},
   "outputs": [],
   "source": []
  }
 ],
 "metadata": {
  "kernelspec": {
   "display_name": "Python 3 (ipykernel)",
   "language": "python",
   "name": "python3"
  },
  "language_info": {
   "codemirror_mode": {
    "name": "ipython",
    "version": 3
   },
   "file_extension": ".py",
   "mimetype": "text/x-python",
   "name": "python",
   "nbconvert_exporter": "python",
   "pygments_lexer": "ipython3",
   "version": "3.10.13"
  }
 },
 "nbformat": 4,
 "nbformat_minor": 5
}
