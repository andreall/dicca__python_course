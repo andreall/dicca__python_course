{
 "cells": [
  {
   "cell_type": "markdown",
   "id": "37ed9ba5-a88e-4360-9222-15da52d107d1",
   "metadata": {},
   "source": [
    "### Exercise\n",
    "\n",
    "We will analyze the similarities between different mouses using the euclidean distance"
   ]
  },
  {
   "cell_type": "code",
   "execution_count": 2,
   "id": "15bb5878-30c5-4987-8e14-9c24c12315d1",
   "metadata": {},
   "outputs": [],
   "source": [
    "import numpy as np"
   ]
  },
  {
   "cell_type": "code",
   "execution_count": 8,
   "id": "6157a304-a1ca-42fb-a67c-e5e7aac260f1",
   "metadata": {},
   "outputs": [],
   "source": [
    "weight = np.random.uniform(5, 15, (50, 10)) # gr\n",
    "size = np.random.uniform(5, 20, (50, 10)) # cm\n",
    "speed = np.random.randint(1, 5, (50, 10)) # m/s  "
   ]
  },
  {
   "attachments": {
    "16468c44-c92f-44fb-83b1-024eaba87104.png": {
     "image/png": "[encoded data removed]"
    }
   },
   "cell_type": "markdown",
   "id": "5e1c0f52-e923-4c23-82a3-656ade089216",
   "metadata": {},
   "source": [
    "Euclidean distance\n",
    "\n",
    "![Screenshot 2024-03-25 at 09.44.22.png](attachment:16468c44-c92f-44fb-83b1-024eaba87104.png)\n",
    "\n",
    "\n",
    "So a single mouse if defined by its weight, size and speed and their evolution in time. We have 10 mice and 50 measurements in time."
   ]
  },
  {
   "cell_type": "code",
   "execution_count": 11,
   "id": "c29bf6fb-ea7f-4104-aa0a-74faee575323",
   "metadata": {},
   "outputs": [],
   "source": [
    "def np_normalize_var(var):\n",
    "    var_normed = (var - np.mean(var)) / np.std(var)\n",
    "\n",
    "    return var_normed"
   ]
  },
  {
   "cell_type": "code",
   "execution_count": 22,
   "id": "d46a1cda-a089-4de3-8050-3b40691ada5c",
   "metadata": {},
   "outputs": [],
   "source": [
    "weight_normed = np_normalize_var(weight)\n",
    "size_normed = np_normalize_var(size)\n",
    "speed_normed = np_normalize_var(speed)"
   ]
  },
  {
   "cell_type": "markdown",
   "id": "b2352eac-2bae-4531-a824-ab1ea6ae600b",
   "metadata": {},
   "source": [
    "### Comparison of M1 with M2"
   ]
  },
  {
   "cell_type": "code",
   "execution_count": 26,
   "id": "042dbd70-539e-451f-8e30-4937f3921251",
   "metadata": {},
   "outputs": [
    {
     "data": {
      "text/plain": [
       "array([1.0732668 , 1.99810538, 2.99723068, 2.11849686, 2.09035024,\n",
       "       2.1702486 , 2.5583806 , 1.87460492, 2.90646417, 3.27042974,\n",
       "       1.94356312, 3.11662298, 1.95509689, 3.05289279, 2.67457492,\n",
       "       1.98574121, 1.77538931, 2.53073659, 2.22696904, 2.33061125,\n",
       "       1.64217803, 3.6798199 , 2.78914259, 2.53161656, 3.40591097,\n",
       "       2.39963944, 1.70943978, 3.12031267, 3.19399039, 3.6254302 ,\n",
       "       2.73527243, 2.6636074 , 3.31793604, 2.18744038, 2.36071979,\n",
       "       2.93550908, 2.065443  , 1.32750051, 2.22451639, 2.28603377,\n",
       "       1.2189191 , 2.29971404, 2.47751645, 3.47854975, 3.01573271,\n",
       "       2.70217319, 2.67941981, 1.48121391, 1.79681591, 1.13592686])"
      ]
     },
     "execution_count": 26,
     "metadata": {},
     "output_type": "execute_result"
    }
   ],
   "source": [
    "d = np.sqrt((weight_normed[:, 0] - weight_normed[:, 1])**2 + \n",
    "            (size_normed[:, 0] - size_normed[:, 1])**2 +\n",
    "            (speed_normed[:, 0] - speed_normed[:, 1])**2)\n",
    "d"
   ]
  },
  {
   "cell_type": "markdown",
   "id": "7e7ed141-81b0-4f38-a431-b313d1519ca0",
   "metadata": {},
   "source": [
    "### Comparison of M1 with the rest of the mice"
   ]
  },
  {
   "cell_type": "code",
   "execution_count": 39,
   "id": "8fb71110-5f47-4a92-be6e-f9c44a993dab",
   "metadata": {},
   "outputs": [
    {
     "data": {
      "text/plain": [
       "(50,)"
      ]
     },
     "execution_count": 39,
     "metadata": {},
     "output_type": "execute_result"
    }
   ],
   "source": [
    "weight_normed[:, 0].shape # the first column is an array of 50 values without (row, column) structure"
   ]
  },
  {
   "cell_type": "code",
   "execution_count": 42,
   "id": "1088e878-b086-4177-8ed7-42a39f387435",
   "metadata": {},
   "outputs": [
    {
     "data": {
      "text/plain": [
       "(50, 1)"
      ]
     },
     "execution_count": 42,
     "metadata": {},
     "output_type": "execute_result"
    }
   ],
   "source": [
    "# Reshape the array to (50, 1)\n",
    "weight_normed[:, 0][:, np.newaxis].shape"
   ]
  },
  {
   "cell_type": "code",
   "execution_count": 44,
   "id": "5d43c238-ee1f-4e54-9599-8213087c342d",
   "metadata": {},
   "outputs": [
    {
     "data": {
      "text/plain": [
       "(50, 1)"
      ]
     },
     "execution_count": 44,
     "metadata": {},
     "output_type": "execute_result"
    }
   ],
   "source": [
    "np.reshape(weight_normed[:, 0], (50, 1)).shape"
   ]
  },
  {
   "cell_type": "code",
   "execution_count": 48,
   "id": "158e3a4f-3ad3-412e-bee3-76605d14d444",
   "metadata": {},
   "outputs": [
    {
     "data": {
      "text/plain": [
       "(50, 9)"
      ]
     },
     "execution_count": 48,
     "metadata": {},
     "output_type": "execute_result"
    }
   ],
   "source": [
    "(weight_normed[:, 0][:, np.newaxis] - weight_normed[:, 1:]).shape"
   ]
  },
  {
   "cell_type": "code",
   "execution_count": 51,
   "id": "da69300b-bf56-47e8-9a85-ad17c71795bd",
   "metadata": {},
   "outputs": [
    {
     "data": {
      "text/plain": [
       "array([[1.0732668 , 2.70201502, 1.73878137, 2.13791584, 2.90025936,\n",
       "        2.96991118, 1.99641766, 1.5682299 , 2.09528417],\n",
       "       [1.99810538, 1.76885439, 1.04328749, 3.74882196, 2.72200797,\n",
       "        2.62529372, 3.02668766, 2.73931291, 1.14877375],\n",
       "       [2.99723068, 2.0465186 , 2.80775766, 2.0358912 , 2.78943447,\n",
       "        0.69834745, 2.69270428, 1.05642279, 3.02723416],\n",
       "       [2.11849686, 1.60424016, 2.03285783, 2.80517459, 3.21988373,\n",
       "        2.96364512, 1.98088494, 2.06729858, 1.96943299],\n",
       "       [2.09035024, 0.95707363, 2.74059032, 3.19376034, 2.809453  ,\n",
       "        3.01924193, 2.42883915, 1.19062365, 3.5369077 ],\n",
       "       [2.1702486 , 2.67223134, 2.99858679, 3.86725051, 3.63020187,\n",
       "        2.15778164, 2.83112067, 2.81752607, 2.84817687],\n",
       "       [2.5583806 , 2.91692086, 1.62112269, 1.99009099, 2.47234203,\n",
       "        3.67164881, 2.9659916 , 1.28549972, 2.75492071],\n",
       "       [1.87460492, 2.63433104, 2.9671951 , 3.16514126, 3.01592676,\n",
       "        3.23534287, 1.45183723, 3.05296099, 1.98656497],\n",
       "       [2.90646417, 2.8774498 , 2.09416358, 1.92495185, 0.84477537,\n",
       "        1.16097327, 1.9170481 , 0.90742194, 2.29026615],\n",
       "       [3.27042974, 3.04159747, 0.86037038, 2.11801532, 2.89325542,\n",
       "        1.09252917, 1.44241745, 2.21045232, 2.25294446],\n",
       "       [1.94356312, 2.72833588, 0.81108415, 2.98465429, 2.23351802,\n",
       "        2.31768494, 3.26047776, 2.48670408, 1.07131455],\n",
       "       [3.11662298, 2.22191743, 2.83804279, 1.78025101, 1.56987243,\n",
       "        2.99037045, 1.73407252, 2.59583998, 1.97101615],\n",
       "       [1.95509689, 3.09184592, 2.2740137 , 3.08400089, 2.37064073,\n",
       "        4.12382017, 1.82728669, 3.2120424 , 1.10152023],\n",
       "       [3.05289279, 1.51141083, 1.53242049, 2.19753107, 2.59340997,\n",
       "        2.96643912, 2.0418975 , 1.89240809, 1.57298625],\n",
       "       [2.67457492, 1.74598144, 2.10570458, 1.80393137, 3.08355187,\n",
       "        3.13676716, 2.08650114, 3.3883278 , 2.33820266],\n",
       "       [1.98574121, 2.20050791, 1.89920733, 2.34115237, 2.17733909,\n",
       "        2.53269737, 2.33331173, 1.75110903, 2.42439189],\n",
       "       [1.77538931, 2.70529614, 2.77893246, 0.9783505 , 2.1179504 ,\n",
       "        3.75722313, 2.8576915 , 1.07945946, 2.74184775],\n",
       "       [2.53073659, 1.55584994, 2.58332248, 1.80405791, 3.17798823,\n",
       "        2.5870562 , 2.43124769, 1.86071945, 1.75716501],\n",
       "       [2.22696904, 1.19256466, 1.20173275, 2.57208305, 0.98002024,\n",
       "        1.46816073, 1.30596473, 2.67282763, 2.32497476],\n",
       "       [2.33061125, 0.57214748, 1.76294463, 2.19412246, 1.05988041,\n",
       "        2.89832975, 2.9189858 , 2.63648448, 3.73557424],\n",
       "       [1.64217803, 3.45358635, 3.37510783, 1.98157082, 3.48563176,\n",
       "        2.78943431, 3.68011465, 2.54729466, 0.82216081],\n",
       "       [3.6798199 , 3.83434962, 2.12514525, 1.92909236, 1.89166287,\n",
       "        3.71969408, 1.46637795, 4.25522447, 0.89275822],\n",
       "       [2.78914259, 1.2956025 , 2.32098716, 2.29119095, 2.35335555,\n",
       "        0.31344257, 2.31418813, 0.69776775, 2.54481446],\n",
       "       [2.53161656, 3.09708125, 2.47764028, 1.60835615, 1.72577759,\n",
       "        1.5741544 , 1.30659776, 1.70258711, 0.93550413],\n",
       "       [3.40591097, 2.14050495, 2.84443241, 3.2583886 , 1.72226857,\n",
       "        1.74042494, 2.59988747, 2.86385636, 1.22847711],\n",
       "       [2.39963944, 2.33736804, 3.08205785, 1.86257192, 1.52710273,\n",
       "        2.08485357, 2.12103186, 1.76296392, 0.82117272],\n",
       "       [1.70943978, 3.05070805, 0.94249276, 3.60417145, 2.37923246,\n",
       "        3.47002982, 1.16679329, 0.95566227, 1.03827033],\n",
       "       [3.12031267, 1.95563395, 1.77361414, 3.1748357 , 0.88812903,\n",
       "        2.60274815, 2.56884182, 0.87229008, 0.4917696 ],\n",
       "       [3.19399039, 4.23685257, 2.34173083, 1.66042689, 1.26547893,\n",
       "        2.56231487, 1.75590676, 1.43318527, 3.56119642],\n",
       "       [3.6254302 , 2.74811332, 2.95182462, 3.27330714, 3.13890212,\n",
       "        3.55810566, 0.98899476, 1.85109666, 0.54722719],\n",
       "       [2.73527243, 1.38677076, 2.33207699, 1.19128873, 2.06627324,\n",
       "        3.26283698, 2.57324053, 3.23196557, 3.12323175],\n",
       "       [2.6636074 , 2.3915782 , 1.45673127, 2.75311255, 3.16653317,\n",
       "        3.4004562 , 2.86644251, 1.67673386, 3.7456033 ],\n",
       "       [3.31793604, 3.94070335, 3.2523719 , 1.10838253, 1.96140453,\n",
       "        2.47949359, 3.38696482, 2.83394631, 2.87131524],\n",
       "       [2.18744038, 2.18712991, 3.13350199, 1.14400316, 3.73170659,\n",
       "        3.97227972, 2.62342292, 0.06642893, 1.99318186],\n",
       "       [2.36071979, 0.72525809, 3.25009047, 1.63821492, 1.29738703,\n",
       "        2.49527774, 3.36861702, 1.57010016, 2.55927255],\n",
       "       [2.93550908, 2.63612929, 2.94997131, 2.43828273, 2.83376268,\n",
       "        4.3782285 , 3.03268131, 5.01373719, 2.43826531],\n",
       "       [2.065443  , 2.91193374, 3.2868285 , 2.54213252, 3.8499239 ,\n",
       "        1.93814238, 3.01827808, 1.62708268, 3.52318016],\n",
       "       [1.32750051, 2.00120212, 1.99256951, 1.52541541, 0.5032712 ,\n",
       "        1.21098204, 2.02511049, 2.52701248, 3.2379538 ],\n",
       "       [2.22451639, 2.10134142, 3.40120128, 1.60834424, 2.06801911,\n",
       "        3.30100612, 2.15864154, 1.91480698, 3.3227873 ],\n",
       "       [2.28603377, 2.55597636, 3.23901705, 3.02283562, 0.49296201,\n",
       "        2.05094668, 2.52372388, 1.69250441, 2.24417609],\n",
       "       [1.2189191 , 0.40558623, 0.82398326, 1.32139858, 2.77665459,\n",
       "        2.6032783 , 2.32155803, 2.09687017, 2.16324383],\n",
       "       [2.29971404, 3.04256606, 2.75818024, 2.56913112, 2.69905431,\n",
       "        3.27066262, 1.15239682, 0.99002264, 1.18786542],\n",
       "       [2.47751645, 0.7904405 , 1.80036845, 3.24607885, 2.63824755,\n",
       "        2.54023534, 3.55377075, 2.0443361 , 0.62811766],\n",
       "       [3.47854975, 3.10643199, 1.29127592, 2.98166686, 1.72991622,\n",
       "        1.54118197, 0.9436516 , 3.41797368, 2.27273445],\n",
       "       [3.01573271, 3.05495495, 3.05445864, 3.00243855, 2.98775784,\n",
       "        3.66350304, 3.00755178, 3.90290251, 3.5979114 ],\n",
       "       [2.70217319, 0.79533801, 2.82798529, 2.06648351, 2.24924563,\n",
       "        2.96071754, 2.77519122, 4.05580974, 2.88348027],\n",
       "       [2.67941981, 3.19298072, 3.04525344, 1.65360668, 2.26533901,\n",
       "        0.24765501, 1.14073928, 2.31528419, 2.57121604],\n",
       "       [1.48121391, 1.98188726, 3.19404389, 2.30045101, 1.96280263,\n",
       "        1.27495972, 2.42027275, 1.5390602 , 2.1545287 ],\n",
       "       [1.79681591, 1.85650304, 1.429244  , 2.68966428, 3.21917439,\n",
       "        2.67630332, 2.83435102, 2.59283454, 0.21537649],\n",
       "       [1.13592686, 2.89166661, 3.47917282, 3.3138084 , 4.75150499,\n",
       "        4.47863038, 3.38370874, 3.75230732, 3.11124288]])"
      ]
     },
     "execution_count": 51,
     "metadata": {},
     "output_type": "execute_result"
    }
   ],
   "source": [
    "dm1 = np.sqrt((weight_normed[:, 0][:, np.newaxis] - weight_normed[:, 1:])**2 + \n",
    "            (size_normed[:, 0][:, np.newaxis] - size_normed[:, 1:])**2 +\n",
    "            (speed_normed[:, 0][:, np.newaxis] - speed_normed[:, 1:])**2)\n",
    "dm1"
   ]
  }
 ],
 "metadata": {
  "kernelspec": {
   "display_name": "Python 3 (ipykernel)",
   "language": "python",
   "name": "python3"
  },
  "language_info": {
   "codemirror_mode": {
    "name": "ipython",
    "version": 3
   },
   "file_extension": ".py",
   "mimetype": "text/x-python",
   "name": "python",
   "nbconvert_exporter": "python",
   "pygments_lexer": "ipython3",
   "version": "3.10.13"
  }
 },
 "nbformat": 4,
 "nbformat_minor": 5
}
